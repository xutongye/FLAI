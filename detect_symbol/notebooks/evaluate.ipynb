{
 "cells": [
  {
   "cell_type": "code",
   "execution_count": 1,
   "metadata": {},
   "outputs": [],
   "source": [
    "%load_ext autoreload\n",
    "%autoreload 2\n",
    "\n",
    "%matplotlib inline"
   ]
  },
  {
   "cell_type": "markdown",
   "metadata": {
    "heading_collapsed": true
   },
   "source": [
    "# 目标检测任务的评价指标"
   ]
  },
  {
   "cell_type": "markdown",
   "metadata": {
    "hidden": true
   },
   "source": [
    "1. 处理模型输出\n",
    "    1. 对模型输出，筛选出得分（confidence或f1_score）高于阈值的预测\n",
    "    2. 对筛选出的预测做 NMS，得到要保留的预测"
   ]
  },
  {
   "cell_type": "markdown",
   "metadata": {
    "hidden": true
   },
   "source": [
    "2. 预测与目标的匹配（我们称“击中”）：\n",
    "    - 经步骤1得到的 prediction (pred)，检查每个 pred 是否击中以及击中哪一个 ground truth object (gto)\n",
    "    - 检查某个 pred 是否击中以及击中哪个 gto 的方法：\n",
    "        1. 找出与该 pred 类别相同的 gto (记为gto_c)\n",
    "        2. 计算该 pred 与各 gto_c 的 IoU\n",
    "        3. 若各 IoU 都不大于阈值 (hit_IoU_threshold)，则认为该 pred 没有击中任何 gto\n",
    "        4. 若存在大于阈值的 IoU，找出 IoU 最大的那个 gto_c，则认为该 pred 击中了该 gto_c\n",
    "    - 跟据此方法：一个 pred 可以不击中任何或者仅击中一个 gto；一个 gto 可以不被任何或者被一个或者被多个 pred 击中"
   ]
  },
  {
   "cell_type": "markdown",
   "metadata": {
    "hidden": true
   },
   "source": [
    "3. 统计tp，fp，fn\n",
    "    1. 按照类别分别统计\n",
    "    2. 统计tp\n",
    "        - tp = number of gto's those are hit by any pred\n",
    "    3. 统计fp\n",
    "        - fp = prediction - tp\n",
    "    4. 统计fn\n",
    "        - fn = truth - tp"
   ]
  },
  {
   "cell_type": "markdown",
   "metadata": {
    "hidden": true
   },
   "source": [
    "4. precision-recall curve\n",
    "    - 按类别统计precision和recall\n",
    "    - 对每个类别，计算 filt_threshold 从小到大取不同值时的 tp,prediction,truch\n",
    "    - 在每个类别，每个 filt_threshold 处，计算 precision 和 recall\n",
    "        - precision = tp/prediction\n",
    "        - recall = tp/truth\n",
    "    - precition recall curve\n",
    "        - 每个类别单独一条曲线\n",
    "        - 对一个类别，以 recall 为横轴，precision 为纵轴，绘制曲线\n",
    "    - 注意：\n",
    "        - 曲线的平滑程度取决于 filt_threshold 的值的密度，它越密则曲线越平滑\n",
    "        - 不同的情况对 filt_threshold 的密度的要求是不同的\n",
    "            - 有的模型对 filt_threshold 不敏感，例如模型训练的很好，它对目标预测的confdience都非常高（接近1），对非目标预测的confidence都非常低（接近0），那么 filt_threshold 要设置的很密才能看到 prc 的连续变化\n",
    "            - 有的模型对 filt_threshold 比较敏感，例如模型训练的一般，它对目标预测和对非目标预测的confidence的区分不那么明显，那么 filt_threshold 并不需要设置的很密就能看到 prc 的连续变化"
   ]
  },
  {
   "cell_type": "markdown",
   "metadata": {
    "hidden": true
   },
   "source": [
    "4. 计算AP\n",
    "    - 对每个类别（每条prc曲线）计算一个AP\n",
    "    - 计算AP的方法：\n",
    "        1. 选取11个recall值：\\[0, 0.1, 0.2, ..., 1.0\\]\n",
    "        2. 对每个recall值，找出该值右侧曲线中的最大precision值\n",
    "        3. 对找出的11个最大precision值求平均，为该条prc曲线的AP"
   ]
  },
  {
   "cell_type": "markdown",
   "metadata": {
    "hidden": true
   },
   "source": [
    "5. 计算 mAP\n",
    "    - 所有类别的AP的平均值"
   ]
  },
  {
   "cell_type": "markdown",
   "metadata": {},
   "source": [
    "# import"
   ]
  },
  {
   "cell_type": "code",
   "execution_count": 2,
   "metadata": {},
   "outputs": [],
   "source": [
    "import torch"
   ]
  },
  {
   "cell_type": "code",
   "execution_count": 3,
   "metadata": {},
   "outputs": [],
   "source": [
    "from ..exp import databunch\n",
    "from ..exp import anchors_loss_metrics\n",
    "from ..exp import resnet_ssd\n",
    "from ..exp import interpretation"
   ]
  },
  {
   "cell_type": "code",
   "execution_count": 4,
   "metadata": {},
   "outputs": [],
   "source": [
    "from fastai.basic_train import Learner"
   ]
  },
  {
   "cell_type": "code",
   "execution_count": 5,
   "metadata": {},
   "outputs": [],
   "source": [
    "import numpy as np"
   ]
  },
  {
   "cell_type": "code",
   "execution_count": 6,
   "metadata": {},
   "outputs": [],
   "source": [
    "from torch import tensor"
   ]
  },
  {
   "cell_type": "code",
   "execution_count": 7,
   "metadata": {},
   "outputs": [],
   "source": [
    "from fastprogress.fastprogress import master_bar,progress_bar"
   ]
  },
  {
   "cell_type": "code",
   "execution_count": 8,
   "metadata": {},
   "outputs": [],
   "source": [
    "import collections"
   ]
  },
  {
   "cell_type": "code",
   "execution_count": 9,
   "metadata": {},
   "outputs": [],
   "source": [
    "from matplotlib import pyplot as plt"
   ]
  },
  {
   "cell_type": "code",
   "execution_count": 10,
   "metadata": {},
   "outputs": [],
   "source": [
    "from IPython.core import debugger as idb"
   ]
  },
  {
   "cell_type": "markdown",
   "metadata": {},
   "source": [
    "# functions"
   ]
  },
  {
   "cell_type": "markdown",
   "metadata": {},
   "source": [
    "## get_TpFpFn"
   ]
  },
  {
   "cell_type": "code",
   "execution_count": 11,
   "metadata": {
    "code_folding": []
   },
   "outputs": [],
   "source": [
    "# export\n",
    "def count(L):\n",
    "    '''\n",
    "    统计tensor中各元素出现的次数,返回一个字典，键为各元素，值为各元素出现的次数\n",
    "    '''\n",
    "    result = collections.defaultdict(int)\n",
    "    if L is not None:\n",
    "        for x in L:\n",
    "            result[x.item()] += 1\n",
    "    return result"
   ]
  },
  {
   "cell_type": "code",
   "execution_count": 12,
   "metadata": {
    "code_folding": []
   },
   "outputs": [],
   "source": [
    "# export\n",
    "def get_TpFpFn(dl,model,n_clas,hit_thres,filt_thress,device,gaf):\n",
    "    '''\n",
    "    参数：\n",
    "    --dl：一个dataloader，这是计算tpfpfn的数据集\n",
    "    --model：模型\n",
    "    --n_clas：类别数\n",
    "    --hit_thres：预测框与目标框的IoU高于该值则认为该预测框击中（或称匹配）上了该目标\n",
    "    --filt_thress：一列filt_threshold，得分高于该阈值的预测框才会参加 nms\n",
    "    --device：torch.device对象\n",
    "    --gaf：一个GridAnchor_Funcs对象（见exp/anchors_loss_metrics.py）\n",
    "    '''\n",
    "    pd = torch.zeros((len(filt_thress),n_clas)) # prediction\n",
    "    gt = torch.zeros((len(filt_thress),n_clas)) # ground truth\n",
    "    tp = torch.zeros((len(filt_thress),n_clas)) # true positive\n",
    "    \n",
    "    # 遍历dl中的每个databunch\n",
    "    mb = master_bar(dl)\n",
    "    mb.main_bar.comment = 'batchs'\n",
    "    for x,y in mb:\n",
    "        # 模型做预测，并处理其输出\n",
    "        netOut = model(x.to(device))\n",
    "        \n",
    "        # 由低到高遍历不同的filt_thres\n",
    "        cb = progress_bar(filt_thress, parent=mb) # child bar\n",
    "        mb.child.comment = 'filt_thress'\n",
    "        for i,filt_thres in enumerate(cb): \n",
    "            # pb: prediction batch\n",
    "            pb_boxs, _, pb_cats, _, _ = interpretation.netouts2preds(batchOut=netOut,\n",
    "                                                                        gaf=gaf,\n",
    "                                                                        composeConfPrb=True,\n",
    "                                                                        filt_thres=filt_thres,\n",
    "                                                                        ov_thres=0.2,\n",
    "                                                                        despiteCat=True)\n",
    "            # 遍历databunch中每一条数据\n",
    "            for idx in range(0,x.shape[0]):\n",
    "                p_boxs = pb_boxs[idx] # p: prediction\n",
    "                p_cats = pb_cats[idx]\n",
    "                \n",
    "                if len(p_cats)>0:\n",
    "                    count_pred = count(p_cats)\n",
    "                    pred_cats = [k for k in count_pred.keys()]\n",
    "                    pred_cnts = tensor([v for v in count_pred.values()])\n",
    "                    pd[i][pred_cats] += pred_cnts\n",
    "                \n",
    "                gt_boxs,gt_clas = y[0][idx],y[1][idx] # gt: ground truch\n",
    "                keep = anchors_loss_metrics.get_y(gt_boxs)\n",
    "                if len(keep)>0:\n",
    "                    gt_boxs = gt_boxs[keep]\n",
    "                    gt_clas = gt_clas[keep]\n",
    "                    gt_boxs = (gt_boxs + 1) / 2\n",
    "                    gt_clas = gt_clas - 1\n",
    "\n",
    "                    count_gt = count(gt_clas)\n",
    "                    gt_cats = [k for k in count_gt.keys()]\n",
    "                    gt_cnts = tensor([v for v in count_gt.values()])\n",
    "                    gt[i][gt_cats] += gt_cnts\n",
    "                \n",
    "                if len(keep)==0 or len(p_cats)==0:\n",
    "                    continue\n",
    "                \n",
    "                \n",
    "                #---------------------------------------------------------------------------------\n",
    "                #-------- 击中匹配 ---------------------------------------------------------------\n",
    "                #---------------------------------------------------------------------------------\n",
    "                # 1. 计算IoU匹配矩阵\n",
    "                ious = anchors_loss_metrics.iou(p_boxs[:,None,:],gt_boxs[None,:,:])\n",
    "                # 2. 仅保留IoU高于阈值的匹配\n",
    "                ious = torch.where(ious > hit_thres, ious, tensor(0.,device=device))\n",
    "\n",
    "                # 3. 仅保留类别一致的匹配\n",
    "                mask_sameClas = (gt_clas[None,:]==p_cats[:,None])\n",
    "                ious_sameClas = torch.where(mask_sameClas,ious,tensor(0.,device=device))\n",
    "\n",
    "                # 4. 每个pred仅保留IoU最大的一个匹配，作为hit\n",
    "                hit_yes = ious_sameClas.sum(axis=1)>0\n",
    "                hit_who = torch.argmax(ious_sameClas,axis=1)\n",
    "                hit_who = hit_who[hit_yes]\n",
    "                \n",
    "                if len(hit_who)==0:\n",
    "                    continue\n",
    " \n",
    "                # 5. 统计被击中的gt，即使被多次击中也只统计一次\n",
    "                who_isHit = tensor(list(set(hit_who)))\n",
    "                who_isHit = gt_clas[who_isHit]\n",
    "                \n",
    "                # 6. 统计\n",
    "                count_tp = count(who_isHit)\n",
    "                tp_cats = [k for k in count_tp.keys()]\n",
    "                tp_cnts = tensor([v for v in count_tp.values()])\n",
    "                tp[i][tp_cats] += tp_cnts\n",
    "                \n",
    "    fp = pd - tp\n",
    "    fn = gt - tp\n",
    "                \n",
    "    return tp, fp, fn, pd, gt"
   ]
  },
  {
   "cell_type": "markdown",
   "metadata": {
    "heading_collapsed": true
   },
   "source": [
    "## get_recall_precision"
   ]
  },
  {
   "cell_type": "code",
   "execution_count": 13,
   "metadata": {
    "hidden": true
   },
   "outputs": [],
   "source": [
    "def get_recall_precision(tp, pd, gt):\n",
    "    '''\n",
    "    参数：\n",
    "    --tp：true positive\n",
    "    --pd：prediction\n",
    "    --gt：ground truth\n",
    "    '''\n",
    "    eps = np.where(pd==0,1,0)\n",
    "    precision = (tp+eps)/(pd+eps)\n",
    "\n",
    "    eps = np.where(gt==0,1,0)\n",
    "    recall = (tp+eps)/(gt+eps)\n",
    "    \n",
    "    return precision, recall"
   ]
  },
  {
   "cell_type": "markdown",
   "metadata": {
    "heading_collapsed": true
   },
   "source": [
    "## draw_rpc"
   ]
  },
  {
   "cell_type": "code",
   "execution_count": 94,
   "metadata": {
    "hidden": true
   },
   "outputs": [],
   "source": [
    "def find_bestIdx(recall,precision):\n",
    "    # 图上各点到原点的距离的平方\n",
    "    r2 =  pow(precision,2)+pow(recall,2)\n",
    "    max_ids = r2.argmax(0)  \n",
    "    return max_ids \n",
    "\n",
    "def draw_rpc(recall,precision,thress):\n",
    "    '''\n",
    "    按各类别绘制 recall-precision 曲线，标出每条曲线上的最优点，打印最优点对应的阈值及recall和precision。\n",
    "    并返回这些最优点对应的阈值。\n",
    "    '''\n",
    "    max_ids = find_bestIdx(recall,precision)\n",
    "    \n",
    "    n_clas = recall.shape[1]\n",
    "    rows = int(n_clas/4)\n",
    "    _, axs = plt.subplots(rows,4,figsize=(20,5*rows))\n",
    "    axs = axs.flatten()\n",
    "    \n",
    "    for i in range(n_clas):\n",
    "        axs[i].plot(recall[:,i], precision[:,i])\n",
    "        \n",
    "        maxid = max_ids[i]\n",
    "        axs[i].scatter(recall[maxid,i],precision[maxid,i],color='red')\n",
    "        axs[i].set_title('best@{:.3f},prcn={:.2f},rcal={:.2f}'.format(thress[maxid],precision[maxid,i],recall[maxid,i]))\n",
    "        \n",
    "    return thress[max_ids]"
   ]
  },
  {
   "cell_type": "markdown",
   "metadata": {
    "heading_collapsed": true
   },
   "source": [
    "## AP：Average Precision"
   ]
  },
  {
   "cell_type": "code",
   "execution_count": 89,
   "metadata": {
    "hidden": true
   },
   "outputs": [],
   "source": [
    "def get_AP(recall,precision):\n",
    "    '''\n",
    "    按各类别计算 average precision\n",
    "    '''\n",
    "    n_clas = recall.shape[1]\n",
    "    ap = torch.zeros(n_clas)\n",
    "    for i in range(0,n_clas):\n",
    "        recall_clas_i = recall[:,i]\n",
    "        precision_clas_i = precision[:,i]\n",
    "        \n",
    "        prec_at_rec = []\n",
    "        for recall_level in torch.linspace(0, 1, 11):\n",
    "            try:\n",
    "                right_idx = torch.where(recall_clas_i >= recall_level)[0]\n",
    "                right_max = max(precision_clas_i[right_idx])\n",
    "            except ValueError:\n",
    "                right_max = 0.0\n",
    "            prec_at_rec.append(right_max)\n",
    "        ap[i] = tensor(prec_at_rec).mean()\n",
    "        \n",
    "    return ap"
   ]
  },
  {
   "cell_type": "markdown",
   "metadata": {},
   "source": [
    "# test"
   ]
  },
  {
   "cell_type": "markdown",
   "metadata": {
    "heading_collapsed": true
   },
   "source": [
    "## 准备learner"
   ]
  },
  {
   "cell_type": "code",
   "execution_count": 16,
   "metadata": {
    "hidden": true
   },
   "outputs": [],
   "source": [
    "device = torch.device('cuda')"
   ]
  },
  {
   "cell_type": "code",
   "execution_count": 17,
   "metadata": {
    "hidden": true
   },
   "outputs": [],
   "source": [
    "data = databunch.get_databunch(data_root='./data/tiny_ds_20200331',bs=64,device=device,cache=False) "
   ]
  },
  {
   "cell_type": "code",
   "execution_count": 18,
   "metadata": {
    "hidden": true
   },
   "outputs": [],
   "source": [
    "classes = data.train_ds.y.classes\n",
    "classes = classes[1:]\n",
    "num_clas = len(classes)"
   ]
  },
  {
   "cell_type": "code",
   "execution_count": 19,
   "metadata": {
    "hidden": true
   },
   "outputs": [],
   "source": [
    "gvs,_,_,avs,_,_ = anchors_loss_metrics.get_ga444()\n",
    "gaf = anchors_loss_metrics.GridAnchor_Funcs(gvs,avs,device)"
   ]
  },
  {
   "cell_type": "code",
   "execution_count": 20,
   "metadata": {
    "hidden": true
   },
   "outputs": [],
   "source": [
    "model = resnet_ssd.get_resnet18_1ssd()"
   ]
  },
  {
   "cell_type": "code",
   "execution_count": 21,
   "metadata": {
    "hidden": true
   },
   "outputs": [],
   "source": [
    "learn = Learner(data,model)"
   ]
  },
  {
   "cell_type": "code",
   "execution_count": 22,
   "metadata": {
    "hidden": true
   },
   "outputs": [],
   "source": [
    "with open('./run_log/20200420/run_0.pth','rb') as f:\n",
    "    learn.load(f)"
   ]
  },
  {
   "cell_type": "code",
   "execution_count": 23,
   "metadata": {
    "hidden": true
   },
   "outputs": [],
   "source": [
    "if learn.data.device.type=='cuda':\n",
    "    learn.model = torch.nn.DataParallel(learn.model,device_ids=[0,1,2,3])"
   ]
  },
  {
   "cell_type": "code",
   "execution_count": 24,
   "metadata": {
    "hidden": true
   },
   "outputs": [],
   "source": [
    "learn.model.eval();"
   ]
  },
  {
   "cell_type": "markdown",
   "metadata": {
    "heading_collapsed": true
   },
   "source": [
    "## tp,fp,fn"
   ]
  },
  {
   "cell_type": "code",
   "execution_count": 25,
   "metadata": {
    "hidden": true
   },
   "outputs": [],
   "source": [
    "dl = data.train_dl"
   ]
  },
  {
   "cell_type": "code",
   "execution_count": null,
   "metadata": {
    "hidden": true
   },
   "outputs": [],
   "source": [
    "filt_thress = torch.linspace(0, 1, 1000)"
   ]
  },
  {
   "cell_type": "code",
   "execution_count": 26,
   "metadata": {
    "hidden": true,
    "scrolled": false
   },
   "outputs": [
    {
     "data": {
      "text/html": [
       "\n",
       "    <div>\n",
       "        <style>\n",
       "            /* Turns off some styling */\n",
       "            progress {\n",
       "                /* gets rid of default border in Firefox and Opera. */\n",
       "                border: none;\n",
       "                /* Needs to be in here for Safari polyfill so background images work as expected. */\n",
       "                background-size: auto;\n",
       "            }\n",
       "            .progress-bar-interrupted, .progress-bar-interrupted::-webkit-progress-bar {\n",
       "                background: #F44336;\n",
       "            }\n",
       "        </style>\n",
       "      <progress value='4' class='' max='12', style='width:300px; height:20px; vertical-align: middle;'></progress>\n",
       "      33.33% [4/12 1:19:28<2:38:57 batchs]\n",
       "    </div>\n",
       "    \n",
       "\n",
       "\n",
       "    <div>\n",
       "        <style>\n",
       "            /* Turns off some styling */\n",
       "            progress {\n",
       "                /* gets rid of default border in Firefox and Opera. */\n",
       "                border: none;\n",
       "                /* Needs to be in here for Safari polyfill so background images work as expected. */\n",
       "                background-size: auto;\n",
       "            }\n",
       "            .progress-bar-interrupted, .progress-bar-interrupted::-webkit-progress-bar {\n",
       "                background: #F44336;\n",
       "            }\n",
       "        </style>\n",
       "      <progress value='430' class='' max='1000', style='width:300px; height:20px; vertical-align: middle;'></progress>\n",
       "      43.00% [430/1000 12:19<16:19 filt_thress]\n",
       "    </div>\n",
       "    "
      ],
      "text/plain": [
       "<IPython.core.display.HTML object>"
      ]
     },
     "metadata": {},
     "output_type": "display_data"
    },
    {
     "name": "stderr",
     "output_type": "stream",
     "text": [
      "IOPub message rate exceeded.\n",
      "The notebook server will temporarily stop sending output\n",
      "to the client in order to avoid crashing it.\n",
      "To change this limit, set the config variable\n",
      "`--NotebookApp.iopub_msg_rate_limit`.\n",
      "\n",
      "Current values:\n",
      "NotebookApp.iopub_msg_rate_limit=1000.0 (msgs/sec)\n",
      "NotebookApp.rate_limit_window=3.0 (secs)\n",
      "\n"
     ]
    }
   ],
   "source": [
    "# 运行该函数很耗时，如果已经运行过并且已经保存结果，则直接加载保存结果\n",
    "# tp, fp, fn, pd, gt = get_TpFpFn(dl=dl,\n",
    "#                       model=learn.model,\n",
    "#                       n_clas=num_clas,device=device,\n",
    "#                       hit_thres=0.5, filt_thress=filt_thress,\n",
    "#                       gaf=gaf)"
   ]
  },
  {
   "cell_type": "code",
   "execution_count": null,
   "metadata": {
    "hidden": true
   },
   "outputs": [],
   "source": [
    "# tp,fp,fn保存文件\n",
    "fname = './tp_fp_fn.pt'"
   ]
  },
  {
   "cell_type": "code",
   "execution_count": 46,
   "metadata": {
    "hidden": true
   },
   "outputs": [],
   "source": [
    "# # 计算tp,fp,fn非常耗时，将它们保存起来\n",
    "# tp_fp_fn = dict(tp=tp,fp=fp,fn=fn,pred=pd,truth=gt,thress=filt_thress)\n",
    "# torch.save(tp_fp_fn, fname)"
   ]
  },
  {
   "cell_type": "code",
   "execution_count": 53,
   "metadata": {
    "hidden": true
   },
   "outputs": [],
   "source": [
    "# 将保存的数据加载回来\n",
    "tp_fp_fn = torch.load(fname)\n",
    "\n",
    "tp = tp_fp_fn['tp']\n",
    "fp = tp_fp_fn['fp']\n",
    "fn = tp_fp_fn['fn']\n",
    "pd = tp_fp_fn['pred']\n",
    "gt = tp_fp_fn['truth']\n",
    "thress = tp_fp_fn['thress']"
   ]
  },
  {
   "cell_type": "markdown",
   "metadata": {},
   "source": [
    "## prc (precision recall curve)"
   ]
  },
  {
   "cell_type": "code",
   "execution_count": 57,
   "metadata": {},
   "outputs": [],
   "source": [
    "recall,precision = get_recall_precision(tp,pd,gt)"
   ]
  },
  {
   "cell_type": "code",
   "execution_count": 75,
   "metadata": {
    "scrolled": true
   },
   "outputs": [
    {
     "data": {
      "image/png": "[encoded data removed]",
      "text/plain": [
       "<Figure size 1440x1440 with 16 Axes>"
      ]
     },
     "metadata": {
      "needs_background": "light"
     },
     "output_type": "display_data"
    }
   ],
   "source": [
    "best_thress = draw_rpc(recall,precision,thress)"
   ]
  },
  {
   "cell_type": "code",
   "execution_count": 77,
   "metadata": {},
   "outputs": [
    {
     "data": {
      "text/plain": [
       "tensor(0.9942)"
      ]
     },
     "execution_count": 77,
     "metadata": {},
     "output_type": "execute_result"
    }
   ],
   "source": [
    "# 各类别的最优阈值的平均\n",
    "best_thress.mean()"
   ]
  },
  {
   "cell_type": "markdown",
   "metadata": {},
   "source": [
    "## ap and mAp"
   ]
  },
  {
   "cell_type": "code",
   "execution_count": 91,
   "metadata": {
    "scrolled": false
   },
   "outputs": [
    {
     "data": {
      "text/plain": [
       "tensor([0.9063, 1.0000, 1.0000, 0.9761, 0.9072, 1.0000, 1.0000, 0.9091, 1.0000,\n",
       "        0.9067, 1.0000, 0.9080, 0.9091, 0.9091, 0.9082, 0.8992])"
      ]
     },
     "execution_count": 91,
     "metadata": {},
     "output_type": "execute_result"
    }
   ],
   "source": [
    "ap = get_AP(recall,precision)\n",
    "ap"
   ]
  },
  {
   "cell_type": "code",
   "execution_count": 92,
   "metadata": {},
   "outputs": [
    {
     "data": {
      "text/plain": [
       "tensor(0.9462)"
      ]
     },
     "execution_count": 92,
     "metadata": {},
     "output_type": "execute_result"
    }
   ],
   "source": [
    "mAp = ap.mean()\n",
    "mAp"
   ]
  },
  {
   "cell_type": "markdown",
   "metadata": {},
   "source": [
    "# export"
   ]
  },
  {
   "cell_type": "code",
   "execution_count": null,
   "metadata": {},
   "outputs": [],
   "source": [
    "!python ../../notebook2script.py --fname 'evaluate.ipynb' --outputDir '../exp/'"
   ]
  }
 ],
 "metadata": {
  "kernelspec": {
   "display_name": "Python 3",
   "language": "python",
   "name": "python3"
  },
  "language_info": {
   "codemirror_mode": {
    "name": "ipython",
    "version": 3
   },
   "file_extension": ".py",
   "mimetype": "text/x-python",
   "name": "python",
   "nbconvert_exporter": "python",
   "pygments_lexer": "ipython3",
   "version": "3.8.5"
  },
  "toc": {
   "base_numbering": 1,
   "nav_menu": {},
   "number_sections": true,
   "sideBar": true,
   "skip_h1_title": false,
   "title_cell": "Table of Contents",
   "title_sidebar": "Contents",
   "toc_cell": false,
   "toc_position": {},
   "toc_section_display": true,
   "toc_window_display": false
  }
 },
 "nbformat": 4,
 "nbformat_minor": 2
}
