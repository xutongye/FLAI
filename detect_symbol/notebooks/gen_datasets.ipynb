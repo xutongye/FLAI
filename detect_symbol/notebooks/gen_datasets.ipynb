{
 "cells": [
  {
   "cell_type": "markdown",
   "metadata": {
    "heading_collapsed": true
   },
   "source": [
    "# imports"
   ]
  },
  {
   "cell_type": "code",
   "execution_count": null,
   "metadata": {
    "hidden": true
   },
   "outputs": [],
   "source": [
    "import os"
   ]
  },
  {
   "cell_type": "code",
   "execution_count": null,
   "metadata": {
    "hidden": true
   },
   "outputs": [],
   "source": [
    "import cv2"
   ]
  },
  {
   "cell_type": "code",
   "execution_count": null,
   "metadata": {
    "hidden": true
   },
   "outputs": [],
   "source": [
    "import random"
   ]
  },
  {
   "cell_type": "code",
   "execution_count": null,
   "metadata": {
    "hidden": true
   },
   "outputs": [],
   "source": [
    "import pandas as pd"
   ]
  },
  {
   "cell_type": "code",
   "execution_count": null,
   "metadata": {
    "hidden": true
   },
   "outputs": [],
   "source": [
    "import numpy as np"
   ]
  },
  {
   "cell_type": "markdown",
   "metadata": {},
   "source": [
    "# config"
   ]
  },
  {
   "cell_type": "code",
   "execution_count": null,
   "metadata": {},
   "outputs": [],
   "source": [
    "#原始文件的存放路径\n",
    "g_srcimg_ori_path = './data/src_img/initial'"
   ]
  },
  {
   "cell_type": "code",
   "execution_count": null,
   "metadata": {},
   "outputs": [],
   "source": [
    "#从标记的图片找到的矩形的记录\n",
    "g_boxes_csv_pathfn = './data/src_img/allboxes.csv'"
   ]
  },
  {
   "cell_type": "code",
   "execution_count": null,
   "metadata": {},
   "outputs": [],
   "source": [
    "# 生成的数据集的存放路径\n",
    "g_ds_root = './data/ds_20200426/'"
   ]
  },
  {
   "cell_type": "code",
   "execution_count": null,
   "metadata": {},
   "outputs": [],
   "source": [
    "# 生成的数据集的csv文件名\n",
    "g_ds_csv_fn = 'gends.csv'\n",
    "ds_csv_path = g_ds_root + g_ds_csv_fn"
   ]
  },
  {
   "cell_type": "code",
   "execution_count": null,
   "metadata": {},
   "outputs": [],
   "source": [
    "# 生成的数据集的图片文件夹名\n",
    "g_ds_img_subdir = 'images'\n",
    "ds_img_path = g_ds_root + g_ds_img_subdir"
   ]
  },
  {
   "cell_type": "markdown",
   "metadata": {},
   "source": [
    "# 函数"
   ]
  },
  {
   "cell_type": "code",
   "execution_count": null,
   "metadata": {
    "code_folding": [
     0
    ]
   },
   "outputs": [],
   "source": [
    "def chk_params(data_root_path, boxes_csv_fn, srcimg_ori_path, output_subimg_path, output_ds_csv_fn, params, dbg):\n",
    "    \"\"\"\n",
    "    功能：    \n",
    "        1.检查一下参数是否有效。\n",
    "        2.单层子目录和文件名转换成带目录的完整目录名。 \n",
    "        3.检查调用方传入的params，空缺的值用默认参数补齐。\n",
    "    参数：\n",
    "        data_root_path：存放数据的根目录。\n",
    "        boxes_csv_fn：存放图片符号信息的csv文件。由find_boxes生成。\n",
    "        srcimg_ori_path：存放未标记的原始大图的目录。\n",
    "        output_subimg_path：存放生成的数据集图片的子目录名，在根目录下。\n",
    "        output_ds_csv_fn：存放生成的数据集的csv文件名，在根目录下。\n",
    "        params：调用方指定的控制参数。\n",
    "        dbg：调试信息。\n",
    "    返回值：\n",
    "        1.None/错误信息，成功返回None，否则是错误信息。\n",
    "        2.存放图片的目录的完整目录名\n",
    "        3.生成的csv的完整文件名\n",
    "        4.最用使用控制参数dict。\n",
    "    \"\"\"\n",
    "    \n",
    "    #控制生成的参数\n",
    "    PM = {}\n",
    "    \n",
    "    if '' == data_root_path: \n",
    "        return \"invalid data_root_path\", data_root_path, boxes_csv_fn, srcimg_ori_path, output_subimg_path, output_ds_csv_fn, PM\n",
    "    \n",
    "    if '' == output_ds_csv_fn or output_ds_csv_fn.find('/') >= 0 or output_ds_csv_fn.find('\\\\') >= 0: \n",
    "        return 'invalid output_ds_csv_fn', data_root_path, boxes_csv_fn, srcimg_ori_path, output_subimg_path, output_ds_csv_fn, PM\n",
    "\n",
    "    if '' == boxes_csv_fn: \n",
    "        return 'invalid boxes_csv_fn', data_root_path, boxes_csv_fn, srcimg_ori_path, output_subimg_path, output_ds_csv_fn, PM\n",
    "    \n",
    "    if '' == srcimg_ori_path: \n",
    "        return 'invalid srcimg_ori_path', data_root_path, boxes_csv_fn, srcimg_ori_path, output_subimg_path, output_ds_csv_fn, PM \n",
    "        \n",
    "    if output_subimg_path.find('/') >= 0 or output_subimg_path.find('\\\\') >= 0: \n",
    "        return 'invalid srcimg_ori_path', data_root_path, boxes_csv_fn, srcimg_ori_path, output_subimg_path, output_ds_csv_fn, PM \n",
    "        \n",
    "    if data_root_path[-1] not in ['/', '\\\\']:\n",
    "        data_root_path += '/'\n",
    "        \n",
    "    output_subimg_path = os.path.join(data_root_path, output_subimg_path)\n",
    "    output_ds_csv_fn = os.path.join(data_root_path, output_ds_csv_fn)\n",
    "         \n",
    "    if not os.path.exists(output_subimg_path):\n",
    "        os.makedirs(output_subimg_path)\n",
    "    #print('making dirs:', subimg_path, )\n",
    "     \n",
    "    #global DSSIZE, BLANKP, DSIMGW, DSIMGH, ZOOM, ZOOMSP, WHITE_TH \n",
    "    default_params = {\n",
    "        #总的数据集的数量\n",
    "        'DSSIZE': 10000,\n",
    "        #没有符号的占比\n",
    "        'BLANKP':  0.25,\n",
    "        #数据集图片大小\n",
    "        'DSIMGW': 416,\n",
    "        'DSIMGH': 416,\n",
    "        #如果有缩放，缩放的范围\n",
    "        'ZOOM': [0.9, 1.1],\n",
    "        #多大的比例让两个方向缩放不一致。小于这个值的时候会不一样的时候会不一致。\n",
    "        'ZOOMSP': 0.25,\n",
    "        #如果黑点数量比例小于这个值就放弃掉这个图片。\n",
    "        'WHITE_TH': 20\n",
    "    }\n",
    "    for param in ['DSSIZE', 'BLANKP', 'DSIMGW', 'DSIMGH', 'ZOOM', 'ZOOMSP', 'WHITE_TH']:\n",
    "        #dcode = '%s' % param\n",
    "        #if 'dbg' in param:\n",
    "        #    print('>>>', dcode, eval(dcode, globals()))\n",
    "        #PM[param] = eval(dcode) \n",
    "        if param not in params:\n",
    "            PM[param] = default_params[param] \n",
    "        else:\n",
    "            PM[param] = params[param]\n",
    "     \n",
    "    if 'dbg' in dbg:\n",
    "        print('PM', PM)\n",
    "     \n",
    "    return None, output_subimg_path, output_ds_csv_fn, PM"
   ]
  },
  {
   "cell_type": "code",
   "execution_count": null,
   "metadata": {
    "code_folding": [
     58
    ]
   },
   "outputs": [],
   "source": [
    "def gen_datasets(data_root_path, boxes_csv_fn = './data/allboxes.csv', srcimg_ori_path = './data/src_img/initial'\n",
    "                 , output_subimg_path = 'images', output_ds_csv_fn = 'gends.csv'\n",
    "                 , params = {\n",
    "                    #总的数据集的数量\n",
    "                    'DSSIZE': 10000,\n",
    "                    #没有符号的占比\n",
    "                    'BLANKP': 0.25,\n",
    "                    #数据集图片大小\n",
    "                    'DSIMGW': 416,\n",
    "                    'DSIMGH': 416,\n",
    "                    #缩放的范围\n",
    "                    'ZOOM': [0.9, 1.1],\n",
    "                    #多大的比例让两个方向缩放不一致。小于这个值的时候会不一样的时候会不一致。\n",
    "                    'ZOOMSP': 0.25,\n",
    "                    #如果黑点数量小于这个值就作为全白的图片放弃掉。\n",
    "                    'WHITE_TH': 20\n",
    "                 }\n",
    "                 , dbg = []):\n",
    "    \"\"\"\n",
    "    生成数据集\n",
    "    参数：        \n",
    "        data_root_path存放数据的根目录名。不能为空\n",
    "        boxes_csv_fn：存放图片符号信息的csv文件。由find_boxes生成。不能为空。\n",
    "        srcimg_ori_path：存放未标记的原始大图的目录。不能为空\n",
    "        output_subimg_path：存放生成的数据集图片的子目录名，在根目录下。只能有一层。\n",
    "        output_ds_csv_fn：存放生成的数据集描述信息的csv文件名，在根目录下。默认gends.csv.不能为空。不能带路径名。\n",
    "        param:控制生成的参数。\n",
    "        #dbg:调试信息 \n",
    "    返回值:\n",
    "        1.成功True/失败False\n",
    "        2.错误信息（失败时）/数据集的描述信息（成功时）\n",
    "            数据集描述信息：\n",
    "            {\n",
    "                image: 生成的图片文件名list。\n",
    "                box: list，每个元素与image一一对应，是图片中包含的符号的位置信息的box列表。\n",
    "                cls：list，每个元素与image一一对应，是图片中包含的符号的类型(字符串)列表。\n",
    "                tag：list，每个元素与image一一对应，是图片中包含的符号在原始大图上的位置信息列表。\n",
    "            }\n",
    "        \n",
    "    \"\"\"\n",
    "    #记录下存放图片的子目录的名字,放到文件名里面。\n",
    "    sub_path_raw = output_subimg_path \n",
    "    \n",
    "    err, output_subimg_path, output_ds_csv_fn, PM = chk_params(data_root_path\n",
    "                            , boxes_csv_fn, srcimg_ori_path, output_subimg_path, output_ds_csv_fn, params, dbg)  \n",
    "    #print('pm', PM)\n",
    "    if err is not None: \n",
    "        return False, err\n",
    "    \n",
    "    df = pd.read_csv(boxes_csv_fn)\n",
    "    \n",
    "    cnts = {} \n",
    "    totalcoms = 0\n",
    "    imgs = df.loc[:, 'image'] \n",
    "    boxes = df.loc[:, 'box']\n",
    "    classes = df.loc[:, 'cls']\n",
    "    \n",
    "    #简单统计一下，每张大图里面包含的符号的数量。用于按比例生成相应数量图片。符号越多在数据集中生成的小图也越多。\n",
    "    for i in range(len(imgs)):\n",
    "        img = imgs[i]\n",
    "        cnts[img] = {}\n",
    "        #print(len(eval(boxes[i])))\n",
    "        tbox = eval(boxes[i])\n",
    "        box = []\n",
    "        #转换一下格式!!!!!!!!!!!!!这个原始的格式是y和x是反的，是numpy的格式\n",
    "        for b in tbox:\n",
    "            box.append([b[1], b[0], b[3], b[2]])\n",
    "        clas = eval(classes[i])\n",
    "        cnts[img]['comscnt'] = len(box)\n",
    "        cnts[img]['allbox'] = box\n",
    "        cnts[img]['allcom'] = clas\n",
    "        #记录一下具体的每种符号的数量和位置\n",
    "        cnts[img]['typscnt'] = {}\n",
    "        for j in range(len(clas)):\n",
    "            cls = clas[j]\n",
    "            if cls not in cnts[img]['typscnt']:\n",
    "                cnts[img]['typscnt'][cls] = {'cnt': 0, 'boxes': []}\n",
    "            cnts[img]['typscnt'][cls]['cnt'] = cnts[img]['typscnt'][cls]['cnt'] + 1\n",
    "            cnts[img]['typscnt'][cls]['boxes'].append(box[j])\n",
    "            #if cls not in typscnt:\n",
    "            #    typscnt[cls] = 0\n",
    "            #typscnt[cls] += 1\n",
    "            totalcoms += 1\n",
    "     \n",
    "    if 'prt_info' in dbg:\n",
    "        print('totalcoms:', totalcoms)\n",
    "    \n",
    "    #开始生成 \n",
    "    datasets = {}#记录大图片的里面提取小图的时候的一些信息，位置，大小等。\n",
    "    \n",
    "    #下面这个是最终的结果,小图片的信息\n",
    "    ds = {'image':[], 'box': [], 'cls': [], 'tag': []}\n",
    "    \n",
    "   \n",
    "    for i in range(len(imgs)): \n",
    "        imgfn = imgs[i]\n",
    "        #跳过没有标记的。可能会导致生成的空白图里面包含符号\n",
    "        if cnts[imgfn]['comscnt'] == 0:\n",
    "            if 'dbg' in dbg:\n",
    "                print('ignore:', imgfn)\n",
    "            continue\n",
    "            \n",
    "        #datasets[imgfn] = []\n",
    "        #当前图片应该产生产生的数据集的数量。总数，带有符号的有效的图片，没有符号的空白\n",
    "        total = int(cnts[imgfn]['comscnt'] / totalcoms * PM['DSSIZE'])\n",
    "        blankc = int(PM['BLANKP'] * total)\n",
    "        validc = total - blankc\n",
    "        if 'prt_info' in dbg:\n",
    "            print(imgfn, total, blankc, validc)\n",
    "        \n",
    "        img = cv2.imdecode(np.fromfile(os.path.join(srcimg_ori_path, imgfn), dtype=np.uint8), -1)\n",
    "        imgh, imgw, _ = img.shape\n",
    "        \n",
    "        #生成的数量统计\n",
    "        blanks = 0\n",
    "        valids = 0\n",
    "        trycnt = 0\n",
    "        while True:\n",
    "            #还是没有足够的数据，放弃\n",
    "            if trycnt > PM['DSSIZE']:\n",
    "                break\n",
    "            #数量够了    \n",
    "            if valids > validc and blanks > blankc:\n",
    "                break\n",
    "            trycnt += 1\n",
    "            #随机一个起始点坐标。\n",
    "            x = random.randint(0, imgw - int(PM['DSIMGW'] * PM['ZOOM'][1]))\n",
    "            y = random.randint(0, imgh - int(PM['DSIMGH'] * PM['ZOOM'][1])) \n",
    "            #tozoom = random.random() < PM['IFZOOM']\n",
    "            tozoom = True\n",
    "            fz = 1.0\n",
    "            if tozoom:\n",
    "                fz = random.uniform(PM['ZOOM'][0], PM['ZOOM'][1])#缩放\n",
    "            W = int(PM['DSIMGW'] * fz)\n",
    "            #y方向的缩放产生点不一致\n",
    "            if tozoom and random.random() < PM['ZOOMSP']:\n",
    "                fz = random.uniform(PM['ZOOM'][0], PM['ZOOM'][1])\n",
    "                \n",
    "            H = int(PM['DSIMGH'] * fz) \n",
    "             \n",
    "            simgfn = imgfn + '_s_%d_%d_%d_%d__%d_%d_%d.jpg' % (x, y, x + W, y + H, W, H, len(datasets))\n",
    "            tag = (imgfn, x, y, x + W, y + H, W, H, len(datasets))\n",
    "            if simgfn in datasets:\n",
    "                continue \n",
    "            datasets[simgfn] = []\n",
    "            #看一下小图里面是否有符号\n",
    "            isvalid = False\n",
    "            for k in range(len(cnts[imgfn]['allbox'])):\n",
    "                box = cnts[imgfn]['allbox'][k]\n",
    "                cx = x + W // 2\n",
    "                cy = y + H // 2\n",
    "                #符号坐标\n",
    "                bx = (box[0] + box[2]) // 2\n",
    "                by = (box[1] + box[3]) // 2\n",
    "                bw = box[2] - box[0]\n",
    "                bh = box[3] - box[1]\n",
    "                #符号尺寸肯定小雨图片尺寸\n",
    "                #一个符号完整的存在\n",
    "                if abs(cx - bx) <= (W - bw) // 2 and abs(cy - by) <= (H - bh) // 2:\n",
    "                    #发现了符号了。如果有符号的数据集数量不够就搞一个。\n",
    "                    if valids <= validc:\n",
    "                        isvalid = True\n",
    "                        item = {'com': cnts[imgfn]['allcom'][k], 'box': box, 's': 'v'} \n",
    "                        datasets[simgfn].append(item)\n",
    "                        \n",
    "                    else:#有效的数据集已经够了。记录下来后面抹掉符号。作为空白数据集用\n",
    "                        item = {'com': cnts[imgfn]['allcom'][k], 'box': box, 's': 'b'} \n",
    "                        datasets[simgfn].append(item) \n",
    "                #包含了一部分符号\n",
    "                elif abs(cx - bx) < (W + bw) // 2 and abs(cy - by) < (H + bh) // 2: \n",
    "                    item = {'com': cnts[imgfn]['allcom'][k], 'box': box, 's': 'b'} \n",
    "                    datasets[simgfn].append(item) \n",
    "                else:#完全空白的。可以直接使用的\n",
    "                    pass\n",
    "             \n",
    "            if isvalid:\n",
    "                valids += 1\n",
    "            else:\n",
    "                if blanks > blankc:#空白（没有符号）的数量够了。跳过循环\n",
    "                    continue\n",
    "                blanks += 1\n",
    "           \n",
    "            simg = img.copy()[y : y + H, x : x + W]\n",
    "            simg2 = simg.copy()\n",
    "            simg3 = cv2.resize(simg.copy(), (PM['DSIMGW'], PM['DSIMGH']))#标记图片，转换到标准大小的。\n",
    "            #缩放后转回到标准大小的比例\n",
    "            rx, ry = PM['DSIMGW'] / W, PM['DSIMGH'] / H\n",
    "                 \n",
    "            boxes = []\n",
    "            cls = []\n",
    "            for it in datasets[simgfn]:\n",
    "                if 'prt_info' in dbg: \n",
    "                    print('1ds', simgfn, it)\n",
    "                box = it['box']\n",
    "                if it['s'] == 'v':#包含完整符号，记录下来\n",
    "                    if 'mark' in dbg:\n",
    "                        cv2.rectangle(simg, (box[0] - x, box[1] - y), (box[2] - x, box[3] - y), (0, 0, 255), 4)\n",
    "                        cv2.rectangle(simg3, (int((box[0] - x) * rx), int((box[1] - y) * ry))\n",
    "                                           , (int((box[2] - x) * rx), int((box[3] - y) * ry)), (0, 0, 255), 4)\n",
    "                    #转换到numpy的顺序，先y后x\n",
    "                    #!!!boxes.append([box[1] - y, box[0] - x, box[3] - y, box[2] - x])\n",
    "                    boxes.append([int((box[1] - y) * ry), int((box[0] - x) * rx), int((box[3] - y) * ry), int((box[2] - x) * rx)])\n",
    "                    \n",
    "                    cls.append(it['com'])\n",
    "                    #pass\n",
    "                else: #把其余不完整符号都抹掉\n",
    "                    #print('rectangle', box, x, y) \n",
    "                    if 'mark' in dbg:\n",
    "                        cv2.rectangle(simg, (box[0] - x, box[1] - y), (box[2] - x, box[3] - y), (255, 0, 0), 4)\n",
    "                        cv2.rectangle(simg3, (int((box[0] - x) * rx), int((box[1] - y) * ry))\n",
    "                                           , (int((box[2] - x) * rx), int((box[3] - y) * ry)), (255, 0, 0), 4)\n",
    "                    #抹掉不完整符号的时候可能会有离得比较近的符号被抹掉一小部分。先不管它\n",
    "                    cv2.rectangle(simg2, (box[0] - x, box[1] - y), (box[2] - x, box[3] - y), (255, 255, 255), -1)\n",
    "            \n",
    "            #不包含符号。看一下是不是完全空白的\n",
    "            if not isvalid:\n",
    "                gray = cv2.cvtColor(simg2, cv2.COLOR_BGR2GRAY)\n",
    "                thresh = cv2.threshold(gray, 0, 255, cv2.THRESH_BINARY + cv2.THRESH_OTSU)[1]\n",
    "                dcnt = cv2.countNonZero(thresh)\n",
    "                if 'prt_info' in dbg:        \n",
    "                    print('countnonzero:', dcnt, W * H)                \n",
    "                \n",
    "                if dcnt > W * H - PM['WHITE_TH']:\n",
    "                    if 'prt_info' in dbg:\n",
    "                        print('白板1!!!!!')\n",
    "                    blanks -= 1\n",
    "                    continue\n",
    "                \n",
    "            #cv2.imencode('.jpg', simg)[1].tofile('datasets/mark_' + simgfn)         \n",
    "            #cv2.imencode('.jpg', simg2)[1].tofile('datasets/' + simgfn)      \n",
    "            nfn = '%05d.jpg' % len(ds['image'])\n",
    "            if 'mark' in dbg:\n",
    "                cv2.imencode('.jpg', simg)[1].tofile(os.path.join(output_subimg_path, 'mark_' + nfn))\n",
    "                cv2.imencode('.jpg', simg3)[1].tofile(os.path.join(output_subimg_path, 'mark2_' + nfn))\n",
    "            \n",
    "            #把数据集里面的图片改回到标准尺寸。不用训练过程中专门每次缩放\n",
    "            if W != PM['DSIMGW'] or H != PM['DSIMGH']:\n",
    "                simg2 = cv2.resize(simg2, (PM['DSIMGW'], PM['DSIMGH']))                \n",
    "            cv2.imencode('.jpg', simg2)[1].tofile(os.path.join(output_subimg_path, nfn))\n",
    "            \n",
    "            ds['image'].append(sub_path_raw + '/' + nfn)\n",
    "            ds['box'].append(boxes)\n",
    "            ds['cls'].append(cls)\n",
    "            ds['tag'].append(tag)\n",
    "            \n",
    "             \n",
    "        if 'prt_info' in dbg:\n",
    "            print(valids, blanks, validc, blankc)        \n",
    "        #break\n",
    "    #print(datasets)\n",
    "    df = pd.DataFrame(ds)\n",
    "    df.to_csv(output_ds_csv_fn)  \n",
    "    return True, ds\n",
    "     "
   ]
  },
  {
   "cell_type": "markdown",
   "metadata": {},
   "source": [
    "# 生成"
   ]
  },
  {
   "cell_type": "code",
   "execution_count": null,
   "metadata": {},
   "outputs": [],
   "source": [
    "#默认参数生成\n",
    "gen_datasets(data_root_path = g_ds_root, \n",
    "             boxes_csv_fn = g_boxes_csv_pathfn, \n",
    "             srcimg_ori_path = g_srcimg_ori_path, \n",
    "             output_subimg_path = g_ds_img_subdir, \n",
    "             output_ds_csv_fn = g_ds_csv_fn,\n",
    "             params = {'DSSIZE': 10000,\n",
    "                       'BLANKP': 0.1,\n",
    "                       'DSIMGW': 776,\n",
    "                       'DSIMGH': 776,\n",
    "                       'ZOOM': [0.5, 2],\n",
    "                       'ZOOMSP': 0,\n",
    "                       'WHITE_TH': 20\n",
    "                       }\n",
    "             )"
   ]
  },
  {
   "cell_type": "code",
   "execution_count": null,
   "metadata": {},
   "outputs": [],
   "source": []
  },
  {
   "cell_type": "code",
   "execution_count": null,
   "metadata": {},
   "outputs": [],
   "source": []
  },
  {
   "cell_type": "code",
   "execution_count": null,
   "metadata": {},
   "outputs": [],
   "source": []
  },
  {
   "cell_type": "code",
   "execution_count": null,
   "metadata": {},
   "outputs": [],
   "source": []
  },
  {
   "cell_type": "code",
   "execution_count": null,
   "metadata": {},
   "outputs": [],
   "source": []
  },
  {
   "cell_type": "code",
   "execution_count": null,
   "metadata": {},
   "outputs": [],
   "source": []
  },
  {
   "cell_type": "code",
   "execution_count": null,
   "metadata": {},
   "outputs": [],
   "source": []
  },
  {
   "cell_type": "code",
   "execution_count": null,
   "metadata": {},
   "outputs": [],
   "source": []
  },
  {
   "cell_type": "code",
   "execution_count": null,
   "metadata": {},
   "outputs": [],
   "source": []
  },
  {
   "cell_type": "code",
   "execution_count": null,
   "metadata": {},
   "outputs": [],
   "source": []
  },
  {
   "cell_type": "code",
   "execution_count": null,
   "metadata": {},
   "outputs": [],
   "source": []
  },
  {
   "cell_type": "code",
   "execution_count": null,
   "metadata": {},
   "outputs": [],
   "source": []
  },
  {
   "cell_type": "code",
   "execution_count": null,
   "metadata": {},
   "outputs": [],
   "source": []
  },
  {
   "cell_type": "code",
   "execution_count": null,
   "metadata": {},
   "outputs": [],
   "source": []
  },
  {
   "cell_type": "code",
   "execution_count": null,
   "metadata": {},
   "outputs": [],
   "source": []
  },
  {
   "cell_type": "code",
   "execution_count": null,
   "metadata": {},
   "outputs": [],
   "source": []
  },
  {
   "cell_type": "code",
   "execution_count": null,
   "metadata": {},
   "outputs": [],
   "source": []
  },
  {
   "cell_type": "code",
   "execution_count": null,
   "metadata": {},
   "outputs": [],
   "source": []
  },
  {
   "cell_type": "code",
   "execution_count": null,
   "metadata": {},
   "outputs": [],
   "source": []
  },
  {
   "cell_type": "code",
   "execution_count": null,
   "metadata": {},
   "outputs": [],
   "source": []
  },
  {
   "cell_type": "code",
   "execution_count": null,
   "metadata": {},
   "outputs": [],
   "source": []
  },
  {
   "cell_type": "code",
   "execution_count": null,
   "metadata": {},
   "outputs": [],
   "source": []
  },
  {
   "cell_type": "code",
   "execution_count": null,
   "metadata": {},
   "outputs": [],
   "source": []
  }
 ],
 "metadata": {
  "kernelspec": {
   "display_name": "Python 3",
   "language": "python",
   "name": "python3"
  },
  "language_info": {
   "codemirror_mode": {
    "name": "ipython",
    "version": 3
   },
   "file_extension": ".py",
   "mimetype": "text/x-python",
   "name": "python",
   "nbconvert_exporter": "python",
   "pygments_lexer": "ipython3",
   "version": "3.7.4"
  },
  "toc": {
   "base_numbering": 1,
   "nav_menu": {},
   "number_sections": true,
   "sideBar": true,
   "skip_h1_title": false,
   "title_cell": "Table of Contents",
   "title_sidebar": "Contents",
   "toc_cell": false,
   "toc_position": {},
   "toc_section_display": true,
   "toc_window_display": false
  }
 },
 "nbformat": 4,
 "nbformat_minor": 2
}
