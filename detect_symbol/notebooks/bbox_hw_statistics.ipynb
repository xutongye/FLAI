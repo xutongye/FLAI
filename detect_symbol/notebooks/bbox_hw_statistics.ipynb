{
 "cells": [
  {
   "cell_type": "markdown",
   "metadata": {},
   "source": [
    "# import"
   ]
  },
  {
   "cell_type": "code",
   "execution_count": null,
   "metadata": {},
   "outputs": [],
   "source": [
    "import pandas as pd"
   ]
  },
  {
   "cell_type": "code",
   "execution_count": null,
   "metadata": {},
   "outputs": [],
   "source": [
    "import matplotlib.pyplot as plt"
   ]
  },
  {
   "cell_type": "code",
   "execution_count": null,
   "metadata": {},
   "outputs": [],
   "source": [
    "# export\n",
    "from matplotlib import patches"
   ]
  },
  {
   "cell_type": "code",
   "execution_count": null,
   "metadata": {},
   "outputs": [],
   "source": [
    "from matplotlib.colors import cnames"
   ]
  },
  {
   "cell_type": "code",
   "execution_count": null,
   "metadata": {},
   "outputs": [],
   "source": [
    "import re"
   ]
  },
  {
   "cell_type": "code",
   "execution_count": null,
   "metadata": {},
   "outputs": [],
   "source": [
    "import numpy as np"
   ]
  },
  {
   "cell_type": "code",
   "execution_count": null,
   "metadata": {},
   "outputs": [],
   "source": [
    "import math"
   ]
  },
  {
   "cell_type": "code",
   "execution_count": null,
   "metadata": {},
   "outputs": [],
   "source": [
    "from IPython.core import debugger as idb"
   ]
  },
  {
   "cell_type": "markdown",
   "metadata": {
    "heading_collapsed": true
   },
   "source": [
    "# config"
   ]
  },
  {
   "cell_type": "code",
   "execution_count": null,
   "metadata": {
    "hidden": true
   },
   "outputs": [],
   "source": [
    "bbox_csv_fn = './data/src_img/allboxes.csv'"
   ]
  },
  {
   "cell_type": "markdown",
   "metadata": {
    "heading_collapsed": true
   },
   "source": [
    "# bbox height and width statistics"
   ]
  },
  {
   "cell_type": "markdown",
   "metadata": {
    "heading_collapsed": true,
    "hidden": true
   },
   "source": [
    "## functions"
   ]
  },
  {
   "cell_type": "code",
   "execution_count": null,
   "metadata": {
    "code_folding": [
     1
    ],
    "hidden": true
   },
   "outputs": [],
   "source": [
    "pat_num = re.compile(r'\\d+')\n",
    "def total_bboxs_in_df(df,bbox_col:str):\n",
    "    \n",
    "    def str2list(string):\n",
    "        res = pat_num.findall(string)\n",
    "        res = list(map(np.long, res))\n",
    "        res = np.array(res).reshape(-1,4)\n",
    "        res = res.tolist()\n",
    "        return res\n",
    "    \n",
    "    total_bboxes = []\n",
    "    for string in df[bbox_col]:\n",
    "        total_bboxes += str2list(string)\n",
    "    \n",
    "    return total_bboxes"
   ]
  },
  {
   "cell_type": "code",
   "execution_count": null,
   "metadata": {
    "code_folding": [
     0
    ],
    "hidden": true
   },
   "outputs": [],
   "source": [
    "def bboxs2hws(bboxs:np.ndarray):\n",
    "    hws = np.zeros((bboxs.shape[0],2))\n",
    "    hws[:,0] = bboxs[:,2] - bboxs[:,0]\n",
    "    hws[:,1] = bboxs[:,3] - bboxs[:,1]\n",
    "    \n",
    "    return hws"
   ]
  },
  {
   "cell_type": "code",
   "execution_count": null,
   "metadata": {
    "hidden": true
   },
   "outputs": [],
   "source": [
    "# export\n",
    "def draw_rect(ax, x,y,w,h, color='white',lw=2):    \n",
    "    patch = ax.add_patch(patches.Rectangle((x,y), w, h, fill=False, edgecolor=color, lw=lw))\n",
    "    return patch"
   ]
  },
  {
   "cell_type": "markdown",
   "metadata": {
    "hidden": true
   },
   "source": [
    "## process"
   ]
  },
  {
   "cell_type": "markdown",
   "metadata": {
    "heading_collapsed": true,
    "hidden": true
   },
   "source": [
    "### 加载数据"
   ]
  },
  {
   "cell_type": "code",
   "execution_count": null,
   "metadata": {
    "code_folding": [],
    "hidden": true
   },
   "outputs": [],
   "source": [
    "# 读入csv\n",
    "df = pd.read_csv(bbox_csv_fn,index_col=0)\n",
    "df.head()"
   ]
  },
  {
   "cell_type": "code",
   "execution_count": null,
   "metadata": {
    "code_folding": [],
    "hidden": true
   },
   "outputs": [],
   "source": [
    "# 获取所有bbox数据，转换为np.ndarray格式\n",
    "bboxes = total_bboxs_in_df(df,'box')\n",
    "bboxes = np.array(bboxes)\n",
    "bboxes.shape"
   ]
  },
  {
   "cell_type": "markdown",
   "metadata": {
    "hidden": true
   },
   "source": [
    "### 观察高和宽的分布"
   ]
  },
  {
   "cell_type": "code",
   "execution_count": null,
   "metadata": {
    "code_folding": [],
    "hidden": true
   },
   "outputs": [],
   "source": [
    "# 提取bbox的高和宽\n",
    "hws = bboxs2hws(bboxes)\n",
    "hws"
   ]
  },
  {
   "cell_type": "code",
   "execution_count": null,
   "metadata": {
    "code_folding": [
     0
    ],
    "hidden": true
   },
   "outputs": [],
   "source": [
    "# 获取h,w的最大、最小值\n",
    "h_min,w_min = hws.min(0)\n",
    "h_max,w_max = hws.max(0)\n",
    "(h_min,h_max),(w_min,w_max)"
   ]
  },
  {
   "cell_type": "code",
   "execution_count": null,
   "metadata": {
    "code_folding": [
     0
    ],
    "hidden": true
   },
   "outputs": [],
   "source": [
    "# 将h在[h_min,h_max]范围内等比划分\n",
    "hN = 4 # 等比划分为4段\n",
    "hs = np.logspace(math.log10(h_min),math.log10(h_max),2*hN+1)\n",
    "hs"
   ]
  },
  {
   "cell_type": "code",
   "execution_count": null,
   "metadata": {
    "code_folding": [
     0
    ],
    "hidden": true
   },
   "outputs": [],
   "source": [
    "# 将w在[w_min,w_max]范围内等比划分\n",
    "wN = 4 # 等比划分为4段\n",
    "ws = np.logspace(math.log10(w_min),math.log10(w_max),2*wN+1)\n",
    "ws"
   ]
  },
  {
   "cell_type": "code",
   "execution_count": null,
   "metadata": {
    "code_folding": [
     0
    ],
    "hidden": true
   },
   "outputs": [],
   "source": [
    "# 在h和w方向上，方格中心与边界的倍率范围\n",
    "print(f'h:+-{pow(h_max/h_min,1/(2*hN))}')\n",
    "print(f'w:+-{pow(w_max/w_min,1/(2*wN))}')"
   ]
  },
  {
   "cell_type": "code",
   "execution_count": null,
   "metadata": {
    "code_folding": [],
    "hidden": true
   },
   "outputs": [],
   "source": [
    "# 绘制：(h,w)点，包围矩形，分方格，方格中心\n",
    "\n",
    "plt.figure(figsize=(6,6))\n",
    "\n",
    "# 绘制所有(h,w)点\n",
    "plt.scatter(hws[:,0],hws[:,1],linewidths=1,);\n",
    "\n",
    "# 绘制包围所有(h,w)点的最小矩形\n",
    "plt.plot([h_min,h_min],[w_min,w_max],'r')\n",
    "plt.plot([h_max,h_max],[w_min,w_max],'r')\n",
    "plt.plot([h_min,h_max],[w_min,w_min],'r')\n",
    "plt.plot([h_min,h_max],[w_max,w_max],'r')\n",
    "\n",
    "# 将上述矩形划分为 hN*wH 个方格\n",
    "for h in hs[2:-1:2]:\n",
    "    plt.plot([h,h],[w_min,w_max],'r')\n",
    "for w in ws[2:-1:2]:\n",
    "    plt.plot([h_min,h_max],[w,w],'r')\n",
    "\n",
    "# 绘制每个方格的中心\n",
    "for h in hs[1:-1:2]:\n",
    "    for w in ws[1:-1:2]:\n",
    "        plt.scatter([h],[w],c='r')\n",
    "        \n",
    "plt.xscale('log')\n",
    "plt.yscale('log')"
   ]
  },
  {
   "cell_type": "markdown",
   "metadata": {
    "hidden": true
   },
   "source": [
    "### 用户指定方格"
   ]
  },
  {
   "cell_type": "code",
   "execution_count": null,
   "metadata": {
    "code_folding": [],
    "hidden": true
   },
   "outputs": [],
   "source": [
    "# 指定你选定哪些方格\n",
    "grids = [[0,0],[0,1],[1,0],[1,1],[1,2],[2,1],[2,2],[2,3],[3,2],[3,3]]"
   ]
  },
  {
   "cell_type": "code",
   "execution_count": null,
   "metadata": {
    "code_folding": [
     0
    ],
    "hidden": true
   },
   "outputs": [],
   "source": [
    "# 绘制：用户选定方格的中心\n",
    "\n",
    "plt.figure(figsize=(6,6))\n",
    "\n",
    "# 绘制所有(h,w)点\n",
    "plt.scatter(hws[:,0],hws[:,1],linewidths=1,);\n",
    "\n",
    "# 绘制包围所有(h,w)点的最小矩形\n",
    "plt.plot([h_min,h_min],[w_min,w_max],'r')\n",
    "plt.plot([h_max,h_max],[w_min,w_max],'r')\n",
    "plt.plot([h_min,h_max],[w_min,w_min],'r')\n",
    "plt.plot([h_min,h_max],[w_max,w_max],'r')\n",
    "\n",
    "# 将上述矩形划分为 hN*wH 个方格\n",
    "for h in hs[2:-1:2]:\n",
    "    plt.plot([h,h],[w_min,w_max],'r')\n",
    "for w in ws[2:-1:2]:\n",
    "    plt.plot([h_min,h_max],[w,w],'r')\n",
    "\n",
    "# 绘制选定的方格的中心\n",
    "for c in grids:\n",
    "    h = hs[1:-1:2][c[0]]\n",
    "    w = ws[1:-1:2][c[1]]\n",
    "    plt.scatter([h],[w],c='r')\n",
    "\n",
    "plt.xscale('log')\n",
    "plt.yscale('log')"
   ]
  },
  {
   "cell_type": "code",
   "execution_count": null,
   "metadata": {
    "code_folding": [
     0
    ],
    "hidden": true
   },
   "outputs": [],
   "source": [
    "# 打印用户选定方格的(h,w)\n",
    "slt_hws = [] # SeLecTed Heights and WidthS\n",
    "for i,g in zip(range(len(grids)),grids):\n",
    "    h = hs[1:-1:2][g[0]]\n",
    "    w = ws[1:-1:2][g[1]]\n",
    "    print(f'{i}: {h,w}')\n",
    "    slt_hws += [[h,w]]\n",
    "slt_hws = np.array(slt_hws)"
   ]
  },
  {
   "cell_type": "code",
   "execution_count": null,
   "metadata": {
    "code_folding": [],
    "hidden": true,
    "scrolled": true
   },
   "outputs": [],
   "source": [
    "# 绘制用户选定的h,w\n",
    "_,ax = plt.subplots(1,1,figsize=(10,10))\n",
    "\n",
    "cns = list(cnames.keys()) # Color NameS\n",
    "for i in range(slt_hws.shape[0]):\n",
    "    h,w = slt_hws[i,:]\n",
    "    rcx,rcy = (np.random.random(2)-0.5)/5 + 1 # 对矩形位置加一定的随机偏移，防止重叠在一起难以观察\n",
    "    tmp = draw_rect(ax, -w/2*rcx,-h/2*rcy,w,h, color=cns[25+i],lw=3) # cns[#+i]中的#是为了从cns中选一组辨认度高的颜色，你大可换其值\n",
    "    tmp.set_label(f'{i}:{int(w),int(h)}')\n",
    "\n",
    "hmax,wmax = slt_hws.max(0)\n",
    "plt.xlim(-wmax/2*1.5,wmax/2*1.5)\n",
    "plt.ylim(-hmax/2*1.3,hmax/2*1.3)\n",
    "ax.legend();"
   ]
  },
  {
   "cell_type": "markdown",
   "metadata": {},
   "source": [
    "# export"
   ]
  },
  {
   "cell_type": "code",
   "execution_count": null,
   "metadata": {},
   "outputs": [],
   "source": [
    "!python ../../notebook2script.py --fname 'bbox_hw_statistics.ipynb' --outputDir '../exp/'"
   ]
  }
 ],
 "metadata": {
  "kernelspec": {
   "display_name": "Python 3",
   "language": "python",
   "name": "python3"
  },
  "language_info": {
   "codemirror_mode": {
    "name": "ipython",
    "version": 3
   },
   "file_extension": ".py",
   "mimetype": "text/x-python",
   "name": "python",
   "nbconvert_exporter": "python",
   "pygments_lexer": "ipython3",
   "version": "3.8.5"
  },
  "toc": {
   "base_numbering": 1,
   "nav_menu": {},
   "number_sections": true,
   "sideBar": true,
   "skip_h1_title": false,
   "title_cell": "Table of Contents",
   "title_sidebar": "Contents",
   "toc_cell": false,
   "toc_position": {},
   "toc_section_display": true,
   "toc_window_display": false
  }
 },
 "nbformat": 4,
 "nbformat_minor": 2
}
