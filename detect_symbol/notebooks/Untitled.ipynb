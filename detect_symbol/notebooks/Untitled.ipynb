{
 "cells": [
  {
   "cell_type": "markdown",
   "metadata": {},
   "source": [
    "# import"
   ]
  },
  {
   "cell_type": "code",
   "execution_count": 2,
   "metadata": {},
   "outputs": [],
   "source": [
    "import pandas as pd"
   ]
  },
  {
   "cell_type": "code",
   "execution_count": 3,
   "metadata": {},
   "outputs": [],
   "source": [
    "from matplotlib import pyplot as plt"
   ]
  },
  {
   "cell_type": "code",
   "execution_count": 4,
   "metadata": {},
   "outputs": [],
   "source": [
    "import numpy as np"
   ]
  },
  {
   "cell_type": "code",
   "execution_count": 5,
   "metadata": {},
   "outputs": [],
   "source": [
    "import torch"
   ]
  },
  {
   "cell_type": "code",
   "execution_count": 6,
   "metadata": {},
   "outputs": [],
   "source": [
    "from torch import tensor"
   ]
  },
  {
   "cell_type": "markdown",
   "metadata": {
    "heading_collapsed": true
   },
   "source": [
    "# functions"
   ]
  },
  {
   "cell_type": "code",
   "execution_count": 7,
   "metadata": {
    "hidden": true
   },
   "outputs": [],
   "source": [
    "def show_csv_log(csv_fn,ylim=(0,1)):\n",
    "    run = pd.read_csv(csv_fn)\n",
    "    \n",
    "    plt.plot(run.train_loss);\n",
    "    plt.plot(run.valid_loss);\n",
    "    \n",
    "    plt.ylim(*ylim)\n",
    "    \n",
    "    tl_min = np.array(run.train_loss).min(axis=0)\n",
    "    tl_mIdx = np.array(run.train_loss).argmin(axis=0)\n",
    "    print(f'min train_loss: {tl_min} at epoch {tl_mIdx}')\n",
    "    \n",
    "    vl_min = np.array(run.valid_loss).min(axis=0)\n",
    "    vl_mIdx = np.array(run.valid_loss).argmin(axis=0)\n",
    "    print(f'min valid_loss: {vl_min} at epoch {vl_mIdx}')\n",
    "    \n",
    "    print(f'loss and metrics: \\n{run.iloc[vl_mIdx]}')\n",
    "    \n",
    "    return run"
   ]
  },
  {
   "cell_type": "markdown",
   "metadata": {},
   "source": [
    "# test"
   ]
  },
  {
   "cell_type": "code",
   "execution_count": 8,
   "metadata": {},
   "outputs": [],
   "source": [
    "log_root = './run_log/'"
   ]
  },
  {
   "cell_type": "code",
   "execution_count": 12,
   "metadata": {
    "scrolled": false
   },
   "outputs": [
    {
     "name": "stdout",
     "output_type": "stream",
     "text": [
      "min train_loss: 0.102477 at epoch 284\n",
      "min valid_loss: 0.102323 at epoch 291\n",
      "loss and metrics: \n",
      "epoch              291\n",
      "train_loss    0.103763\n",
      "valid_loss    0.102323\n",
      "clas_L           9e-05\n",
      "cent_L        0.072961\n",
      "hw_L          0.025175\n",
      "pConf_L       0.000697\n",
      "nConf_L         0.0034\n",
      "clas_acc             1\n",
      "cent_d        0.000581\n",
      "hw_r           1.01324\n",
      "time             05:24\n",
      "Name: 291, dtype: object\n"
     ]
    },
    {
     "data": {
      "image/png": "[encoded data removed]",
      "text/plain": [
       "<Figure size 432x288 with 1 Axes>"
      ]
     },
     "metadata": {
      "needs_background": "light"
     },
     "output_type": "display_data"
    }
   ],
   "source": [
    "run_stable_Adam = show_csv_log(log_root+'20200428/run_0.csv',ylim=(0,1.3));"
   ]
  },
  {
   "cell_type": "code",
   "execution_count": 15,
   "metadata": {},
   "outputs": [
    {
     "data": {
      "text/html": [
       "<div>\n",
       "<style scoped>\n",
       "    .dataframe tbody tr th:only-of-type {\n",
       "        vertical-align: middle;\n",
       "    }\n",
       "\n",
       "    .dataframe tbody tr th {\n",
       "        vertical-align: top;\n",
       "    }\n",
       "\n",
       "    .dataframe thead th {\n",
       "        text-align: right;\n",
       "    }\n",
       "</style>\n",
       "<table border=\"1\" class=\"dataframe\">\n",
       "  <thead>\n",
       "    <tr style=\"text-align: right;\">\n",
       "      <th></th>\n",
       "      <th>epoch</th>\n",
       "      <th>train_loss</th>\n",
       "      <th>valid_loss</th>\n",
       "      <th>clas_L</th>\n",
       "      <th>cent_L</th>\n",
       "      <th>hw_L</th>\n",
       "      <th>pConf_L</th>\n",
       "      <th>nConf_L</th>\n",
       "      <th>clas_acc</th>\n",
       "      <th>cent_d</th>\n",
       "      <th>hw_r</th>\n",
       "      <th>time</th>\n",
       "    </tr>\n",
       "  </thead>\n",
       "  <tbody>\n",
       "    <tr>\n",
       "      <td>0</td>\n",
       "      <td>0</td>\n",
       "      <td>1.848831</td>\n",
       "      <td>1.523443</td>\n",
       "      <td>0.370971</td>\n",
       "      <td>0.639793</td>\n",
       "      <td>0.339719</td>\n",
       "      <td>0.081689</td>\n",
       "      <td>0.091271</td>\n",
       "      <td>0.866711</td>\n",
       "      <td>0.006104</td>\n",
       "      <td>1.196442</td>\n",
       "      <td>05:22</td>\n",
       "    </tr>\n",
       "    <tr>\n",
       "      <td>1</td>\n",
       "      <td>1</td>\n",
       "      <td>1.153512</td>\n",
       "      <td>0.940260</td>\n",
       "      <td>0.130897</td>\n",
       "      <td>0.467337</td>\n",
       "      <td>0.241663</td>\n",
       "      <td>0.024929</td>\n",
       "      <td>0.075435</td>\n",
       "      <td>0.950357</td>\n",
       "      <td>0.004409</td>\n",
       "      <td>1.131029</td>\n",
       "      <td>05:27</td>\n",
       "    </tr>\n",
       "    <tr>\n",
       "      <td>2</td>\n",
       "      <td>2</td>\n",
       "      <td>0.856754</td>\n",
       "      <td>0.783746</td>\n",
       "      <td>0.077271</td>\n",
       "      <td>0.393319</td>\n",
       "      <td>0.204484</td>\n",
       "      <td>0.050473</td>\n",
       "      <td>0.058199</td>\n",
       "      <td>0.979536</td>\n",
       "      <td>0.003696</td>\n",
       "      <td>1.112159</td>\n",
       "      <td>05:22</td>\n",
       "    </tr>\n",
       "    <tr>\n",
       "      <td>3</td>\n",
       "      <td>3</td>\n",
       "      <td>0.692499</td>\n",
       "      <td>0.664965</td>\n",
       "      <td>0.068448</td>\n",
       "      <td>0.337757</td>\n",
       "      <td>0.171169</td>\n",
       "      <td>0.038788</td>\n",
       "      <td>0.048802</td>\n",
       "      <td>0.985576</td>\n",
       "      <td>0.003057</td>\n",
       "      <td>1.090758</td>\n",
       "      <td>05:25</td>\n",
       "    </tr>\n",
       "    <tr>\n",
       "      <td>4</td>\n",
       "      <td>4</td>\n",
       "      <td>0.598607</td>\n",
       "      <td>0.561896</td>\n",
       "      <td>0.054026</td>\n",
       "      <td>0.298950</td>\n",
       "      <td>0.151716</td>\n",
       "      <td>0.016529</td>\n",
       "      <td>0.040675</td>\n",
       "      <td>0.982491</td>\n",
       "      <td>0.002764</td>\n",
       "      <td>1.082383</td>\n",
       "      <td>05:24</td>\n",
       "    </tr>\n",
       "    <tr>\n",
       "      <td>...</td>\n",
       "      <td>...</td>\n",
       "      <td>...</td>\n",
       "      <td>...</td>\n",
       "      <td>...</td>\n",
       "      <td>...</td>\n",
       "      <td>...</td>\n",
       "      <td>...</td>\n",
       "      <td>...</td>\n",
       "      <td>...</td>\n",
       "      <td>...</td>\n",
       "      <td>...</td>\n",
       "      <td>...</td>\n",
       "    </tr>\n",
       "    <tr>\n",
       "      <td>258</td>\n",
       "      <td>258</td>\n",
       "      <td>0.107922</td>\n",
       "      <td>0.107689</td>\n",
       "      <td>0.000122</td>\n",
       "      <td>0.076206</td>\n",
       "      <td>0.027028</td>\n",
       "      <td>0.000680</td>\n",
       "      <td>0.003652</td>\n",
       "      <td>1.000000</td>\n",
       "      <td>0.000608</td>\n",
       "      <td>1.014092</td>\n",
       "      <td>05:33</td>\n",
       "    </tr>\n",
       "    <tr>\n",
       "      <td>259</td>\n",
       "      <td>259</td>\n",
       "      <td>0.109042</td>\n",
       "      <td>0.107665</td>\n",
       "      <td>0.000139</td>\n",
       "      <td>0.076359</td>\n",
       "      <td>0.026864</td>\n",
       "      <td>0.000694</td>\n",
       "      <td>0.003611</td>\n",
       "      <td>1.000000</td>\n",
       "      <td>0.000610</td>\n",
       "      <td>1.014028</td>\n",
       "      <td>05:26</td>\n",
       "    </tr>\n",
       "    <tr>\n",
       "      <td>260</td>\n",
       "      <td>260</td>\n",
       "      <td>0.108515</td>\n",
       "      <td>0.107343</td>\n",
       "      <td>0.000123</td>\n",
       "      <td>0.075833</td>\n",
       "      <td>0.026968</td>\n",
       "      <td>0.000662</td>\n",
       "      <td>0.003757</td>\n",
       "      <td>1.000000</td>\n",
       "      <td>0.000606</td>\n",
       "      <td>1.014113</td>\n",
       "      <td>05:34</td>\n",
       "    </tr>\n",
       "    <tr>\n",
       "      <td>261</td>\n",
       "      <td>261</td>\n",
       "      <td>0.109230</td>\n",
       "      <td>0.108085</td>\n",
       "      <td>0.000128</td>\n",
       "      <td>0.075965</td>\n",
       "      <td>0.027602</td>\n",
       "      <td>0.000715</td>\n",
       "      <td>0.003676</td>\n",
       "      <td>1.000000</td>\n",
       "      <td>0.000606</td>\n",
       "      <td>1.014379</td>\n",
       "      <td>05:26</td>\n",
       "    </tr>\n",
       "    <tr>\n",
       "      <td>262</td>\n",
       "      <td>262</td>\n",
       "      <td>0.108672</td>\n",
       "      <td>0.107736</td>\n",
       "      <td>0.000129</td>\n",
       "      <td>0.075902</td>\n",
       "      <td>0.027333</td>\n",
       "      <td>0.000723</td>\n",
       "      <td>0.003648</td>\n",
       "      <td>1.000000</td>\n",
       "      <td>0.000606</td>\n",
       "      <td>1.014246</td>\n",
       "      <td>01:36</td>\n",
       "    </tr>\n",
       "  </tbody>\n",
       "</table>\n",
       "<p>263 rows × 12 columns</p>\n",
       "</div>"
      ],
      "text/plain": [
       "     epoch  train_loss  valid_loss    clas_L    cent_L      hw_L   pConf_L  \\\n",
       "0        0    1.848831    1.523443  0.370971  0.639793  0.339719  0.081689   \n",
       "1        1    1.153512    0.940260  0.130897  0.467337  0.241663  0.024929   \n",
       "2        2    0.856754    0.783746  0.077271  0.393319  0.204484  0.050473   \n",
       "3        3    0.692499    0.664965  0.068448  0.337757  0.171169  0.038788   \n",
       "4        4    0.598607    0.561896  0.054026  0.298950  0.151716  0.016529   \n",
       "..     ...         ...         ...       ...       ...       ...       ...   \n",
       "258    258    0.107922    0.107689  0.000122  0.076206  0.027028  0.000680   \n",
       "259    259    0.109042    0.107665  0.000139  0.076359  0.026864  0.000694   \n",
       "260    260    0.108515    0.107343  0.000123  0.075833  0.026968  0.000662   \n",
       "261    261    0.109230    0.108085  0.000128  0.075965  0.027602  0.000715   \n",
       "262    262    0.108672    0.107736  0.000129  0.075902  0.027333  0.000723   \n",
       "\n",
       "      nConf_L  clas_acc    cent_d      hw_r   time  \n",
       "0    0.091271  0.866711  0.006104  1.196442  05:22  \n",
       "1    0.075435  0.950357  0.004409  1.131029  05:27  \n",
       "2    0.058199  0.979536  0.003696  1.112159  05:22  \n",
       "3    0.048802  0.985576  0.003057  1.090758  05:25  \n",
       "4    0.040675  0.982491  0.002764  1.082383  05:24  \n",
       "..        ...       ...       ...       ...    ...  \n",
       "258  0.003652  1.000000  0.000608  1.014092  05:33  \n",
       "259  0.003611  1.000000  0.000610  1.014028  05:26  \n",
       "260  0.003757  1.000000  0.000606  1.014113  05:34  \n",
       "261  0.003676  1.000000  0.000606  1.014379  05:26  \n",
       "262  0.003648  1.000000  0.000606  1.014246  01:36  \n",
       "\n",
       "[263 rows x 12 columns]"
      ]
     },
     "execution_count": 15,
     "metadata": {},
     "output_type": "execute_result"
    }
   ],
   "source": [
    "run_stable_Adam"
   ]
  },
  {
   "cell_type": "code",
   "execution_count": 14,
   "metadata": {
    "scrolled": false
   },
   "outputs": [
    {
     "name": "stdout",
     "output_type": "stream",
     "text": [
      "min train_loss: 0.106267 at epoch 251\n",
      "min valid_loss: 0.10734300000000001 at epoch 260\n",
      "loss and metrics: \n",
      "epoch              260\n",
      "train_loss    0.108515\n",
      "valid_loss    0.107343\n",
      "clas_L        0.000123\n",
      "cent_L        0.075833\n",
      "hw_L          0.026968\n",
      "pConf_L       0.000662\n",
      "nConf_L       0.003757\n",
      "clas_acc             1\n",
      "cent_d        0.000606\n",
      "hw_r           1.01411\n",
      "time             05:34\n",
      "Name: 260, dtype: object\n"
     ]
    },
    {
     "data": {
      "image/png": "[encoded data removed]",
      "text/plain": [
       "<Figure size 432x288 with 1 Axes>"
      ]
     },
     "metadata": {
      "needs_background": "light"
     },
     "output_type": "display_data"
    }
   ],
   "source": [
    "run_stable_Adam = show_csv_log(log_root+'20200428/run_1.csv',ylim=(0,1.3));"
   ]
  },
  {
   "cell_type": "code",
   "execution_count": 9,
   "metadata": {
    "scrolled": false
   },
   "outputs": [
    {
     "name": "stdout",
     "output_type": "stream",
     "text": [
      "min train_loss: 0.115504 at epoch 163\n",
      "min valid_loss: 0.11733800000000001 at epoch 162\n",
      "loss and metrics: \n",
      "epoch              162\n",
      "train_loss    0.117102\n",
      "valid_loss    0.117338\n",
      "clas_L        0.000458\n",
      "cent_L        0.082384\n",
      "hw_L          0.029159\n",
      "pConf_L        0.00102\n",
      "nConf_L       0.004317\n",
      "clas_acc      0.999838\n",
      "cent_d        0.000665\n",
      "hw_r           1.01507\n",
      "time             05:21\n",
      "Name: 162, dtype: object\n"
     ]
    },
    {
     "data": {
      "image/png": "[encoded data removed]",
      "text/plain": [
       "<Figure size 432x288 with 1 Axes>"
      ]
     },
     "metadata": {
      "needs_background": "light"
     },
     "output_type": "display_data"
    }
   ],
   "source": [
    "run_Adam = show_csv_log(log_root+'20200424/run_0.csv', ylim=(0,1.5));"
   ]
  },
  {
   "cell_type": "code",
   "execution_count": 10,
   "metadata": {
    "scrolled": false
   },
   "outputs": [
    {
     "name": "stdout",
     "output_type": "stream",
     "text": [
      "min train_loss: 0.114514 at epoch 193\n",
      "min valid_loss: 0.11673299999999999 at epoch 201\n",
      "loss and metrics: \n",
      "epoch              201\n",
      "train_loss    0.116083\n",
      "valid_loss    0.116733\n",
      "clas_L        0.000422\n",
      "cent_L        0.081989\n",
      "hw_L          0.029035\n",
      "pConf_L       0.001133\n",
      "nConf_L       0.004154\n",
      "clas_acc      0.999843\n",
      "cent_d        0.000657\n",
      "hw_r           1.01501\n",
      "time             05:22\n",
      "Name: 201, dtype: object\n"
     ]
    },
    {
     "data": {
      "image/png": "[encoded data removed]",
      "text/plain": [
       "<Figure size 432x288 with 1 Axes>"
      ]
     },
     "metadata": {
      "needs_background": "light"
     },
     "output_type": "display_data"
    }
   ],
   "source": [
    "run_Adam_AWD = show_csv_log(log_root+'20200426/run_0.csv',(0,1.3));"
   ]
  },
  {
   "cell_type": "code",
   "execution_count": 12,
   "metadata": {},
   "outputs": [
    {
     "data": {
      "text/plain": [
       "(0.1, 0.9)"
      ]
     },
     "execution_count": 12,
     "metadata": {},
     "output_type": "execute_result"
    },
    {
     "data": {
      "image/png": "[encoded data removed]",
      "text/plain": [
       "<Figure size 432x288 with 1 Axes>"
      ]
     },
     "metadata": {
      "needs_background": "light"
     },
     "output_type": "display_data"
    }
   ],
   "source": [
    "plt.plot(run_stable_Adam.train_loss,'r')\n",
    "plt.plot(run_Adam.train_loss,'g')\n",
    "plt.plot(run_Adam_AWD.train_loss,'b')\n",
    "plt.ylim(0.1,0.9)"
   ]
  }
 ],
 "metadata": {
  "kernelspec": {
   "display_name": "fastai_tb",
   "language": "python",
   "name": "fastai_tb"
  },
  "language_info": {
   "codemirror_mode": {
    "name": "ipython",
    "version": 3
   },
   "file_extension": ".py",
   "mimetype": "text/x-python",
   "name": "python",
   "nbconvert_exporter": "python",
   "pygments_lexer": "ipython3",
   "version": "3.7.4"
  }
 },
 "nbformat": 4,
 "nbformat_minor": 2
}
