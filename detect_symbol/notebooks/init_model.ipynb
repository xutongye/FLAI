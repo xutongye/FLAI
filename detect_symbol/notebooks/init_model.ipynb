{
 "cells": [
  {
   "cell_type": "code",
   "execution_count": 1,
   "metadata": {},
   "outputs": [],
   "source": [
    "%load_ext autoreload\n",
    "%autoreload 2\n",
    "\n",
    "%matplotlib inline"
   ]
  },
  {
   "cell_type": "markdown",
   "metadata": {
    "heading_collapsed": true
   },
   "source": [
    "# import"
   ]
  },
  {
   "cell_type": "code",
   "execution_count": 2,
   "metadata": {
    "hidden": true
   },
   "outputs": [],
   "source": [
    "from ..exp import resnet_ssd"
   ]
  },
  {
   "cell_type": "code",
   "execution_count": 3,
   "metadata": {
    "hidden": true
   },
   "outputs": [],
   "source": [
    "from ..exp import databunch"
   ]
  },
  {
   "cell_type": "code",
   "execution_count": 4,
   "metadata": {
    "hidden": true
   },
   "outputs": [],
   "source": [
    "from fastai.basic_train import Learner,DatasetType"
   ]
  },
  {
   "cell_type": "code",
   "execution_count": 5,
   "metadata": {
    "hidden": true
   },
   "outputs": [],
   "source": [
    "# export\n",
    "from fastai.callbacks.hooks import Hook,Hooks"
   ]
  },
  {
   "cell_type": "code",
   "execution_count": 6,
   "metadata": {
    "hidden": true
   },
   "outputs": [],
   "source": [
    "# export\n",
    "from torch import nn"
   ]
  },
  {
   "cell_type": "code",
   "execution_count": 7,
   "metadata": {
    "hidden": true
   },
   "outputs": [],
   "source": [
    "# export\n",
    "import torch"
   ]
  },
  {
   "cell_type": "code",
   "execution_count": 8,
   "metadata": {
    "hidden": true
   },
   "outputs": [],
   "source": [
    "from IPython.core import debugger as idb"
   ]
  },
  {
   "cell_type": "code",
   "execution_count": 9,
   "metadata": {
    "hidden": true
   },
   "outputs": [],
   "source": [
    "# export\n",
    "from fastprogress.fastprogress import progress_bar"
   ]
  },
  {
   "cell_type": "code",
   "execution_count": 10,
   "metadata": {
    "hidden": true
   },
   "outputs": [],
   "source": [
    "# export\n",
    "import re"
   ]
  },
  {
   "cell_type": "markdown",
   "metadata": {},
   "source": [
    "# functions"
   ]
  },
  {
   "cell_type": "markdown",
   "metadata": {
    "heading_collapsed": true
   },
   "source": [
    "## LSUV"
   ]
  },
  {
   "cell_type": "markdown",
   "metadata": {
    "heading_collapsed": true,
    "hidden": true
   },
   "source": [
    "### get_convs"
   ]
  },
  {
   "cell_type": "code",
   "execution_count": 11,
   "metadata": {
    "hidden": true
   },
   "outputs": [],
   "source": [
    "# export\n",
    "def get_convs(model):\n",
    "    ms = []\n",
    "    for m in model.modules():\n",
    "        if isinstance(m,nn.Conv2d):# and m.kernel_size[0]>1:\n",
    "            ms += [m]\n",
    "    return ms"
   ]
  },
  {
   "cell_type": "markdown",
   "metadata": {
    "heading_collapsed": true,
    "hidden": true
   },
   "source": [
    "### show_layer_stats"
   ]
  },
  {
   "cell_type": "code",
   "execution_count": 12,
   "metadata": {
    "hidden": true
   },
   "outputs": [],
   "source": [
    "# export\n",
    "def hook_mean_std(m, i, o):\n",
    "    \"Take the shape, mean and std of `o`.\"\n",
    "    return m.kernel_size[0], o.shape[1:], o.mean().item(), o.std().item()"
   ]
  },
  {
   "cell_type": "code",
   "execution_count": 13,
   "metadata": {
    "hidden": true
   },
   "outputs": [],
   "source": [
    "# export\n",
    "# helper function\n",
    "def show_layer_stats(model,x_batch):\n",
    "    ms = get_convs(model)\n",
    "    with Hooks(ms,hook_mean_std) as hooks_hd: \n",
    "        _ = model(x_batch)   \n",
    "    \n",
    "    for s in hooks_hd.stored:\n",
    "        print(s)"
   ]
  },
  {
   "cell_type": "markdown",
   "metadata": {
    "heading_collapsed": true,
    "hidden": true
   },
   "source": [
    "### runtime_init_linear"
   ]
  },
  {
   "cell_type": "code",
   "execution_count": 14,
   "metadata": {
    "hidden": true
   },
   "outputs": [],
   "source": [
    "# export\n",
    "def hook_init(m,i,o):\n",
    "    m.weight.data /= o.std()"
   ]
  },
  {
   "cell_type": "code",
   "execution_count": 15,
   "metadata": {
    "hidden": true
   },
   "outputs": [],
   "source": [
    "# export\n",
    "def runtime_init_linear(model, x_batch, hook_init=hook_init):\n",
    "    '''\n",
    "    Idea come from LSUV (https://arxiv.org/pdf/1511.06422.pdf).\n",
    "    Initialize linear layer(conv,fc) weights and bias at runtime using a hook function.\n",
    "    这个过程是按照顺序逐层初始化：\n",
    "    （1）跑一遍模型，初始化第一层，该层的输入是x_batch(它是规则的)，则初始化操作之后保证该层的输出也是规则的；\n",
    "    （2）再跑一遍模型，这时第一层的输出（即第二层的输入）已经是规则的了，初始化第二层；\n",
    "    （3）再跑一遍模型，这时第一、二层的输出已经是规则的了，初始化第三层；\n",
    "    （4）以此类推。\n",
    "    因此这个过程的运行时间会较长。\n",
    "    -----------------------\n",
    "    参数：\n",
    "    -- model: the model will get initialized.\n",
    "    -- x_batch: a batch of data to run the model, you shoud make sure that x_batch is normalized.\n",
    "    -- init_hook_func: a hook function used to initialize each layer\n",
    "    -----------------------\n",
    "    返回值：\n",
    "    -- the model whose weights and bias is initialized by this function. \n",
    "    '''\n",
    "    # set model.require_grad to False, otherwise you can not modify layer weights at runtime.\n",
    "    model.requires_grad_(False)\n",
    "    \n",
    "    # find linear modules in model\n",
    "    ms = get_convs(model)\n",
    "    \n",
    "    # 粗初始化：bias->0；weights->N(0,1)\n",
    "    for m in ms:\n",
    "        if m.bias is not None:\n",
    "            m.bias.zero_()\n",
    "        m.weight.normal_(0,1)\n",
    "    \n",
    "    # 逐模块初始化\n",
    "    pb_ms = progress_bar(ms)\n",
    "    pb_ms.comment = 'runing init'\n",
    "    for m in pb_ms:\n",
    "        with Hook(m, hook_init):\n",
    "            _ = model(x_batch)\n",
    "    \n",
    "    # set model.require_grad to True \n",
    "    model.requires_grad_(True)\n",
    "    \n",
    "    return model"
   ]
  },
  {
   "cell_type": "markdown",
   "metadata": {
    "heading_collapsed": true
   },
   "source": [
    "## init to pretrained"
   ]
  },
  {
   "cell_type": "code",
   "execution_count": 16,
   "metadata": {
    "hidden": true
   },
   "outputs": [],
   "source": [
    "# export\n",
    "def init_to_pretrained(model, pretrained_dict, link_names):\n",
    "    '''\n",
    "    根据一个预训练模型初始化模型里的相关参数。\n",
    "    这里的model与预训练模型并不需要完全相同，这个函数也不是完全的把model的参数加载为预训练模型的参数，而是指加载你指定的那些参数。\n",
    "    -----------------------\n",
    "    参数：\n",
    "    -- model：参数待加载的模型\n",
    "    -- pretrained_dict：预训练模型的参数字典\n",
    "    -- link_names：model里的参数名与预训练模型的参数名的对照\n",
    "    '''\n",
    "    for k,v in model.named_parameters():\n",
    "        for ns in link_names:\n",
    "            if len(re.findall(ns[0],k))>0:\n",
    "                k = re.sub(ns[0],ns[1],k)\n",
    "                v.data = pretrained_dict[k].data\n",
    "                break"
   ]
  },
  {
   "cell_type": "markdown",
   "metadata": {
    "heading_collapsed": true
   },
   "source": [
    "## test"
   ]
  },
  {
   "cell_type": "code",
   "execution_count": 17,
   "metadata": {
    "hidden": true
   },
   "outputs": [],
   "source": [
    "# prepare data and model\n",
    "data = databunch.get_databunch(data_root='./data/ds_20200428/')\n",
    "x,y = data.one_batch()"
   ]
  },
  {
   "cell_type": "markdown",
   "metadata": {
    "heading_collapsed": true,
    "hidden": true
   },
   "source": [
    "### resnet18_ssd"
   ]
  },
  {
   "cell_type": "code",
   "execution_count": 18,
   "metadata": {
    "hidden": true
   },
   "outputs": [],
   "source": [
    "# model = resnet_ssd.get_resnet18_ssd()"
   ]
  },
  {
   "cell_type": "code",
   "execution_count": 19,
   "metadata": {
    "hidden": true
   },
   "outputs": [],
   "source": [
    "# check layer output stats before runtime init.\n",
    "# show_layer_stats(model,x)"
   ]
  },
  {
   "cell_type": "code",
   "execution_count": 20,
   "metadata": {
    "hidden": true
   },
   "outputs": [],
   "source": [
    "# runtime init\n",
    "# runtime_init_linear(model, x, hook_init);"
   ]
  },
  {
   "cell_type": "code",
   "execution_count": 21,
   "metadata": {
    "code_folding": [],
    "hidden": true
   },
   "outputs": [],
   "source": [
    "# check layer output stats after runtime init\n",
    "# show_layer_stats(model,x)"
   ]
  },
  {
   "cell_type": "code",
   "execution_count": 22,
   "metadata": {
    "hidden": true
   },
   "outputs": [],
   "source": [
    "# 因为runtime_init耗时较长，保存初始化后的模型，方便快速调用\n",
    "# torch.save(model.state_dict(), './models/resnet18_ssd_init.pth') # 只在要保存初始化模型时运行该行代码"
   ]
  },
  {
   "cell_type": "markdown",
   "metadata": {
    "heading_collapsed": true,
    "hidden": true
   },
   "source": [
    "### resnet18_1ssd"
   ]
  },
  {
   "cell_type": "code",
   "execution_count": 23,
   "metadata": {
    "hidden": true
   },
   "outputs": [],
   "source": [
    "# model = resnet_ssd.get_resnet18_1ssd()"
   ]
  },
  {
   "cell_type": "markdown",
   "metadata": {
    "heading_collapsed": true,
    "hidden": true
   },
   "source": [
    "#### LSUV"
   ]
  },
  {
   "cell_type": "code",
   "execution_count": 24,
   "metadata": {
    "hidden": true
   },
   "outputs": [],
   "source": [
    "# check layer output stats before runtime init.\n",
    "# show_layer_stats(model,x)"
   ]
  },
  {
   "cell_type": "code",
   "execution_count": 25,
   "metadata": {
    "hidden": true
   },
   "outputs": [],
   "source": [
    "# runtime init\n",
    "# runtime_init_linear(model, x, hook_init);"
   ]
  },
  {
   "cell_type": "code",
   "execution_count": 26,
   "metadata": {
    "hidden": true
   },
   "outputs": [],
   "source": [
    "# check layer output stats after runtime init\n",
    "# show_layer_stats(model,x)"
   ]
  },
  {
   "cell_type": "code",
   "execution_count": 27,
   "metadata": {
    "hidden": true
   },
   "outputs": [],
   "source": [
    "# 因为runtime_init耗时较长，保存初始化后的模型，方便快速调用\n",
    "# torch.save(model.state_dict(), './models/resnet18_1ssd_init.pth') # 只在要保存初始化模型时运行该行代码"
   ]
  },
  {
   "cell_type": "markdown",
   "metadata": {
    "hidden": true
   },
   "source": [
    "#### init_to_pretrained"
   ]
  },
  {
   "cell_type": "code",
   "execution_count": 28,
   "metadata": {
    "hidden": true
   },
   "outputs": [],
   "source": [
    "# pdict = torch.load('./models/pytorch_pretrained/resnet18-5c106cde.pth')"
   ]
  },
  {
   "cell_type": "code",
   "execution_count": 29,
   "metadata": {
    "hidden": true
   },
   "outputs": [],
   "source": [
    "# 将模型中与 resnet18 对应的部分的参数从预训练模型加载\n",
    "# link_names = [(r'^conv1',        'conv1'),\n",
    "#               (r'^bn1',          'bn1'),\n",
    "#               (r'^res_blocks.0', 'layer1'),\n",
    "#               (r'^res_blocks.1', 'layer2'),\n",
    "#               (r'^res_blocks.2', 'layer3'),\n",
    "#               (r'^res_blocks.3', 'layer4')]\n",
    "# init_to_pretrained(model, pdict, link_names)"
   ]
  },
  {
   "cell_type": "code",
   "execution_count": 30,
   "metadata": {
    "hidden": true
   },
   "outputs": [],
   "source": [
    "# check layer output stats before runtime init.\n",
    "# show_layer_stats(model,x)"
   ]
  },
  {
   "cell_type": "code",
   "execution_count": 31,
   "metadata": {
    "hidden": true
   },
   "outputs": [],
   "source": [
    "# torch.save(model.state_dict(), './models/pretrained_res18_1ssd.pth') # 只在要保存初始化模型时运行该行代码"
   ]
  },
  {
   "cell_type": "markdown",
   "metadata": {
    "heading_collapsed": true,
    "hidden": true
   },
   "source": [
    "### resnet18_1ssd_2"
   ]
  },
  {
   "cell_type": "code",
   "execution_count": 38,
   "metadata": {
    "hidden": true
   },
   "outputs": [],
   "source": [
    "model = resnet_ssd.get_resnet18_1ssd_2()"
   ]
  },
  {
   "cell_type": "markdown",
   "metadata": {
    "heading_collapsed": true,
    "hidden": true
   },
   "source": [
    "#### LSUV"
   ]
  },
  {
   "cell_type": "code",
   "execution_count": 40,
   "metadata": {
    "hidden": true
   },
   "outputs": [
    {
     "name": "stdout",
     "output_type": "stream",
     "text": [
      "(7, torch.Size([64, 392, 392]), 0.04044461250305176, 0.2338630110025406)\n",
      "(3, torch.Size([64, 196, 196]), -0.040899619460105896, 1.4524664878845215)\n",
      "(3, torch.Size([64, 196, 196]), -0.023861113935709, 1.0377568006515503)\n",
      "(3, torch.Size([64, 196, 196]), -0.0027381922118365765, 1.8267364501953125)\n",
      "(3, torch.Size([64, 196, 196]), -0.041567351669073105, 0.979866623878479)\n",
      "(3, torch.Size([128, 98, 98]), 0.03197834640741348, 1.5994309186935425)\n",
      "(3, torch.Size([128, 98, 98]), 0.026550687849521637, 1.0436439514160156)\n",
      "(1, torch.Size([128, 98, 98]), 0.0032223782036453485, 1.5773289203643799)\n",
      "(3, torch.Size([128, 98, 98]), -0.052147310227155685, 1.3461328744888306)\n",
      "(3, torch.Size([128, 98, 98]), 0.011380032636225224, 0.9789604544639587)\n",
      "(3, torch.Size([256, 49, 49]), -0.05214457958936691, 1.3046921491622925)\n",
      "(3, torch.Size([256, 49, 49]), 0.047852545976638794, 0.9583020210266113)\n",
      "(1, torch.Size([256, 49, 49]), 0.020024040713906288, 1.288756012916565)\n",
      "(3, torch.Size([256, 49, 49]), 0.017839400097727776, 1.392475962638855)\n",
      "(3, torch.Size([256, 49, 49]), -0.04326402395963669, 1.0224664211273193)\n",
      "(3, torch.Size([512, 25, 25]), -0.02558472380042076, 1.269248604774475)\n",
      "(3, torch.Size([512, 25, 25]), 0.013244815170764923, 0.9856649041175842)\n",
      "(1, torch.Size([512, 25, 25]), 0.02889428474009037, 1.292452335357666)\n",
      "(3, torch.Size([512, 25, 25]), 0.024004820734262466, 1.4035316705703735)\n",
      "(3, torch.Size([512, 25, 25]), -0.01974654756486416, 0.9924938678741455)\n",
      "(1, torch.Size([128, 98, 98]), 0.16938315331935883, 1.7812809944152832)\n",
      "(1, torch.Size([128, 49, 49]), 0.07029838114976883, 2.5275914669036865)\n",
      "(1, torch.Size([128, 25, 25]), 0.021914519369602203, 3.590355157852173)\n",
      "(3, torch.Size([12, 25, 25]), 0.3630695641040802, 2.9024295806884766)\n",
      "(3, torch.Size([6, 25, 25]), 0.2664645314216614, 4.333397388458252)\n",
      "(3, torch.Size([96, 25, 25]), 0.0642792284488678, 1.1549397706985474)\n",
      "(3, torch.Size([12, 25, 25]), 0.4574611783027649, 3.396801233291626)\n"
     ]
    }
   ],
   "source": [
    "# check layer output stats before runtime init.\n",
    "show_layer_stats(model,x)"
   ]
  },
  {
   "cell_type": "code",
   "execution_count": 41,
   "metadata": {
    "hidden": true
   },
   "outputs": [
    {
     "data": {
      "text/html": [
       "\n",
       "    <div>\n",
       "        <style>\n",
       "            /* Turns off some styling */\n",
       "            progress {\n",
       "                /* gets rid of default border in Firefox and Opera. */\n",
       "                border: none;\n",
       "                /* Needs to be in here for Safari polyfill so background images work as expected. */\n",
       "                background-size: auto;\n",
       "            }\n",
       "            .progress-bar-interrupted, .progress-bar-interrupted::-webkit-progress-bar {\n",
       "                background: #F44336;\n",
       "            }\n",
       "        </style>\n",
       "      <progress value='27' class='' max='27', style='width:300px; height:20px; vertical-align: middle;'></progress>\n",
       "      100.00% [27/27 03:36<00:00 runing init]\n",
       "    </div>\n",
       "    "
      ],
      "text/plain": [
       "<IPython.core.display.HTML object>"
      ]
     },
     "metadata": {},
     "output_type": "display_data"
    }
   ],
   "source": [
    "# runtime init\n",
    "runtime_init_linear(model, x, hook_init);"
   ]
  },
  {
   "cell_type": "code",
   "execution_count": 42,
   "metadata": {
    "hidden": true
   },
   "outputs": [
    {
     "name": "stdout",
     "output_type": "stream",
     "text": [
      "(7, torch.Size([64, 392, 392]), -0.08844493329524994, 1.0)\n",
      "(3, torch.Size([64, 196, 196]), -0.026781173422932625, 1.0)\n",
      "(3, torch.Size([64, 196, 196]), 0.01705138199031353, 1.0)\n",
      "(3, torch.Size([64, 196, 196]), 0.008169354870915413, 0.9999999403953552)\n",
      "(3, torch.Size([64, 196, 196]), -0.01741747558116913, 1.0)\n",
      "(3, torch.Size([128, 98, 98]), 0.019459621980786324, 1.0)\n",
      "(3, torch.Size([128, 98, 98]), -0.005722504109144211, 1.0)\n",
      "(1, torch.Size([128, 98, 98]), -0.0583064891397953, 1.0)\n",
      "(3, torch.Size([128, 98, 98]), -0.018746407702565193, 1.0)\n",
      "(3, torch.Size([128, 98, 98]), 0.01924307830631733, 0.9999999403953552)\n",
      "(3, torch.Size([256, 49, 49]), 0.007273969706147909, 1.0)\n",
      "(3, torch.Size([256, 49, 49]), -0.04466003179550171, 1.0)\n",
      "(1, torch.Size([256, 49, 49]), 0.043883103877305984, 1.0)\n",
      "(3, torch.Size([256, 49, 49]), 0.014819080010056496, 1.0)\n",
      "(3, torch.Size([256, 49, 49]), 0.005339494440704584, 1.0)\n",
      "(3, torch.Size([512, 25, 25]), -0.03673718124628067, 1.0)\n",
      "(3, torch.Size([512, 25, 25]), -0.024761609733104706, 1.0)\n",
      "(1, torch.Size([512, 25, 25]), 0.002604702953249216, 1.0)\n",
      "(3, torch.Size([512, 25, 25]), 0.019162030890583992, 0.9999999403953552)\n",
      "(3, torch.Size([512, 25, 25]), 0.0011452061589807272, 1.0)\n",
      "(1, torch.Size([128, 98, 98]), 0.08233511447906494, 1.0)\n",
      "(1, torch.Size([128, 49, 49]), -0.015418835915625095, 1.0)\n",
      "(1, torch.Size([128, 25, 25]), 0.0184211153537035, 1.0)\n",
      "(3, torch.Size([12, 25, 25]), -0.0162164568901062, 1.0)\n",
      "(3, torch.Size([6, 25, 25]), -0.08661875873804092, 1.0)\n",
      "(3, torch.Size([96, 25, 25]), -0.06890688836574554, 1.0)\n",
      "(3, torch.Size([12, 25, 25]), 0.12000802159309387, 1.0)\n"
     ]
    }
   ],
   "source": [
    "# check layer output stats after runtime init\n",
    "show_layer_stats(model,x)"
   ]
  },
  {
   "cell_type": "code",
   "execution_count": 44,
   "metadata": {
    "hidden": true
   },
   "outputs": [],
   "source": [
    "# 因为runtime_init耗时较长，保存初始化后的模型，方便快速调用\n",
    "torch.save(model.state_dict(), './models/resnet18_1ssd_2_init.pth') # 只在要保存初始化模型时运行该行代码"
   ]
  },
  {
   "cell_type": "markdown",
   "metadata": {
    "heading_collapsed": true,
    "hidden": true
   },
   "source": [
    "#### init_to_pretrained"
   ]
  },
  {
   "cell_type": "code",
   "execution_count": 45,
   "metadata": {
    "hidden": true
   },
   "outputs": [],
   "source": [
    "pdict = torch.load('./models/pytorch_pretrained/resnet18-5c106cde.pth')"
   ]
  },
  {
   "cell_type": "code",
   "execution_count": 46,
   "metadata": {
    "hidden": true
   },
   "outputs": [],
   "source": [
    "# 将模型中与 resnet18 对应的部分的参数从预训练模型加载\n",
    "link_names = [(r'^conv1',        'conv1'),\n",
    "              (r'^bn1',          'bn1'),\n",
    "              (r'^res_blocks.0', 'layer1'),\n",
    "              (r'^res_blocks.1', 'layer2'),\n",
    "              (r'^res_blocks.2', 'layer3'),\n",
    "              (r'^res_blocks.3', 'layer4')]\n",
    "init_to_pretrained(model, pdict, link_names)"
   ]
  },
  {
   "cell_type": "code",
   "execution_count": 47,
   "metadata": {
    "hidden": true
   },
   "outputs": [
    {
     "name": "stdout",
     "output_type": "stream",
     "text": [
      "(7, torch.Size([64, 392, 392]), 0.004280636552721262, 1.0100752115249634)\n",
      "(3, torch.Size([64, 196, 196]), -0.7636838555335999, 1.212753176689148)\n",
      "(3, torch.Size([64, 196, 196]), -0.06247009336948395, 0.365950345993042)\n",
      "(3, torch.Size([64, 196, 196]), -0.5044122934341431, 1.0826414823532104)\n",
      "(3, torch.Size([64, 196, 196]), -0.05583054944872856, 0.2739122211933136)\n",
      "(3, torch.Size([128, 98, 98]), -0.23261772096157074, 0.7655931711196899)\n",
      "(3, torch.Size([128, 98, 98]), -0.17523027956485748, 0.35710206627845764)\n",
      "(1, torch.Size([128, 98, 98]), -0.057857248932123184, 0.3755256235599518)\n",
      "(3, torch.Size([128, 98, 98]), -0.24035312235355377, 0.511385977268219)\n",
      "(3, torch.Size([128, 98, 98]), -0.033098671585321426, 0.2020649015903473)\n",
      "(3, torch.Size([256, 49, 49]), -0.29096776247024536, 0.5045275688171387)\n",
      "(3, torch.Size([256, 49, 49]), -0.10739132016897202, 0.3606847822666168)\n",
      "(1, torch.Size([256, 49, 49]), -0.035742126405239105, 0.1319136619567871)\n",
      "(3, torch.Size([256, 49, 49]), -0.3483544588088989, 0.4970351457595825)\n",
      "(3, torch.Size([256, 49, 49]), -0.0564693957567215, 0.15327082574367523)\n",
      "(3, torch.Size([512, 25, 25]), -0.3912145793437958, 0.3861464858055115)\n",
      "(3, torch.Size([512, 25, 25]), -0.1359657645225525, 0.17365340888500214)\n",
      "(1, torch.Size([512, 25, 25]), -0.04388582706451416, 0.13245928287506104)\n",
      "(3, torch.Size([512, 25, 25]), -0.5420650839805603, 0.3515521287918091)\n",
      "(3, torch.Size([512, 25, 25]), -0.03472578153014183, 0.11727115511894226)\n",
      "(1, torch.Size([128, 98, 98]), 0.013919285498559475, 0.22285601496696472)\n",
      "(1, torch.Size([128, 49, 49]), -0.0005946368328295648, 0.15603183209896088)\n",
      "(1, torch.Size([128, 25, 25]), 0.0246084313839674, 1.2733272314071655)\n",
      "(3, torch.Size([12, 25, 25]), -0.03206353634595871, 1.0156946182250977)\n",
      "(3, torch.Size([6, 25, 25]), -0.06075845658779144, 1.0209437608718872)\n",
      "(3, torch.Size([96, 25, 25]), -0.07759466767311096, 1.0017691850662231)\n",
      "(3, torch.Size([12, 25, 25]), 0.15098817646503448, 0.985258936882019)\n"
     ]
    }
   ],
   "source": [
    "# check layer output stats before runtime init.\n",
    "show_layer_stats(model,x)"
   ]
  },
  {
   "cell_type": "code",
   "execution_count": 48,
   "metadata": {
    "hidden": true
   },
   "outputs": [],
   "source": [
    "torch.save(model.state_dict(), './models/pretrained_res18_1ssd_2.pth') # 只在要保存初始化模型时运行该行代码"
   ]
  },
  {
   "cell_type": "markdown",
   "metadata": {
    "hidden": true
   },
   "source": [
    "### resnet34_1ssd"
   ]
  },
  {
   "cell_type": "code",
   "execution_count": 19,
   "metadata": {
    "hidden": true
   },
   "outputs": [],
   "source": [
    "model = resnet_ssd.get_resnet34_1ssd()"
   ]
  },
  {
   "cell_type": "markdown",
   "metadata": {
    "hidden": true
   },
   "source": [
    "#### LSUV"
   ]
  },
  {
   "cell_type": "code",
   "execution_count": 40,
   "metadata": {
    "hidden": true
   },
   "outputs": [
    {
     "name": "stdout",
     "output_type": "stream",
     "text": [
      "(7, torch.Size([64, 392, 392]), 0.04044461250305176, 0.2338630110025406)\n",
      "(3, torch.Size([64, 196, 196]), -0.040899619460105896, 1.4524664878845215)\n",
      "(3, torch.Size([64, 196, 196]), -0.023861113935709, 1.0377568006515503)\n",
      "(3, torch.Size([64, 196, 196]), -0.0027381922118365765, 1.8267364501953125)\n",
      "(3, torch.Size([64, 196, 196]), -0.041567351669073105, 0.979866623878479)\n",
      "(3, torch.Size([128, 98, 98]), 0.03197834640741348, 1.5994309186935425)\n",
      "(3, torch.Size([128, 98, 98]), 0.026550687849521637, 1.0436439514160156)\n",
      "(1, torch.Size([128, 98, 98]), 0.0032223782036453485, 1.5773289203643799)\n",
      "(3, torch.Size([128, 98, 98]), -0.052147310227155685, 1.3461328744888306)\n",
      "(3, torch.Size([128, 98, 98]), 0.011380032636225224, 0.9789604544639587)\n",
      "(3, torch.Size([256, 49, 49]), -0.05214457958936691, 1.3046921491622925)\n",
      "(3, torch.Size([256, 49, 49]), 0.047852545976638794, 0.9583020210266113)\n",
      "(1, torch.Size([256, 49, 49]), 0.020024040713906288, 1.288756012916565)\n",
      "(3, torch.Size([256, 49, 49]), 0.017839400097727776, 1.392475962638855)\n",
      "(3, torch.Size([256, 49, 49]), -0.04326402395963669, 1.0224664211273193)\n",
      "(3, torch.Size([512, 25, 25]), -0.02558472380042076, 1.269248604774475)\n",
      "(3, torch.Size([512, 25, 25]), 0.013244815170764923, 0.9856649041175842)\n",
      "(1, torch.Size([512, 25, 25]), 0.02889428474009037, 1.292452335357666)\n",
      "(3, torch.Size([512, 25, 25]), 0.024004820734262466, 1.4035316705703735)\n",
      "(3, torch.Size([512, 25, 25]), -0.01974654756486416, 0.9924938678741455)\n",
      "(1, torch.Size([128, 98, 98]), 0.16938315331935883, 1.7812809944152832)\n",
      "(1, torch.Size([128, 49, 49]), 0.07029838114976883, 2.5275914669036865)\n",
      "(1, torch.Size([128, 25, 25]), 0.021914519369602203, 3.590355157852173)\n",
      "(3, torch.Size([12, 25, 25]), 0.3630695641040802, 2.9024295806884766)\n",
      "(3, torch.Size([6, 25, 25]), 0.2664645314216614, 4.333397388458252)\n",
      "(3, torch.Size([96, 25, 25]), 0.0642792284488678, 1.1549397706985474)\n",
      "(3, torch.Size([12, 25, 25]), 0.4574611783027649, 3.396801233291626)\n"
     ]
    }
   ],
   "source": [
    "# check layer output stats before runtime init.\n",
    "show_layer_stats(model,x)"
   ]
  },
  {
   "cell_type": "code",
   "execution_count": 20,
   "metadata": {
    "hidden": true
   },
   "outputs": [
    {
     "data": {
      "text/html": [
       "\n",
       "    <div>\n",
       "        <style>\n",
       "            /* Turns off some styling */\n",
       "            progress {\n",
       "                /* gets rid of default border in Firefox and Opera. */\n",
       "                border: none;\n",
       "                /* Needs to be in here for Safari polyfill so background images work as expected. */\n",
       "                background-size: auto;\n",
       "            }\n",
       "            .progress-bar-interrupted, .progress-bar-interrupted::-webkit-progress-bar {\n",
       "                background: #F44336;\n",
       "            }\n",
       "        </style>\n",
       "      <progress value='43' class='' max='43', style='width:300px; height:20px; vertical-align: middle;'></progress>\n",
       "      100.00% [43/43 06:46<00:00 runing init]\n",
       "    </div>\n",
       "    "
      ],
      "text/plain": [
       "<IPython.core.display.HTML object>"
      ]
     },
     "metadata": {},
     "output_type": "display_data"
    }
   ],
   "source": [
    "# runtime init\n",
    "runtime_init_linear(model, x, hook_init);"
   ]
  },
  {
   "cell_type": "code",
   "execution_count": 21,
   "metadata": {
    "hidden": true
   },
   "outputs": [
    {
     "name": "stdout",
     "output_type": "stream",
     "text": [
      "(7, torch.Size([64, 388, 388]), -0.22475743293762207, 0.9999999403953552)\n",
      "(3, torch.Size([64, 194, 194]), 0.06133989244699478, 1.0)\n",
      "(3, torch.Size([64, 194, 194]), 0.00992268230766058, 1.0)\n",
      "(3, torch.Size([64, 194, 194]), 0.0021607386879622936, 1.0)\n",
      "(3, torch.Size([64, 194, 194]), -0.07307573407888412, 0.9999999403953552)\n",
      "(3, torch.Size([64, 194, 194]), 0.04332830384373665, 1.0)\n",
      "(3, torch.Size([64, 194, 194]), 0.03824002295732498, 0.9999999403953552)\n",
      "(3, torch.Size([128, 97, 97]), 0.05183012783527374, 1.0)\n",
      "(3, torch.Size([128, 97, 97]), -0.041025932878255844, 1.0)\n",
      "(1, torch.Size([128, 97, 97]), 0.04694987088441849, 1.0)\n",
      "(3, torch.Size([128, 97, 97]), -0.01028610672801733, 0.9999999403953552)\n",
      "(3, torch.Size([128, 97, 97]), -0.013548360206186771, 0.9999999403953552)\n",
      "(3, torch.Size([128, 97, 97]), 0.08813803642988205, 1.0)\n",
      "(3, torch.Size([128, 97, 97]), -0.013529094867408276, 1.0)\n",
      "(3, torch.Size([128, 97, 97]), 0.025644350796937943, 1.0)\n",
      "(3, torch.Size([128, 97, 97]), 0.07706756889820099, 1.0)\n",
      "(3, torch.Size([256, 49, 49]), -0.010751002468168736, 1.0)\n",
      "(3, torch.Size([256, 49, 49]), -0.08336865156888962, 1.0)\n",
      "(1, torch.Size([256, 49, 49]), 0.04947348311543465, 1.0)\n",
      "(3, torch.Size([256, 49, 49]), 0.015128128230571747, 1.0)\n",
      "(3, torch.Size([256, 49, 49]), 0.0046234955079853535, 1.0)\n",
      "(3, torch.Size([256, 49, 49]), 0.01646910421550274, 1.0)\n",
      "(3, torch.Size([256, 49, 49]), 0.009450677782297134, 1.0)\n",
      "(3, torch.Size([256, 49, 49]), -0.02274729311466217, 1.0)\n",
      "(3, torch.Size([256, 49, 49]), -0.03415938839316368, 1.0)\n",
      "(3, torch.Size([256, 49, 49]), -0.004577153362333775, 1.0)\n",
      "(3, torch.Size([256, 49, 49]), -0.0069765569642186165, 0.9999999403953552)\n",
      "(3, torch.Size([256, 49, 49]), 0.0027212791610509157, 0.9999999403953552)\n",
      "(3, torch.Size([256, 49, 49]), -0.01263277418911457, 1.0)\n",
      "(3, torch.Size([512, 25, 25]), -0.01528890710324049, 1.0)\n",
      "(3, torch.Size([512, 25, 25]), -0.005158324260264635, 0.9999999403953552)\n",
      "(1, torch.Size([512, 25, 25]), 0.029039205983281136, 1.0)\n",
      "(3, torch.Size([512, 25, 25]), -0.00727375503629446, 1.0)\n",
      "(3, torch.Size([512, 25, 25]), 0.01809220016002655, 1.0)\n",
      "(3, torch.Size([512, 25, 25]), 0.015059683471918106, 1.0)\n",
      "(3, torch.Size([512, 25, 25]), 0.006777717731893063, 0.9999999403953552)\n",
      "(1, torch.Size([256, 97, 97]), 0.0502486452460289, 1.0)\n",
      "(1, torch.Size([256, 49, 49]), 0.04801949858665466, 0.9999999403953552)\n",
      "(1, torch.Size([256, 25, 25]), -0.01122249010950327, 0.9999999403953552)\n",
      "(3, torch.Size([12, 25, 25]), -0.0009208256960846484, 1.0)\n",
      "(3, torch.Size([6, 25, 25]), 0.4929150342941284, 1.0)\n",
      "(3, torch.Size([96, 25, 25]), -0.02827206254005432, 1.0)\n",
      "(3, torch.Size([12, 25, 25]), -0.22563457489013672, 1.0)\n"
     ]
    }
   ],
   "source": [
    "# check layer output stats after runtime init\n",
    "show_layer_stats(model,x)"
   ]
  },
  {
   "cell_type": "code",
   "execution_count": 22,
   "metadata": {
    "hidden": true
   },
   "outputs": [],
   "source": [
    "# 因为runtime_init耗时较长，保存初始化后的模型，方便快速调用\n",
    "torch.save(model.state_dict(), './models/resnet34_1ssd_init.pth') # 只在要保存初始化模型时运行该行代码"
   ]
  },
  {
   "cell_type": "markdown",
   "metadata": {
    "hidden": true
   },
   "source": [
    "#### init_to_pretrained"
   ]
  },
  {
   "cell_type": "code",
   "execution_count": 23,
   "metadata": {
    "hidden": true
   },
   "outputs": [],
   "source": [
    "pdict = torch.load('./models/pytorch_pretrained/resnet34-333f7ec4.pth')"
   ]
  },
  {
   "cell_type": "code",
   "execution_count": 24,
   "metadata": {
    "hidden": true
   },
   "outputs": [],
   "source": [
    "# 将模型中与 resnet18 对应的部分的参数从预训练模型加载\n",
    "link_names = [(r'^conv1',        'conv1'),\n",
    "              (r'^bn1',          'bn1'),\n",
    "              (r'^res_blocks.0', 'layer1'),\n",
    "              (r'^res_blocks.1', 'layer2'),\n",
    "              (r'^res_blocks.2', 'layer3'),\n",
    "              (r'^res_blocks.3', 'layer4')]\n",
    "init_to_pretrained(model, pdict, link_names)"
   ]
  },
  {
   "cell_type": "code",
   "execution_count": 25,
   "metadata": {
    "hidden": true
   },
   "outputs": [
    {
     "name": "stdout",
     "output_type": "stream",
     "text": [
      "(7, torch.Size([64, 388, 388]), -0.020484235137701035, 1.012465000152588)\n",
      "(3, torch.Size([64, 194, 194]), -0.6655901074409485, 1.1187868118286133)\n",
      "(3, torch.Size([64, 194, 194]), 0.01914152316749096, 0.23187008500099182)\n",
      "(3, torch.Size([64, 194, 194]), -0.6282629370689392, 1.0450106859207153)\n",
      "(3, torch.Size([64, 194, 194]), -0.019603963941335678, 0.22291164100170135)\n",
      "(3, torch.Size([64, 194, 194]), -0.2621537744998932, 0.98326575756073)\n",
      "(3, torch.Size([64, 194, 194]), -0.0099524250254035, 0.15180009603500366)\n",
      "(3, torch.Size([128, 97, 97]), -0.12007935345172882, 0.8421780467033386)\n",
      "(3, torch.Size([128, 97, 97]), -0.07687575370073318, 0.2658337354660034)\n",
      "(1, torch.Size([128, 97, 97]), 0.006520788185298443, 0.4429892301559448)\n",
      "(3, torch.Size([128, 97, 97]), -0.12312431633472443, 0.68498694896698)\n",
      "(3, torch.Size([128, 97, 97]), -0.04973595589399338, 0.14783209562301636)\n",
      "(3, torch.Size([128, 97, 97]), -0.08999964594841003, 0.505359947681427)\n",
      "(3, torch.Size([128, 97, 97]), -0.02022673934698105, 0.10164425522089005)\n",
      "(3, torch.Size([128, 97, 97]), -0.30669212341308594, 0.5427964925765991)\n",
      "(3, torch.Size([128, 97, 97]), -0.009960859082639217, 0.07237029075622559)\n",
      "(3, torch.Size([256, 49, 49]), -0.3140680491924286, 0.5701103210449219)\n",
      "(3, torch.Size([256, 49, 49]), -0.06464333832263947, 0.30656078457832336)\n",
      "(1, torch.Size([256, 49, 49]), -0.027936046943068504, 0.2029723972082138)\n",
      "(3, torch.Size([256, 49, 49]), -0.2841751277446747, 0.5869391560554504)\n",
      "(3, torch.Size([256, 49, 49]), -0.03452068194746971, 0.11247763782739639)\n",
      "(3, torch.Size([256, 49, 49]), -0.35536447167396545, 0.4510067403316498)\n",
      "(3, torch.Size([256, 49, 49]), -0.02475799433887005, 0.06449472159147263)\n",
      "(3, torch.Size([256, 49, 49]), -0.34910348057746887, 0.4326486587524414)\n",
      "(3, torch.Size([256, 49, 49]), -0.024779414758086205, 0.04968196153640747)\n",
      "(3, torch.Size([256, 49, 49]), -0.3778029680252075, 0.3920488953590393)\n",
      "(3, torch.Size([256, 49, 49]), -0.03054617904126644, 0.05691676214337349)\n",
      "(3, torch.Size([256, 49, 49]), -0.2921223044395447, 0.3875584602355957)\n",
      "(3, torch.Size([256, 49, 49]), -0.051029350608587265, 0.08223476260900497)\n",
      "(3, torch.Size([512, 25, 25]), -0.18447396159172058, 0.328214168548584)\n",
      "(3, torch.Size([512, 25, 25]), -0.0498218797147274, 0.13129407167434692)\n",
      "(1, torch.Size([512, 25, 25]), 0.00017122268036473542, 0.10001911222934723)\n",
      "(3, torch.Size([512, 25, 25]), -1.6422061920166016, 1.2393909692764282)\n",
      "(3, torch.Size([512, 25, 25]), -0.019396275281906128, 0.0800912156701088)\n",
      "(3, torch.Size([512, 25, 25]), -3.080214500427246, 1.541176199913025)\n",
      "(3, torch.Size([512, 25, 25]), -0.006552104838192463, 0.08722749352455139)\n",
      "(1, torch.Size([256, 97, 97]), 0.007070369087159634, 0.20855627954006195)\n",
      "(1, torch.Size([256, 49, 49]), 0.0023925297427922487, 0.09980380535125732)\n",
      "(1, torch.Size([256, 25, 25]), -0.013330682180821896, 1.0820459127426147)\n",
      "(3, torch.Size([12, 25, 25]), -0.007951229810714722, 0.9981797337532043)\n",
      "(3, torch.Size([6, 25, 25]), 0.5601149797439575, 1.0353491306304932)\n",
      "(3, torch.Size([96, 25, 25]), -0.027989277616143227, 0.9909658432006836)\n",
      "(3, torch.Size([12, 25, 25]), -0.23033052682876587, 1.0138603448867798)\n"
     ]
    }
   ],
   "source": [
    "# check layer output stats before runtime init.\n",
    "show_layer_stats(model,x)"
   ]
  },
  {
   "cell_type": "code",
   "execution_count": 26,
   "metadata": {
    "hidden": true
   },
   "outputs": [],
   "source": [
    "torch.save(model.state_dict(), './models/pretrained_res34_1ssd.pth') # 只在要保存初始化模型时运行该行代码"
   ]
  },
  {
   "cell_type": "markdown",
   "metadata": {},
   "source": [
    "# export"
   ]
  },
  {
   "cell_type": "code",
   "execution_count": 1,
   "metadata": {},
   "outputs": [
    {
     "name": "stdout",
     "output_type": "stream",
     "text": [
      "Converted init_model.ipynb to ../exp/init_model.py\r\n"
     ]
    }
   ],
   "source": [
    "!python ../../notebook2script.py --fname 'init_model.ipynb' --outputDir '../exp/'"
   ]
  }
 ],
 "metadata": {
  "kernelspec": {
   "display_name": "Python 3",
   "language": "python",
   "name": "python3"
  },
  "language_info": {
   "codemirror_mode": {
    "name": "ipython",
    "version": 3
   },
   "file_extension": ".py",
   "mimetype": "text/x-python",
   "name": "python",
   "nbconvert_exporter": "python",
   "pygments_lexer": "ipython3",
   "version": "3.8.5"
  },
  "toc": {
   "base_numbering": 1,
   "nav_menu": {},
   "number_sections": true,
   "sideBar": true,
   "skip_h1_title": false,
   "title_cell": "Table of Contents",
   "title_sidebar": "Contents",
   "toc_cell": false,
   "toc_position": {},
   "toc_section_display": true,
   "toc_window_display": false
  }
 },
 "nbformat": 4,
 "nbformat_minor": 2
}
