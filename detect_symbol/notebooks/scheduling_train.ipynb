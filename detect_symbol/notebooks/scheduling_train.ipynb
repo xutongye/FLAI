{
 "cells": [
  {
   "cell_type": "code",
   "execution_count": 1,
   "metadata": {},
   "outputs": [],
   "source": [
    "%load_ext autoreload\n",
    "%autoreload 2\n",
    "\n",
    "%matplotlib inline"
   ]
  },
  {
   "cell_type": "markdown",
   "metadata": {
    "heading_collapsed": true
   },
   "source": [
    "# import"
   ]
  },
  {
   "cell_type": "code",
   "execution_count": 2,
   "metadata": {
    "hidden": true
   },
   "outputs": [],
   "source": [
    "# export\n",
    "from fastai.basic_train import LearnerCallback"
   ]
  },
  {
   "cell_type": "code",
   "execution_count": 3,
   "metadata": {
    "hidden": true
   },
   "outputs": [],
   "source": [
    "# export\n",
    "from fastai.callbacks.general_sched import *\n",
    "from fastai.callback import *"
   ]
  },
  {
   "cell_type": "code",
   "execution_count": 4,
   "metadata": {
    "hidden": true
   },
   "outputs": [],
   "source": [
    "# export\n",
    "from fastai.core import *"
   ]
  },
  {
   "cell_type": "code",
   "execution_count": 5,
   "metadata": {
    "hidden": true
   },
   "outputs": [],
   "source": [
    "# export\n",
    "from IPython.core import debugger as idb"
   ]
  },
  {
   "cell_type": "code",
   "execution_count": 6,
   "metadata": {
    "hidden": true
   },
   "outputs": [],
   "source": [
    "from ..exp import nb_databunch\n",
    "from ..exp import nb_resnet_ssd\n",
    "from ..exp import nb_init_model\n",
    "from ..exp import nb_anchors_loss_metrics\n",
    "from ..exp import nb_optimizer\n",
    "from ..exp import nb_tensorboard_callback"
   ]
  },
  {
   "cell_type": "code",
   "execution_count": 7,
   "metadata": {
    "hidden": true
   },
   "outputs": [],
   "source": [
    "import torch"
   ]
  },
  {
   "cell_type": "code",
   "execution_count": 8,
   "metadata": {
    "hidden": true
   },
   "outputs": [],
   "source": [
    "from fastai.basic_train import Learner"
   ]
  },
  {
   "cell_type": "code",
   "execution_count": 9,
   "metadata": {
    "hidden": true
   },
   "outputs": [],
   "source": [
    "from functools import partial"
   ]
  },
  {
   "cell_type": "code",
   "execution_count": 10,
   "metadata": {
    "hidden": true
   },
   "outputs": [],
   "source": [
    "import os,shutil"
   ]
  },
  {
   "cell_type": "markdown",
   "metadata": {},
   "source": [
    "# functions"
   ]
  },
  {
   "cell_type": "markdown",
   "metadata": {},
   "source": [
    "## CustomEpochLength(Callback)"
   ]
  },
  {
   "cell_type": "code",
   "execution_count": 11,
   "metadata": {},
   "outputs": [],
   "source": [
    "# export\n",
    "class CustomEpochLength(Callback):\n",
    "    def __init__(self, epoch_len=1e99):\n",
    "        '''\n",
    "        在fastai定义的训练过程中，只有在一个epoch结束后才会进行一次valid loss和metrics计算。\n",
    "        在数据集很大，batch size很小时，一个epoch包含的iteration数非常多，就会导致非常多的iteration后才会进行一次valid loss和metrics\n",
    "        计算。这会是个问题，因为你往往根据valid loss或metrics来做一些决定，例如early stop，如果valid loss和metrics更新周期太长，可能\n",
    "        会使你错过最好的时机。\n",
    "        本callback使你能指定一个epoch包含更少的iteration.\n",
    "        注意：如果你指定一个epoch包含更多的iteration，则实际上本callback是不起作用的。\n",
    "        注意：如果你使用该callback，你要确定你的dataloader的sample方式是随机的，否则可能会导致每个epoch都只看到固定的一部分训练\n",
    "        数据，而另一部分训练数据永远不会参与训练。\n",
    "        ------------------------------------------------------\n",
    "        参数：\n",
    "        -- epoch_len：指定一个epoch包含多少个iteration，默认为一个非常大的数（1e99），这保证如果你使用了该callback但没有指定epoch_len，\n",
    "        那么实际上该callback是不起作用的.\n",
    "        '''\n",
    "        self.epoch_len=epoch_len\n",
    "        print('ALLERT: You are using CumtomEpochLength, please make sure that your training dataloader is using random sampler, or this may cause problem.')\n",
    "        \n",
    "    def on_batch_end(self, num_batch, **kwargs):\n",
    "        if (num_batch+1)%self.epoch_len: return\n",
    "        return {'stop_epoch': True}\n",
    "            "
   ]
  },
  {
   "cell_type": "markdown",
   "metadata": {},
   "source": [
    "## MultiAnneal_Scheduler"
   ]
  },
  {
   "cell_type": "code",
   "execution_count": 12,
   "metadata": {
    "code_folding": []
   },
   "outputs": [],
   "source": [
    "# export\n",
    "class MultiAnneal_Scheduler(LearnerCallback):\n",
    "    def __init__(self, \n",
    "                 learn,\n",
    "                 base_lr_sched,\n",
    "                 monitor='valid',\n",
    "                 worseN_thres=3,\n",
    "                 annealRate=5,\n",
    "                 duration_thres=5,\n",
    "                 annealIte=100,\n",
    "                 phaseMaxN=3,\n",
    "                 finetune_stop=0):\n",
    "        '''\n",
    "        将训练过程分为多个constant lr训练阶段，当一个训练阶段到达平台期后，以线性下降的方式将lr衰减一定倍率，然后进入\n",
    "        下一个constant lr训练阶段，如此重复，直至最后一个训练到达平台期后结束训练。其中第一个训练阶段的lr由base_lr_sched决定。\n",
    "        参数：\n",
    "            -- learn：Learner对象\n",
    "            -- base_lr_sched：一个对learn的lr做scheduling的对象，它应该是constant lr的方式。本类就是通过自适应地修改它来修改对learn的lr的scheduling方式。\n",
    "            -- monitor：根据哪个损失值来判定是否达到平台期，字符串，可选'valid'或'train_smooth'。不论你选各个变量，监测周期都是一个epoch.\n",
    "            -- worseN_thres：当有warseN_thres个epoch都没有出现更好的loss时，认为达到了平台\n",
    "            -- annealRate：loss到达平台后，将当前使用的lr衰减至1/annealRate\n",
    "            -- duration_thres：一个constant lr训练阶段至少持续duration_thres个epoch\n",
    "            -- annealIte：lr衰减至lr/annealRate经历的iteration数\n",
    "            -- phaseMaxN：至多phaseMaxN个训练阶段\n",
    "            -- finetune_stop：一个整数，在某个train phase刚开始，其lr稳定后，决定是否结束微调，变为全模型学习。若为0，则不起作用，即整个训练\n",
    "            过程维持开始的微调策略；若大于phaseMaxN，也不会起作用。\n",
    "        '''\n",
    "        super().__init__(learn)\n",
    "        self.scheduler = base_lr_sched\n",
    "        self.monitor = monitor\n",
    "        self.worseN_thres = worseN_thres\n",
    "        self.annealRate = annealRate\n",
    "        self.duration_thres = duration_thres\n",
    "        self.annealIte = annealIte\n",
    "        self.phaseMaxN = phaseMaxN\n",
    "        self.finetune_stop = finetune_stop\n",
    "        \n",
    "        \n",
    "        self.best_loss = None\n",
    "        self.worseN = 0\n",
    "        self.phaseDuration = 0\n",
    "        self.phaseN = 0\n",
    "        self.expectConstantLr = False\n",
    "        \n",
    "        \n",
    "    def _get_monitoring_loss(self,**kwargs):\n",
    "        if self.monitor=='valid': loss = kwargs['last_metrics'][0]\n",
    "        if self.monitor=='train_smooth': loss = kwargs['smooth_loss']\n",
    "        return loss\n",
    "    \n",
    "    \n",
    "    def _finetune_stop(self,iteration,**kwargs):\n",
    "        if self.finetune_stop==self.phaseN:\n",
    "            if isinstance(self.scheduler.start,Iterable) and len(self.scheduler.start)>1:\n",
    "                self.scheduler.start[0] = self.scheduler.start[1]\n",
    "                self.scheduler.end[0] = self.scheduler.end[1]\n",
    "                print(f'at iteration {iteration}, stop finetune and begin to train entire model.')\n",
    "                \n",
    "    \n",
    "    def on_epoch_end(self, epoch, num_batch, **kwargs):\n",
    "        # 更新当前phase持续周期\n",
    "        self.phaseDuration += 1\n",
    "        \n",
    "        loss = self._get_monitoring_loss(**kwargs)\n",
    "        \n",
    "        # 首次epoch\n",
    "        if self.best_loss is None:\n",
    "            self.best_loss = loss\n",
    "            return\n",
    "        \n",
    "        # 更新best_loss, self.warseN\n",
    "        if loss<self.best_loss:\n",
    "            self.best_loss = loss\n",
    "            self.worseN = 0\n",
    "        else:\n",
    "            self.worseN += 1\n",
    "        \n",
    "        # 若达到phase结束条件\n",
    "        if self.phaseDuration>=self.duration_thres and self.worseN>=self.worseN_thres:\n",
    "            # 复位 phaseDuration\n",
    "            self.phaseDuration = 0 \n",
    "            # 更新 phaseN\n",
    "            self.phaseN += 1\n",
    "            \n",
    "            # 设置lr的线性下降阶段\n",
    "            self.scheduler.start = self.scheduler.start\n",
    "            self.scheduler.end = self.scheduler.start / self.annealRate\n",
    "            self.scheduler.func = annealing_linear\n",
    "\n",
    "            self.scheduler.n_iter = self.annealIte\n",
    "            self.scheduler.n = 0\n",
    "\n",
    "            print(f'on end of epoch#{epoch}: start annealing from {self.scheduler.start} to {self.scheduler.end}')\n",
    "\n",
    "            # 如果不是最后一个phase\n",
    "            if self.phaseN<self.phaseMaxN:\n",
    "                # 使end稍降，n_iter稍增，防止下降结束后结束训练\n",
    "                self.scheduler.end -= (self.scheduler.start - self.scheduler.end)/self.annealIte\n",
    "                self.scheduler.n_iter += 1\n",
    "                # 设置 self.expectConstantLr=True，使下降阶段临结束时换为恒lr训练\n",
    "                self.expectConstantLr = True\n",
    "            # 如果是最后一个phase，则等待下降结束后自动结束训练，无需额外处理\n",
    "            \n",
    "    def on_batch_end(self, **kwargs):\n",
    "        # 如果正在等待下降阶段结束后开始恒lr训练，并且下降阶段已经到了马上结束的时候\n",
    "        if self.expectConstantLr and self.scheduler.n==(self.scheduler.n_iter-1):\n",
    "            self.expectConstantLr = False\n",
    "            self.scheduler.start = self.scheduler.start / self.annealRate\n",
    "            self.scheduler.end = self.scheduler.start\n",
    "            self.scheduler.func = annealing_no\n",
    "            \n",
    "            self.scheduler.n_iter = 1e99 # 将 n_iter 设置为一个非常大的数，防止该phase自动结束\n",
    "            self.scheduler.n = 0\n",
    "            \n",
    "            self._finetune_stop(**kwargs)"
   ]
  },
  {
   "cell_type": "markdown",
   "metadata": {},
   "source": [
    "## fit_with_warmup_multiAnneal"
   ]
  },
  {
   "cell_type": "code",
   "execution_count": 13,
   "metadata": {
    "code_folding": []
   },
   "outputs": [],
   "source": [
    "# export\n",
    "def fit_with_warmup_multiAnnealPlat(learn,\n",
    "                                    epoch_len:int=10,\n",
    "                                    num_epoch:int=100,\n",
    "                                    \n",
    "                                    lr_start:float=3e-4,\n",
    "                                    lr_constant:float=3e-3,\n",
    "                                    warmup_iter:int=10,\n",
    "                                    \n",
    "                                    monitor:str='valid',\n",
    "                                    worseN_thres:int=3,\n",
    "                                    annealRate:float=5,\n",
    "                                    duration_thres:int=5,\n",
    "                                    annealIte:int=200,\n",
    "                                    phaseMaxN:int=3,\n",
    "                                    finetune_stop=0,\n",
    "                                    callbacks=None)->None:\n",
    "    '''\n",
    "    训练开始时先warmup，然后以constant lr训练，valid loss到达平台后衰减lr继续constant lr训练，\n",
    "    如此直到设置的epoch上限，或者constant lr训练阶段数达到上限，结束训练。\n",
    "    参数：\n",
    "    -- learn：Learner对象\n",
    "    -- epoch_len：设置一个epoch包含的iteration数，（见CustomEpochLength的定义）。\n",
    "    -- num_epochs：训练epoch数上限\n",
    "    \n",
    "    -- lr_start：warmup起始lr\n",
    "    -- lr_constant：warmup结束lr，也是phase0的constant lr\n",
    "    -- warmup_iter：warmup持续iteration数\n",
    "    \n",
    "    -- worseN_thres：当有warseN_thres个epoch都没有出现更好的valid loss时，认为达到了平台\n",
    "    -- annealRate：valid loss到达平台后，将当前使用的lr衰减至1/annealRate\n",
    "    -- duration_thres：一个constant lr训练阶段至少持续duration_thres个epoch\n",
    "    -- annealIte：lr衰减至lr/annealRate经历的iteration数\n",
    "    -- phaseMaxN：至多phaseMaxN个训练阶段\n",
    "    -- finetune_stop：一个整数，在某个train phase刚开始，其lr稳定后，决定是否结束微调，变为全模型学习。若为0，则不起作用，即整个训练\n",
    "    过程维持开始的微调策略；若大于phaseMaxN，也不会起作用。\n",
    "    '''\n",
    "    # 先建一个基础scheduler\n",
    "    phase0 = TrainingPhase(warmup_iter).schedule_hp('lr',(lr_start,lr_constant),annealing_cos) # warmup\n",
    "    phase1 = TrainingPhase(len(learn.data.train_dl)*num_epoch-warmup_iter).schedule_hp('lr',lr_constant,annealing_no) # constant lr\n",
    "    base_sched = GeneralScheduler(learn, [phase0, phase1])\n",
    "    \n",
    "    \n",
    "    # 提取base_sched的constant lr部分，传入MultiAnneal_Scheduler，供其自适应调整\n",
    "    lr_sched = phase1.scheds['lr']\n",
    "    autoPhases = MultiAnneal_Scheduler(learn=learn,\n",
    "                                       base_lr_sched=lr_sched,\n",
    "                                       monitor=monitor,\n",
    "                                       worseN_thres=worseN_thres,\n",
    "                                       annealRate=annealRate,\n",
    "                                       duration_thres=duration_thres,\n",
    "                                       annealIte=annealIte,\n",
    "                                       phaseMaxN=phaseMaxN,\n",
    "                                       finetune_stop=finetune_stop)\n",
    "    \n",
    "    # 加入fit函数的callbacks中\n",
    "    callbacks = listify(callbacks)\n",
    "    callbacks.append(base_sched)\n",
    "    callbacks.append(autoPhases)\n",
    "    \n",
    "    # 设置一个epoch包含的iteration数\n",
    "    set_epochLen = CustomEpochLength(epoch_len=epoch_len)\n",
    "    callbacks.append(set_epochLen)\n",
    "    \n",
    "    learn.fit(num_epoch, callbacks=callbacks)"
   ]
  },
  {
   "cell_type": "markdown",
   "metadata": {
    "heading_collapsed": true
   },
   "source": [
    "# test"
   ]
  },
  {
   "cell_type": "code",
   "execution_count": 14,
   "metadata": {
    "code_folding": [
     0
    ],
    "hidden": true
   },
   "outputs": [],
   "source": [
    "# 设置device\n",
    "device = torch.device('cuda')"
   ]
  },
  {
   "cell_type": "code",
   "execution_count": 15,
   "metadata": {
    "code_folding": [],
    "hidden": true
   },
   "outputs": [],
   "source": [
    "# databunch\n",
    "data = nb_databunch.get_databunch(data_root='./data/tiny_ds_20200331',bs=64,device=device,cache=False) "
   ]
  },
  {
   "cell_type": "code",
   "execution_count": 16,
   "metadata": {
    "code_folding": [
     0
    ],
    "hidden": true
   },
   "outputs": [],
   "source": [
    "# model\n",
    "model = nb_resnet_ssd.get_resnet18_ssd()\n",
    "model.load_state_dict(torch.load('./models/resnet18_ssd_init.pth'));"
   ]
  },
  {
   "cell_type": "code",
   "execution_count": 17,
   "metadata": {
    "code_folding": [
     0
    ],
    "hidden": true
   },
   "outputs": [],
   "source": [
    "# learner\n",
    "learn = Learner(data,model)\n",
    "if device.type=='cuda':\n",
    "    learn.model = torch.nn.DataParallel(learn.model,device_ids=[0,1,2,3])"
   ]
  },
  {
   "cell_type": "code",
   "execution_count": 18,
   "metadata": {
    "code_folding": [
     0
    ],
    "hidden": true
   },
   "outputs": [],
   "source": [
    "# 设置loss function\n",
    "gvs,_,_,avs,_,_ = nb_anchors_loss_metrics.get_ga()\n",
    "gaf = nb_anchors_loss_metrics.GridAnchor_Funcs(gvs,avs,device)\n",
    "learn.loss_func = partial(nb_anchors_loss_metrics.yolo_L, gaf=gaf)"
   ]
  },
  {
   "cell_type": "code",
   "execution_count": 19,
   "metadata": {
    "code_folding": [],
    "hidden": true
   },
   "outputs": [],
   "source": [
    "# 设置 optimizer\n",
    "learn.opt_func = partial(nb_optimizer.SU_Adam,betas=(0.9,0.99))"
   ]
  },
  {
   "cell_type": "code",
   "execution_count": 20,
   "metadata": {
    "code_folding": [
     0
    ],
    "hidden": true
   },
   "outputs": [],
   "source": [
    "# 添加metrics\n",
    "learn.metrics += [partial(nb_anchors_loss_metrics.clas_L,gaf=gaf)]\n",
    "learn.metrics += [partial(nb_anchors_loss_metrics.cent_L,gaf=gaf)]\n",
    "learn.metrics += [partial(nb_anchors_loss_metrics.hw_L,gaf=gaf)]\n",
    "learn.metrics += [partial(nb_anchors_loss_metrics.pConf_L,gaf=gaf)]\n",
    "learn.metrics += [partial(nb_anchors_loss_metrics.nConf_L,gaf=gaf)]\n",
    "learn.metrics += [partial(nb_anchors_loss_metrics.clas_acc,gaf=gaf)]\n",
    "learn.metrics += [partial(nb_anchors_loss_metrics.cent_d,gaf=gaf)]\n",
    "learn.metrics += [partial(nb_anchors_loss_metrics.hw_r,gaf=gaf)]"
   ]
  },
  {
   "cell_type": "code",
   "execution_count": 21,
   "metadata": {
    "code_folding": [],
    "hidden": true
   },
   "outputs": [],
   "source": [
    "# tensorboard callback\n",
    "# 指定tensorboard加载的总目录\n",
    "log_root = './tb_log/'\n",
    "# 先清空加载目录\n",
    "if os.path.exists(log_root): shutil.rmtree(log_root)\n",
    "os.mkdir(log_root)\n",
    "\n",
    "log_dir = f'{log_root}run#5'\n",
    "tbCb = nb_tensorboard_callback.TensorBoardCallback(\n",
    "                               learn=learn,\n",
    "                               log_dir=log_dir,\n",
    "                               plot_net=True,\n",
    "                               plot_loss=True,\n",
    "                               metric_plots=[],\n",
    "                               hyper_plots=['lr'],\n",
    "                               hist_plots=['res_blocks.0.0.conv1.weight',                                \n",
    "                                           'res_blocks.2.0.conv1.weight',\n",
    "                                           'res_blocks.4.0.conv1.weight'],\n",
    "                               hist_iters=12)"
   ]
  },
  {
   "cell_type": "code",
   "execution_count": 22,
   "metadata": {
    "hidden": true
   },
   "outputs": [
    {
     "data": {
      "text/html": [
       "\n",
       "    <div>\n",
       "        <style>\n",
       "            /* Turns off some styling */\n",
       "            progress {\n",
       "                /* gets rid of default border in Firefox and Opera. */\n",
       "                border: none;\n",
       "                /* Needs to be in here for Safari polyfill so background images work as expected. */\n",
       "                background-size: auto;\n",
       "            }\n",
       "            .progress-bar-interrupted, .progress-bar-interrupted::-webkit-progress-bar {\n",
       "                background: #F44336;\n",
       "            }\n",
       "        </style>\n",
       "      <progress value='7' class='' max='9', style='width:300px; height:20px; vertical-align: middle;'></progress>\n",
       "      77.78% [7/9 03:48<01:05]\n",
       "    </div>\n",
       "    \n",
       "<table border=\"1\" class=\"dataframe\">\n",
       "  <thead>\n",
       "    <tr style=\"text-align: left;\">\n",
       "      <th>epoch</th>\n",
       "      <th>train_loss</th>\n",
       "      <th>valid_loss</th>\n",
       "      <th>clas_L</th>\n",
       "      <th>cent_L</th>\n",
       "      <th>hw_L</th>\n",
       "      <th>pConf_L</th>\n",
       "      <th>nConf_L</th>\n",
       "      <th>clas_acc</th>\n",
       "      <th>cent_d</th>\n",
       "      <th>hw_r</th>\n",
       "      <th>time</th>\n",
       "    </tr>\n",
       "  </thead>\n",
       "  <tbody>\n",
       "    <tr>\n",
       "      <td>0</td>\n",
       "      <td>7.902404</td>\n",
       "      <td>#na#</td>\n",
       "      <td>00:39</td>\n",
       "    </tr>\n",
       "    <tr>\n",
       "      <td>1</td>\n",
       "      <td>7.925025</td>\n",
       "      <td>#na#</td>\n",
       "      <td>00:33</td>\n",
       "    </tr>\n",
       "    <tr>\n",
       "      <td>2</td>\n",
       "      <td>7.881374</td>\n",
       "      <td>#na#</td>\n",
       "      <td>00:31</td>\n",
       "    </tr>\n",
       "    <tr>\n",
       "      <td>3</td>\n",
       "      <td>7.827936</td>\n",
       "      <td>#na#</td>\n",
       "      <td>00:30</td>\n",
       "    </tr>\n",
       "    <tr>\n",
       "      <td>4</td>\n",
       "      <td>7.486281</td>\n",
       "      <td>#na#</td>\n",
       "      <td>00:32</td>\n",
       "    </tr>\n",
       "    <tr>\n",
       "      <td>5</td>\n",
       "      <td>6.942138</td>\n",
       "      <td>#na#</td>\n",
       "      <td>00:30</td>\n",
       "    </tr>\n",
       "    <tr>\n",
       "      <td>6</td>\n",
       "      <td>6.435704</td>\n",
       "      <td>#na#</td>\n",
       "      <td>00:32</td>\n",
       "    </tr>\n",
       "  </tbody>\n",
       "</table><p>\n",
       "\n",
       "    <div>\n",
       "        <style>\n",
       "            /* Turns off some styling */\n",
       "            progress {\n",
       "                /* gets rid of default border in Firefox and Opera. */\n",
       "                border: none;\n",
       "                /* Needs to be in here for Safari polyfill so background images work as expected. */\n",
       "                background-size: auto;\n",
       "            }\n",
       "            .progress-bar-interrupted, .progress-bar-interrupted::-webkit-progress-bar {\n",
       "                background: #F44336;\n",
       "            }\n",
       "        </style>\n",
       "      <progress value='9' class='' max='12', style='width:300px; height:20px; vertical-align: middle;'></progress>\n",
       "      75.00% [9/12 00:26<00:08 18.1872]\n",
       "    </div>\n",
       "    "
      ],
      "text/plain": [
       "<IPython.core.display.HTML object>"
      ]
     },
     "metadata": {},
     "output_type": "display_data"
    },
    {
     "name": "stdout",
     "output_type": "stream",
     "text": [
      "LR Finder is complete, type {learner_name}.recorder.plot() to see the graph.\n"
     ]
    }
   ],
   "source": [
    "learn.lr_find()"
   ]
  },
  {
   "cell_type": "code",
   "execution_count": 23,
   "metadata": {
    "hidden": true
   },
   "outputs": [
    {
     "data": {
      "image/png": "[encoded data removed]",
      "text/plain": [
       "<Figure size 432x288 with 1 Axes>"
      ]
     },
     "metadata": {
      "needs_background": "light"
     },
     "output_type": "display_data"
    }
   ],
   "source": [
    "learn.recorder.plot()"
   ]
  },
  {
   "cell_type": "code",
   "execution_count": 24,
   "metadata": {
    "code_folding": [],
    "hidden": true,
    "scrolled": true
   },
   "outputs": [
    {
     "name": "stdout",
     "output_type": "stream",
     "text": [
      "ALLERT: You are using CumtomEpochLength, please make sure that your training dataloader is using random sampler, or this may cause problem.\n"
     ]
    },
    {
     "data": {
      "text/html": [
       "\n",
       "    <div>\n",
       "        <style>\n",
       "            /* Turns off some styling */\n",
       "            progress {\n",
       "                /* gets rid of default border in Firefox and Opera. */\n",
       "                border: none;\n",
       "                /* Needs to be in here for Safari polyfill so background images work as expected. */\n",
       "                background-size: auto;\n",
       "            }\n",
       "            .progress-bar-interrupted, .progress-bar-interrupted::-webkit-progress-bar {\n",
       "                background: #F44336;\n",
       "            }\n",
       "        </style>\n",
       "      <progress value='12' class='' max='100', style='width:300px; height:20px; vertical-align: middle;'></progress>\n",
       "      12.00% [12/100 15:16<1:51:57]\n",
       "    </div>\n",
       "    \n",
       "<table border=\"1\" class=\"dataframe\">\n",
       "  <thead>\n",
       "    <tr style=\"text-align: left;\">\n",
       "      <th>epoch</th>\n",
       "      <th>train_loss</th>\n",
       "      <th>valid_loss</th>\n",
       "      <th>clas_L</th>\n",
       "      <th>cent_L</th>\n",
       "      <th>hw_L</th>\n",
       "      <th>pConf_L</th>\n",
       "      <th>nConf_L</th>\n",
       "      <th>clas_acc</th>\n",
       "      <th>cent_d</th>\n",
       "      <th>hw_r</th>\n",
       "      <th>time</th>\n",
       "    </tr>\n",
       "  </thead>\n",
       "  <tbody>\n",
       "    <tr>\n",
       "      <td>0</td>\n",
       "      <td>6.401018</td>\n",
       "      <td>4.391027</td>\n",
       "      <td>2.026864</td>\n",
       "      <td>1.094021</td>\n",
       "      <td>0.372274</td>\n",
       "      <td>0.401282</td>\n",
       "      <td>0.496586</td>\n",
       "      <td>0.321400</td>\n",
       "      <td>0.007773</td>\n",
       "      <td>1.204626</td>\n",
       "      <td>00:38</td>\n",
       "    </tr>\n",
       "    <tr>\n",
       "      <td>1</td>\n",
       "      <td>5.718062</td>\n",
       "      <td>4.198907</td>\n",
       "      <td>1.718222</td>\n",
       "      <td>1.199870</td>\n",
       "      <td>0.461305</td>\n",
       "      <td>0.372082</td>\n",
       "      <td>0.447428</td>\n",
       "      <td>0.354552</td>\n",
       "      <td>0.008221</td>\n",
       "      <td>1.259477</td>\n",
       "      <td>00:39</td>\n",
       "    </tr>\n",
       "    <tr>\n",
       "      <td>2</td>\n",
       "      <td>5.151860</td>\n",
       "      <td>4.206512</td>\n",
       "      <td>1.819284</td>\n",
       "      <td>1.172115</td>\n",
       "      <td>0.414777</td>\n",
       "      <td>0.363091</td>\n",
       "      <td>0.437243</td>\n",
       "      <td>0.341353</td>\n",
       "      <td>0.008049</td>\n",
       "      <td>1.230669</td>\n",
       "      <td>01:15</td>\n",
       "    </tr>\n",
       "    <tr>\n",
       "      <td>3</td>\n",
       "      <td>4.857590</td>\n",
       "      <td>4.141801</td>\n",
       "      <td>1.823466</td>\n",
       "      <td>1.160300</td>\n",
       "      <td>0.364924</td>\n",
       "      <td>0.347988</td>\n",
       "      <td>0.445124</td>\n",
       "      <td>0.338166</td>\n",
       "      <td>0.008133</td>\n",
       "      <td>1.200265</td>\n",
       "      <td>01:57</td>\n",
       "    </tr>\n",
       "    <tr>\n",
       "      <td>4</td>\n",
       "      <td>4.653244</td>\n",
       "      <td>4.350423</td>\n",
       "      <td>1.951747</td>\n",
       "      <td>1.181375</td>\n",
       "      <td>0.427474</td>\n",
       "      <td>0.347231</td>\n",
       "      <td>0.442596</td>\n",
       "      <td>0.359559</td>\n",
       "      <td>0.008049</td>\n",
       "      <td>1.238804</td>\n",
       "      <td>01:48</td>\n",
       "    </tr>\n",
       "    <tr>\n",
       "      <td>5</td>\n",
       "      <td>4.468748</td>\n",
       "      <td>67.948242</td>\n",
       "      <td>46.136398</td>\n",
       "      <td>10.159351</td>\n",
       "      <td>10.862513</td>\n",
       "      <td>0.359006</td>\n",
       "      <td>0.430968</td>\n",
       "      <td>0.350505</td>\n",
       "      <td>0.041811</td>\n",
       "      <td>inf</td>\n",
       "      <td>01:32</td>\n",
       "    </tr>\n",
       "    <tr>\n",
       "      <td>6</td>\n",
       "      <td>4.424093</td>\n",
       "      <td>30.914713</td>\n",
       "      <td>19.232460</td>\n",
       "      <td>6.779490</td>\n",
       "      <td>4.113703</td>\n",
       "      <td>0.360668</td>\n",
       "      <td>0.428393</td>\n",
       "      <td>0.355735</td>\n",
       "      <td>0.020754</td>\n",
       "      <td>inf</td>\n",
       "      <td>00:37</td>\n",
       "    </tr>\n",
       "    <tr>\n",
       "      <td>7</td>\n",
       "      <td>4.369796</td>\n",
       "      <td>54.965199</td>\n",
       "      <td>40.565571</td>\n",
       "      <td>8.958403</td>\n",
       "      <td>4.653365</td>\n",
       "      <td>0.360704</td>\n",
       "      <td>0.427153</td>\n",
       "      <td>0.359781</td>\n",
       "      <td>0.022544</td>\n",
       "      <td>inf</td>\n",
       "      <td>01:32</td>\n",
       "    </tr>\n",
       "    <tr>\n",
       "      <td>8</td>\n",
       "      <td>4.393302</td>\n",
       "      <td>23.006367</td>\n",
       "      <td>15.626837</td>\n",
       "      <td>3.773280</td>\n",
       "      <td>2.782363</td>\n",
       "      <td>0.414052</td>\n",
       "      <td>0.409834</td>\n",
       "      <td>0.353553</td>\n",
       "      <td>nan</td>\n",
       "      <td>inf</td>\n",
       "      <td>01:28</td>\n",
       "    </tr>\n",
       "    <tr>\n",
       "      <td>9</td>\n",
       "      <td>4.368105</td>\n",
       "      <td>5.853026</td>\n",
       "      <td>3.256611</td>\n",
       "      <td>1.266098</td>\n",
       "      <td>0.541549</td>\n",
       "      <td>0.354894</td>\n",
       "      <td>0.433874</td>\n",
       "      <td>0.373737</td>\n",
       "      <td>0.008453</td>\n",
       "      <td>1.311540</td>\n",
       "      <td>01:19</td>\n",
       "    </tr>\n",
       "    <tr>\n",
       "      <td>10</td>\n",
       "      <td>4.295436</td>\n",
       "      <td>5.641041</td>\n",
       "      <td>3.074096</td>\n",
       "      <td>1.357905</td>\n",
       "      <td>0.421894</td>\n",
       "      <td>0.355206</td>\n",
       "      <td>0.431941</td>\n",
       "      <td>0.416525</td>\n",
       "      <td>0.008047</td>\n",
       "      <td>inf</td>\n",
       "      <td>01:11</td>\n",
       "    </tr>\n",
       "    <tr>\n",
       "      <td>11</td>\n",
       "      <td>4.377542</td>\n",
       "      <td>15.488827</td>\n",
       "      <td>11.390827</td>\n",
       "      <td>1.983534</td>\n",
       "      <td>1.238569</td>\n",
       "      <td>0.492465</td>\n",
       "      <td>0.383433</td>\n",
       "      <td>0.413871</td>\n",
       "      <td>0.012292</td>\n",
       "      <td>inf</td>\n",
       "      <td>01:16</td>\n",
       "    </tr>\n",
       "  </tbody>\n",
       "</table><p>\n",
       "\n",
       "    <div>\n",
       "        <style>\n",
       "            /* Turns off some styling */\n",
       "            progress {\n",
       "                /* gets rid of default border in Firefox and Opera. */\n",
       "                border: none;\n",
       "                /* Needs to be in here for Safari polyfill so background images work as expected. */\n",
       "                background-size: auto;\n",
       "            }\n",
       "            .progress-bar-interrupted, .progress-bar-interrupted::-webkit-progress-bar {\n",
       "                background: #F44336;\n",
       "            }\n",
       "        </style>\n",
       "      <progress value='4' class='' max='12', style='width:300px; height:20px; vertical-align: middle;'></progress>\n",
       "      33.33% [4/12 00:17<00:34 4.3839]\n",
       "    </div>\n",
       "    "
      ],
      "text/plain": [
       "<IPython.core.display.HTML object>"
      ]
     },
     "metadata": {},
     "output_type": "display_data"
    },
    {
     "ename": "KeyboardInterrupt",
     "evalue": "",
     "output_type": "error",
     "traceback": [
      "\u001b[0;31m--\u001b[0m",
      "\u001b[0;31mKeyboardInterrupt\u001b[0mTraceback (most recent call last)",
      "\u001b[0;32m<ipython-input-24-d9c75d18b75a>\u001b[0m in \u001b[0;36m<module>\u001b[0;34m\u001b[0m\n\u001b[1;32m     14\u001b[0m                                 \u001b[0mannealIte\u001b[0m\u001b[0;34m=\u001b[0m\u001b[0;36m10\u001b[0m\u001b[0;34m,\u001b[0m\u001b[0;34m\u001b[0m\u001b[0;34m\u001b[0m\u001b[0m\n\u001b[1;32m     15\u001b[0m                                 \u001b[0mphaseMaxN\u001b[0m\u001b[0;34m=\u001b[0m\u001b[0;36m3\u001b[0m\u001b[0;34m,\u001b[0m\u001b[0;34m\u001b[0m\u001b[0;34m\u001b[0m\u001b[0m\n\u001b[0;32m---> 16\u001b[0;31m                                 callbacks=[tbCb])\n\u001b[0m",
      "\u001b[0;32m<ipython-input-13-39ac57c2db11>\u001b[0m in \u001b[0;36mfit_with_warmup_multiAnnealPlat\u001b[0;34m(learn, epoch_len, num_epoch, lr_start, lr_constant, warmup_iter, monitor, worseN_thres, annealRate, duration_thres, annealIte, phaseMaxN, callbacks)\u001b[0m\n\u001b[1;32m     59\u001b[0m     \u001b[0mcallbacks\u001b[0m\u001b[0;34m.\u001b[0m\u001b[0mappend\u001b[0m\u001b[0;34m(\u001b[0m\u001b[0mset_epochLen\u001b[0m\u001b[0;34m)\u001b[0m\u001b[0;34m\u001b[0m\u001b[0;34m\u001b[0m\u001b[0m\n\u001b[1;32m     60\u001b[0m \u001b[0;34m\u001b[0m\u001b[0m\n\u001b[0;32m---> 61\u001b[0;31m     \u001b[0mlearn\u001b[0m\u001b[0;34m.\u001b[0m\u001b[0mfit\u001b[0m\u001b[0;34m(\u001b[0m\u001b[0mnum_epoch\u001b[0m\u001b[0;34m,\u001b[0m \u001b[0mcallbacks\u001b[0m\u001b[0;34m=\u001b[0m\u001b[0mcallbacks\u001b[0m\u001b[0;34m)\u001b[0m\u001b[0;34m\u001b[0m\u001b[0;34m\u001b[0m\u001b[0m\n\u001b[0m",
      "\u001b[0;32m~/anaconda3/envs/fastai_tb/lib/python3.7/site-packages/fastai/basic_train.py\u001b[0m in \u001b[0;36mfit\u001b[0;34m(self, epochs, lr, wd, callbacks)\u001b[0m\n\u001b[1;32m    198\u001b[0m         \u001b[0;32melse\u001b[0m\u001b[0;34m:\u001b[0m \u001b[0mself\u001b[0m\u001b[0;34m.\u001b[0m\u001b[0mopt\u001b[0m\u001b[0;34m.\u001b[0m\u001b[0mlr\u001b[0m\u001b[0;34m,\u001b[0m\u001b[0mself\u001b[0m\u001b[0;34m.\u001b[0m\u001b[0mopt\u001b[0m\u001b[0;34m.\u001b[0m\u001b[0mwd\u001b[0m \u001b[0;34m=\u001b[0m \u001b[0mlr\u001b[0m\u001b[0;34m,\u001b[0m\u001b[0mwd\u001b[0m\u001b[0;34m\u001b[0m\u001b[0;34m\u001b[0m\u001b[0m\n\u001b[1;32m    199\u001b[0m         \u001b[0mcallbacks\u001b[0m \u001b[0;34m=\u001b[0m \u001b[0;34m[\u001b[0m\u001b[0mcb\u001b[0m\u001b[0;34m(\u001b[0m\u001b[0mself\u001b[0m\u001b[0;34m)\u001b[0m \u001b[0;32mfor\u001b[0m \u001b[0mcb\u001b[0m \u001b[0;32min\u001b[0m \u001b[0mself\u001b[0m\u001b[0;34m.\u001b[0m\u001b[0mcallback_fns\u001b[0m \u001b[0;34m+\u001b[0m \u001b[0mlistify\u001b[0m\u001b[0;34m(\u001b[0m\u001b[0mdefaults\u001b[0m\u001b[0;34m.\u001b[0m\u001b[0mextra_callback_fns\u001b[0m\u001b[0;34m)\u001b[0m\u001b[0;34m]\u001b[0m \u001b[0;34m+\u001b[0m \u001b[0mlistify\u001b[0m\u001b[0;34m(\u001b[0m\u001b[0mcallbacks\u001b[0m\u001b[0;34m)\u001b[0m\u001b[0;34m\u001b[0m\u001b[0;34m\u001b[0m\u001b[0m\n\u001b[0;32m--> 200\u001b[0;31m         \u001b[0mfit\u001b[0m\u001b[0;34m(\u001b[0m\u001b[0mepochs\u001b[0m\u001b[0;34m,\u001b[0m \u001b[0mself\u001b[0m\u001b[0;34m,\u001b[0m \u001b[0mmetrics\u001b[0m\u001b[0;34m=\u001b[0m\u001b[0mself\u001b[0m\u001b[0;34m.\u001b[0m\u001b[0mmetrics\u001b[0m\u001b[0;34m,\u001b[0m \u001b[0mcallbacks\u001b[0m\u001b[0;34m=\u001b[0m\u001b[0mself\u001b[0m\u001b[0;34m.\u001b[0m\u001b[0mcallbacks\u001b[0m\u001b[0;34m+\u001b[0m\u001b[0mcallbacks\u001b[0m\u001b[0;34m)\u001b[0m\u001b[0;34m\u001b[0m\u001b[0;34m\u001b[0m\u001b[0m\n\u001b[0m\u001b[1;32m    201\u001b[0m \u001b[0;34m\u001b[0m\u001b[0m\n\u001b[1;32m    202\u001b[0m     \u001b[0;32mdef\u001b[0m \u001b[0mcreate_opt\u001b[0m\u001b[0;34m(\u001b[0m\u001b[0mself\u001b[0m\u001b[0;34m,\u001b[0m \u001b[0mlr\u001b[0m\u001b[0;34m:\u001b[0m\u001b[0mFloats\u001b[0m\u001b[0;34m,\u001b[0m \u001b[0mwd\u001b[0m\u001b[0;34m:\u001b[0m\u001b[0mFloats\u001b[0m\u001b[0;34m=\u001b[0m\u001b[0;36m0.\u001b[0m\u001b[0;34m)\u001b[0m\u001b[0;34m->\u001b[0m\u001b[0;32mNone\u001b[0m\u001b[0;34m:\u001b[0m\u001b[0;34m\u001b[0m\u001b[0;34m\u001b[0m\u001b[0m\n",
      "\u001b[0;32m~/anaconda3/envs/fastai_tb/lib/python3.7/site-packages/fastai/basic_train.py\u001b[0m in \u001b[0;36mfit\u001b[0;34m(epochs, learn, callbacks, metrics)\u001b[0m\n\u001b[1;32m     99\u001b[0m             \u001b[0;32mfor\u001b[0m \u001b[0mxb\u001b[0m\u001b[0;34m,\u001b[0m\u001b[0myb\u001b[0m \u001b[0;32min\u001b[0m \u001b[0mprogress_bar\u001b[0m\u001b[0;34m(\u001b[0m\u001b[0mlearn\u001b[0m\u001b[0;34m.\u001b[0m\u001b[0mdata\u001b[0m\u001b[0;34m.\u001b[0m\u001b[0mtrain_dl\u001b[0m\u001b[0;34m,\u001b[0m \u001b[0mparent\u001b[0m\u001b[0;34m=\u001b[0m\u001b[0mpbar\u001b[0m\u001b[0;34m)\u001b[0m\u001b[0;34m:\u001b[0m\u001b[0;34m\u001b[0m\u001b[0;34m\u001b[0m\u001b[0m\n\u001b[1;32m    100\u001b[0m                 \u001b[0mxb\u001b[0m\u001b[0;34m,\u001b[0m \u001b[0myb\u001b[0m \u001b[0;34m=\u001b[0m \u001b[0mcb_handler\u001b[0m\u001b[0;34m.\u001b[0m\u001b[0mon_batch_begin\u001b[0m\u001b[0;34m(\u001b[0m\u001b[0mxb\u001b[0m\u001b[0;34m,\u001b[0m \u001b[0myb\u001b[0m\u001b[0;34m)\u001b[0m\u001b[0;34m\u001b[0m\u001b[0;34m\u001b[0m\u001b[0m\n\u001b[0;32m--> 101\u001b[0;31m                 \u001b[0mloss\u001b[0m \u001b[0;34m=\u001b[0m \u001b[0mloss_batch\u001b[0m\u001b[0;34m(\u001b[0m\u001b[0mlearn\u001b[0m\u001b[0;34m.\u001b[0m\u001b[0mmodel\u001b[0m\u001b[0;34m,\u001b[0m \u001b[0mxb\u001b[0m\u001b[0;34m,\u001b[0m \u001b[0myb\u001b[0m\u001b[0;34m,\u001b[0m \u001b[0mlearn\u001b[0m\u001b[0;34m.\u001b[0m\u001b[0mloss_func\u001b[0m\u001b[0;34m,\u001b[0m \u001b[0mlearn\u001b[0m\u001b[0;34m.\u001b[0m\u001b[0mopt\u001b[0m\u001b[0;34m,\u001b[0m \u001b[0mcb_handler\u001b[0m\u001b[0;34m)\u001b[0m\u001b[0;34m\u001b[0m\u001b[0;34m\u001b[0m\u001b[0m\n\u001b[0m\u001b[1;32m    102\u001b[0m                 \u001b[0;32mif\u001b[0m \u001b[0mcb_handler\u001b[0m\u001b[0;34m.\u001b[0m\u001b[0mon_batch_end\u001b[0m\u001b[0;34m(\u001b[0m\u001b[0mloss\u001b[0m\u001b[0;34m)\u001b[0m\u001b[0;34m:\u001b[0m \u001b[0;32mbreak\u001b[0m\u001b[0;34m\u001b[0m\u001b[0;34m\u001b[0m\u001b[0m\n\u001b[1;32m    103\u001b[0m \u001b[0;34m\u001b[0m\u001b[0m\n",
      "\u001b[0;32m~/anaconda3/envs/fastai_tb/lib/python3.7/site-packages/fastai/basic_train.py\u001b[0m in \u001b[0;36mloss_batch\u001b[0;34m(model, xb, yb, loss_func, opt, cb_handler)\u001b[0m\n\u001b[1;32m     33\u001b[0m         \u001b[0mloss\u001b[0m\u001b[0;34m,\u001b[0m\u001b[0mskip_bwd\u001b[0m \u001b[0;34m=\u001b[0m \u001b[0mcb_handler\u001b[0m\u001b[0;34m.\u001b[0m\u001b[0mon_backward_begin\u001b[0m\u001b[0;34m(\u001b[0m\u001b[0mloss\u001b[0m\u001b[0;34m)\u001b[0m\u001b[0;34m\u001b[0m\u001b[0;34m\u001b[0m\u001b[0m\n\u001b[1;32m     34\u001b[0m         \u001b[0;32mif\u001b[0m \u001b[0;32mnot\u001b[0m \u001b[0mskip_bwd\u001b[0m\u001b[0;34m:\u001b[0m                     \u001b[0mloss\u001b[0m\u001b[0;34m.\u001b[0m\u001b[0mbackward\u001b[0m\u001b[0;34m(\u001b[0m\u001b[0;34m)\u001b[0m\u001b[0;34m\u001b[0m\u001b[0;34m\u001b[0m\u001b[0m\n\u001b[0;32m---> 35\u001b[0;31m         \u001b[0;32mif\u001b[0m \u001b[0;32mnot\u001b[0m \u001b[0mcb_handler\u001b[0m\u001b[0;34m.\u001b[0m\u001b[0mon_backward_end\u001b[0m\u001b[0;34m(\u001b[0m\u001b[0;34m)\u001b[0m\u001b[0;34m:\u001b[0m \u001b[0mopt\u001b[0m\u001b[0;34m.\u001b[0m\u001b[0mstep\u001b[0m\u001b[0;34m(\u001b[0m\u001b[0;34m)\u001b[0m\u001b[0;34m\u001b[0m\u001b[0;34m\u001b[0m\u001b[0m\n\u001b[0m\u001b[1;32m     36\u001b[0m         \u001b[0;32mif\u001b[0m \u001b[0;32mnot\u001b[0m \u001b[0mcb_handler\u001b[0m\u001b[0;34m.\u001b[0m\u001b[0mon_step_end\u001b[0m\u001b[0;34m(\u001b[0m\u001b[0;34m)\u001b[0m\u001b[0;34m:\u001b[0m     \u001b[0mopt\u001b[0m\u001b[0;34m.\u001b[0m\u001b[0mzero_grad\u001b[0m\u001b[0;34m(\u001b[0m\u001b[0;34m)\u001b[0m\u001b[0;34m\u001b[0m\u001b[0;34m\u001b[0m\u001b[0m\n\u001b[1;32m     37\u001b[0m \u001b[0;34m\u001b[0m\u001b[0m\n",
      "\u001b[0;32m~/anaconda3/envs/fastai_tb/lib/python3.7/site-packages/fastai/callback.py\u001b[0m in \u001b[0;36mstep\u001b[0;34m(self)\u001b[0m\n\u001b[1;32m     55\u001b[0m                     \u001b[0;32mfor\u001b[0m \u001b[0mp\u001b[0m \u001b[0;32min\u001b[0m \u001b[0mpg2\u001b[0m\u001b[0;34m[\u001b[0m\u001b[0;34m'params'\u001b[0m\u001b[0;34m]\u001b[0m\u001b[0;34m:\u001b[0m \u001b[0mp\u001b[0m\u001b[0;34m.\u001b[0m\u001b[0mdata\u001b[0m\u001b[0;34m.\u001b[0m\u001b[0mmul_\u001b[0m\u001b[0;34m(\u001b[0m\u001b[0;36m1\u001b[0m \u001b[0;34m-\u001b[0m \u001b[0mwd\u001b[0m\u001b[0;34m*\u001b[0m\u001b[0mlr\u001b[0m\u001b[0;34m)\u001b[0m\u001b[0;34m\u001b[0m\u001b[0;34m\u001b[0m\u001b[0m\n\u001b[1;32m     56\u001b[0m             \u001b[0mself\u001b[0m\u001b[0;34m.\u001b[0m\u001b[0mset_val\u001b[0m\u001b[0;34m(\u001b[0m\u001b[0;34m'weight_decay'\u001b[0m\u001b[0;34m,\u001b[0m \u001b[0mlistify\u001b[0m\u001b[0;34m(\u001b[0m\u001b[0;36m0\u001b[0m\u001b[0;34m,\u001b[0m \u001b[0mself\u001b[0m\u001b[0;34m.\u001b[0m\u001b[0m_wd\u001b[0m\u001b[0;34m)\u001b[0m\u001b[0;34m)\u001b[0m\u001b[0;34m\u001b[0m\u001b[0;34m\u001b[0m\u001b[0m\n\u001b[0;32m---> 57\u001b[0;31m         \u001b[0mself\u001b[0m\u001b[0;34m.\u001b[0m\u001b[0mopt\u001b[0m\u001b[0;34m.\u001b[0m\u001b[0mstep\u001b[0m\u001b[0;34m(\u001b[0m\u001b[0;34m)\u001b[0m\u001b[0;34m\u001b[0m\u001b[0;34m\u001b[0m\u001b[0m\n\u001b[0m\u001b[1;32m     58\u001b[0m \u001b[0;34m\u001b[0m\u001b[0m\n\u001b[1;32m     59\u001b[0m     \u001b[0;32mdef\u001b[0m \u001b[0mzero_grad\u001b[0m\u001b[0;34m(\u001b[0m\u001b[0mself\u001b[0m\u001b[0;34m)\u001b[0m\u001b[0;34m->\u001b[0m\u001b[0;32mNone\u001b[0m\u001b[0;34m:\u001b[0m\u001b[0;34m\u001b[0m\u001b[0;34m\u001b[0m\u001b[0m\n",
      "\u001b[0;32m~/anaconda3/envs/fastai_tb/lib/python3.7/site-packages/torch/autograd/grad_mode.py\u001b[0m in \u001b[0;36mdecorate_no_grad\u001b[0;34m(*args, **kwargs)\u001b[0m\n\u001b[1;32m     47\u001b[0m         \u001b[0;32mdef\u001b[0m \u001b[0mdecorate_no_grad\u001b[0m\u001b[0;34m(\u001b[0m\u001b[0;34m*\u001b[0m\u001b[0margs\u001b[0m\u001b[0;34m,\u001b[0m \u001b[0;34m**\u001b[0m\u001b[0mkwargs\u001b[0m\u001b[0;34m)\u001b[0m\u001b[0;34m:\u001b[0m\u001b[0;34m\u001b[0m\u001b[0;34m\u001b[0m\u001b[0m\n\u001b[1;32m     48\u001b[0m             \u001b[0;32mwith\u001b[0m \u001b[0mself\u001b[0m\u001b[0;34m:\u001b[0m\u001b[0;34m\u001b[0m\u001b[0;34m\u001b[0m\u001b[0m\n\u001b[0;32m---> 49\u001b[0;31m                 \u001b[0;32mreturn\u001b[0m \u001b[0mfunc\u001b[0m\u001b[0;34m(\u001b[0m\u001b[0;34m*\u001b[0m\u001b[0margs\u001b[0m\u001b[0;34m,\u001b[0m \u001b[0;34m**\u001b[0m\u001b[0mkwargs\u001b[0m\u001b[0;34m)\u001b[0m\u001b[0;34m\u001b[0m\u001b[0;34m\u001b[0m\u001b[0m\n\u001b[0m\u001b[1;32m     50\u001b[0m         \u001b[0;32mreturn\u001b[0m \u001b[0mdecorate_no_grad\u001b[0m\u001b[0;34m\u001b[0m\u001b[0;34m\u001b[0m\u001b[0m\n\u001b[1;32m     51\u001b[0m \u001b[0;34m\u001b[0m\u001b[0m\n",
      "\u001b[0;32m~/code_space/detect_symbol/exp/nb_optimizer.py\u001b[0m in \u001b[0;36mstep\u001b[0;34m(self)\u001b[0m\n\u001b[1;32m    446\u001b[0m                 \u001b[0;31m# state\u001b[0m\u001b[0;34m\u001b[0m\u001b[0;34m\u001b[0m\u001b[0;34m\u001b[0m\u001b[0m\n\u001b[1;32m    447\u001b[0m                 \u001b[0mstate\u001b[0m \u001b[0;34m=\u001b[0m \u001b[0mself\u001b[0m\u001b[0;34m.\u001b[0m\u001b[0mstate\u001b[0m\u001b[0;34m[\u001b[0m\u001b[0mp\u001b[0m\u001b[0;34m]\u001b[0m\u001b[0;34m\u001b[0m\u001b[0;34m\u001b[0m\u001b[0m\n\u001b[0;32m--> 448\u001b[0;31m                 \u001b[0mm\u001b[0m\u001b[0;34m,\u001b[0m\u001b[0mv\u001b[0m \u001b[0;34m=\u001b[0m \u001b[0mself\u001b[0m\u001b[0;34m.\u001b[0m\u001b[0m_update_state\u001b[0m\u001b[0;34m(\u001b[0m\u001b[0mgroup\u001b[0m\u001b[0;34m,\u001b[0m\u001b[0mstate\u001b[0m\u001b[0;34m,\u001b[0m\u001b[0mgrad\u001b[0m\u001b[0;34m)\u001b[0m\u001b[0;34m\u001b[0m\u001b[0;34m\u001b[0m\u001b[0m\n\u001b[0m\u001b[1;32m    449\u001b[0m \u001b[0;34m\u001b[0m\u001b[0m\n\u001b[1;32m    450\u001b[0m                 \u001b[0;31m# debias\u001b[0m\u001b[0;34m\u001b[0m\u001b[0;34m\u001b[0m\u001b[0;34m\u001b[0m\u001b[0m\n",
      "\u001b[0;32m~/code_space/detect_symbol/exp/nb_optimizer.py\u001b[0m in \u001b[0;36m_update_state\u001b[0;34m(self, group, state, grad)\u001b[0m\n\u001b[1;32m    424\u001b[0m         \u001b[0mbeta1\u001b[0m\u001b[0;34m,\u001b[0m \u001b[0mbeta2\u001b[0m \u001b[0;34m=\u001b[0m \u001b[0mgroup\u001b[0m\u001b[0;34m[\u001b[0m\u001b[0;34m'betas'\u001b[0m\u001b[0;34m]\u001b[0m\u001b[0;34m\u001b[0m\u001b[0;34m\u001b[0m\u001b[0m\n\u001b[1;32m    425\u001b[0m         \u001b[0ms\u001b[0m \u001b[0;34m=\u001b[0m \u001b[0mgrad\u001b[0m\u001b[0;34m.\u001b[0m\u001b[0msign\u001b[0m\u001b[0;34m(\u001b[0m\u001b[0;34m)\u001b[0m\u001b[0;34m\u001b[0m\u001b[0;34m\u001b[0m\u001b[0m\n\u001b[0;32m--> 426\u001b[0;31m         \u001b[0mr\u001b[0m \u001b[0;34m=\u001b[0m \u001b[0mtorch\u001b[0m\u001b[0;34m.\u001b[0m\u001b[0mwhere\u001b[0m\u001b[0;34m(\u001b[0m\u001b[0mstate\u001b[0m\u001b[0;34m[\u001b[0m\u001b[0;34m'exp_avg_unit'\u001b[0m\u001b[0;34m]\u001b[0m\u001b[0;34m==\u001b[0m\u001b[0;36m0\u001b[0m\u001b[0;34m,\u001b[0m \u001b[0mtorch\u001b[0m\u001b[0;34m.\u001b[0m\u001b[0mtensor\u001b[0m\u001b[0;34m(\u001b[0m\u001b[0;36m1.\u001b[0m\u001b[0;34m,\u001b[0m\u001b[0mdevice\u001b[0m\u001b[0;34m=\u001b[0m\u001b[0mgrad\u001b[0m\u001b[0;34m.\u001b[0m\u001b[0mdevice\u001b[0m\u001b[0;34m)\u001b[0m\u001b[0;34m,\u001b[0m \u001b[0ms\u001b[0m\u001b[0;34m/\u001b[0m\u001b[0mstate\u001b[0m\u001b[0;34m[\u001b[0m\u001b[0;34m'exp_avg_unit'\u001b[0m\u001b[0;34m]\u001b[0m\u001b[0;34m)\u001b[0m\u001b[0;34m\u001b[0m\u001b[0;34m\u001b[0m\u001b[0m\n\u001b[0m\u001b[1;32m    427\u001b[0m \u001b[0;34m\u001b[0m\u001b[0m\n\u001b[1;32m    428\u001b[0m         \u001b[0mstate\u001b[0m\u001b[0;34m[\u001b[0m\u001b[0;34m'exp_avg_unit'\u001b[0m\u001b[0;34m]\u001b[0m\u001b[0;34m.\u001b[0m\u001b[0mmul_\u001b[0m\u001b[0;34m(\u001b[0m\u001b[0mbeta1\u001b[0m\u001b[0;34m)\u001b[0m\u001b[0;34m.\u001b[0m\u001b[0madd_\u001b[0m\u001b[0;34m(\u001b[0m\u001b[0ms\u001b[0m\u001b[0;34m,\u001b[0m \u001b[0malpha\u001b[0m\u001b[0;34m=\u001b[0m\u001b[0;36m1\u001b[0m\u001b[0;34m-\u001b[0m\u001b[0mbeta1\u001b[0m\u001b[0;34m)\u001b[0m\u001b[0;34m\u001b[0m\u001b[0;34m\u001b[0m\u001b[0m\n",
      "\u001b[0;31mKeyboardInterrupt\u001b[0m: "
     ]
    }
   ],
   "source": [
    "# fit\n",
    "fit_with_warmup_multiAnnealPlat(learn,\n",
    "                                epoch_len=10,\n",
    "                                num_epoch=100,\n",
    "\n",
    "                                lr_start=3e-3,\n",
    "                                lr_constant=3e-2,\n",
    "                                warmup_iter=10,\n",
    "                                \n",
    "                                monitor='train_smooth',\n",
    "                                worseN_thres=20,\n",
    "                                annealRate=5,\n",
    "                                duration_thres=20,\n",
    "                                annealIte=10,\n",
    "                                phaseMaxN=3,\n",
    "                                callbacks=[tbCb])"
   ]
  },
  {
   "cell_type": "markdown",
   "metadata": {},
   "source": [
    "# export"
   ]
  },
  {
   "cell_type": "code",
   "execution_count": 7,
   "metadata": {},
   "outputs": [
    {
     "name": "stdout",
     "output_type": "stream",
     "text": [
      "Converted scheduling_train.ipynb to exp/nb_scheduling_train.py\r\n"
     ]
    }
   ],
   "source": [
    "!python notebook2script.py --fname 'scheduling_train.ipynb' --outputDir './exp/'"
   ]
  }
 ],
 "metadata": {
  "kernelspec": {
   "display_name": "Python 3",
   "language": "python",
   "name": "python3"
  },
  "language_info": {
   "codemirror_mode": {
    "name": "ipython",
    "version": 3
   },
   "file_extension": ".py",
   "mimetype": "text/x-python",
   "name": "python",
   "nbconvert_exporter": "python",
   "pygments_lexer": "ipython3",
   "version": "3.8.5"
  },
  "toc": {
   "base_numbering": 1,
   "nav_menu": {},
   "number_sections": true,
   "sideBar": true,
   "skip_h1_title": false,
   "title_cell": "Table of Contents",
   "title_sidebar": "Contents",
   "toc_cell": false,
   "toc_position": {},
   "toc_section_display": true,
   "toc_window_display": false
  }
 },
 "nbformat": 4,
 "nbformat_minor": 2
}
