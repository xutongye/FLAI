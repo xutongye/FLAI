{
 "cells": [
  {
   "cell_type": "markdown",
   "metadata": {
    "heading_collapsed": true
   },
   "source": [
    "# import"
   ]
  },
  {
   "cell_type": "code",
   "execution_count": 1,
   "metadata": {
    "hidden": true
   },
   "outputs": [],
   "source": [
    "import pandas as pd"
   ]
  },
  {
   "cell_type": "code",
   "execution_count": 2,
   "metadata": {
    "hidden": true
   },
   "outputs": [],
   "source": [
    "import numpy as np"
   ]
  },
  {
   "cell_type": "code",
   "execution_count": 3,
   "metadata": {
    "hidden": true
   },
   "outputs": [],
   "source": [
    "import re"
   ]
  },
  {
   "cell_type": "code",
   "execution_count": 4,
   "metadata": {
    "hidden": true
   },
   "outputs": [],
   "source": [
    "import matplotlib.pyplot as plt"
   ]
  },
  {
   "cell_type": "code",
   "execution_count": 5,
   "metadata": {
    "hidden": true
   },
   "outputs": [],
   "source": [
    "from IPython.core import debugger as idb"
   ]
  },
  {
   "cell_type": "markdown",
   "metadata": {},
   "source": [
    "# config"
   ]
  },
  {
   "cell_type": "code",
   "execution_count": 6,
   "metadata": {},
   "outputs": [],
   "source": [
    "bbox_csv_fn = './data/src_img/allboxes.csv'"
   ]
  },
  {
   "cell_type": "markdown",
   "metadata": {},
   "source": [
    "# bbox neighbor distance statistics"
   ]
  },
  {
   "cell_type": "markdown",
   "metadata": {
    "heading_collapsed": true
   },
   "source": [
    "## functions"
   ]
  },
  {
   "cell_type": "code",
   "execution_count": 7,
   "metadata": {
    "hidden": true
   },
   "outputs": [],
   "source": [
    "pat_num = re.compile(r'\\d+')\n",
    "\n",
    "def str2bboxs(string):\n",
    "    '''\n",
    "    example:\n",
    "    get a string like '[[1,1,2,2],[3,3,4,4]]', return a list like [[1,1,2,2],[3,3,4,4]]\n",
    "    '''\n",
    "    res = pat_num.findall(string)\n",
    "    res = list(map(np.long, res))\n",
    "    res = np.array(res).reshape(-1,4)\n",
    "    res = res.tolist()\n",
    "    return res"
   ]
  },
  {
   "cell_type": "code",
   "execution_count": 8,
   "metadata": {
    "hidden": true
   },
   "outputs": [],
   "source": [
    "def bboxs2centers(bboxs):\n",
    "    '''\n",
    "    example:\n",
    "    get a bboxs like [[1,2,3,4],[5,6,7,8]], return centers like [[2,3],[6,7]]\n",
    "    '''\n",
    "    centers = np.zeros((bboxs.shape[0],2))\n",
    "    centers[:,0] = bboxs[:,0::2].mean(1)\n",
    "    centers[:,1] = bboxs[:,1::2].mean(1)\n",
    "    \n",
    "    return centers"
   ]
  },
  {
   "cell_type": "code",
   "execution_count": 9,
   "metadata": {
    "hidden": true
   },
   "outputs": [
    {
     "data": {
      "text/plain": [
       "array([-1,  2,  3,  2])"
      ]
     },
     "execution_count": 9,
     "metadata": {},
     "output_type": "execute_result"
    }
   ],
   "source": [
    "aaa = np.array([-1,2,3,2])\n",
    "aaa"
   ]
  },
  {
   "cell_type": "code",
   "execution_count": 10,
   "metadata": {
    "hidden": true
   },
   "outputs": [
    {
     "data": {
      "text/plain": [
       "array([1, 2, 3, 2])"
      ]
     },
     "execution_count": 10,
     "metadata": {},
     "output_type": "execute_result"
    }
   ],
   "source": [
    "abs(aaa)"
   ]
  },
  {
   "cell_type": "code",
   "execution_count": 11,
   "metadata": {
    "hidden": true
   },
   "outputs": [
    {
     "data": {
      "text/plain": [
       "2"
      ]
     },
     "execution_count": 11,
     "metadata": {},
     "output_type": "execute_result"
    }
   ],
   "source": [
    "np.argmax(aaa)"
   ]
  },
  {
   "cell_type": "code",
   "execution_count": 12,
   "metadata": {
    "hidden": true
   },
   "outputs": [],
   "source": [
    "def neighbor_xyDiff(points):\n",
    "    '''\n",
    "    Get the difference on x and y direction between each point and it's neighbor. \n",
    "    '''\n",
    "    xyDiffs = np.zeros_like(points)\n",
    "    for i in range(points.shape[0]):\n",
    "        p = points[i]\n",
    "        op = np.delete(points,i,0) # op: Other Points\n",
    "        sDists = np.power(op-p[None],2).sum(1) # sDists: Square DISTanceS, we just compare them, do not need the actural distances, there square are enough.\n",
    "        nId = np.argmin(sDists)# InDex of Neighbor \n",
    "        xyDiffs[i,:] = abs(op[nId,:]-p)\n",
    "        \n",
    "    return xyDiffs"
   ]
  },
  {
   "cell_type": "markdown",
   "metadata": {},
   "source": [
    "## process"
   ]
  },
  {
   "cell_type": "markdown",
   "metadata": {
    "heading_collapsed": true
   },
   "source": [
    "### 加载数据"
   ]
  },
  {
   "cell_type": "code",
   "execution_count": 13,
   "metadata": {
    "hidden": true
   },
   "outputs": [
    {
     "data": {
      "text/html": [
       "<div>\n",
       "<style scoped>\n",
       "    .dataframe tbody tr th:only-of-type {\n",
       "        vertical-align: middle;\n",
       "    }\n",
       "\n",
       "    .dataframe tbody tr th {\n",
       "        vertical-align: top;\n",
       "    }\n",
       "\n",
       "    .dataframe thead th {\n",
       "        text-align: right;\n",
       "    }\n",
       "</style>\n",
       "<table border=\"1\" class=\"dataframe\">\n",
       "  <thead>\n",
       "    <tr style=\"text-align: right;\">\n",
       "      <th></th>\n",
       "      <th>image</th>\n",
       "      <th>box</th>\n",
       "      <th>cls</th>\n",
       "    </tr>\n",
       "  </thead>\n",
       "  <tbody>\n",
       "    <tr>\n",
       "      <th>0</th>\n",
       "      <td>[BA18101C-D01-03]短路电流计算及校验表.pdf__dpi300.0_0.png</td>\n",
       "      <td>[[1209, 876, 1301, 931], [1209, 1125, 1299, 11...</td>\n",
       "      <td>['c13_danxiangbyq', 'c13_danxiangbyq', 'c13_da...</td>\n",
       "    </tr>\n",
       "    <tr>\n",
       "      <th>1</th>\n",
       "      <td>[BA18101C-D01-04]电气主接线图.pdf__dpi300.0_0.png</td>\n",
       "      <td>[[2097, 1579, 2235, 1662], [2100, 3754, 2232, ...</td>\n",
       "      <td>['c1_tiaoya', 'c1_tiaoya', 'c1_tiaoya', 'c2_di...</td>\n",
       "    </tr>\n",
       "    <tr>\n",
       "      <th>2</th>\n",
       "      <td>[BA18101C-D01-08]110kV主变进线及母线设备间隔断面图.pdf__dpi3...</td>\n",
       "      <td>[[569, 1975, 701, 2070], [614, 2187, 645, 2223...</td>\n",
       "      <td>['c2_dianyahgq', 'c3_3gongweiglkg', 'c3_3gongw...</td>\n",
       "    </tr>\n",
       "    <tr>\n",
       "      <th>3</th>\n",
       "      <td>[BA18101C-D01-09]110kV出线间隔断面图.pdf__dpi300.0_0.png</td>\n",
       "      <td>[[569, 2146, 604, 2184], [589, 1782, 625, 1821...</td>\n",
       "      <td>['c3_3gongweiglkg', 'c3_3gongweiglkg', 'c3_3go...</td>\n",
       "    </tr>\n",
       "    <tr>\n",
       "      <th>4</th>\n",
       "      <td>[BA18101C-D01-10]110kV内桥间隔断面图.pdf__dpi300.0_0.png</td>\n",
       "      <td>[[461, 2448, 488, 2482], [634, 2448, 663, 2483...</td>\n",
       "      <td>['c3_3gongweiglkg', 'c3_3gongweiglkg', 'c8_dia...</td>\n",
       "    </tr>\n",
       "    <tr>\n",
       "      <th>5</th>\n",
       "      <td>[BA18101C-D01-11]10kV配电装置接线图.pdf__dpi300.0_0.png</td>\n",
       "      <td>[[2622, 2699, 2724, 2774], [2622, 4261, 2723, ...</td>\n",
       "      <td>['c2_dianyahgq', 'c2_dianyahgq', 'c5_daidianxi...</td>\n",
       "    </tr>\n",
       "    <tr>\n",
       "      <th>6</th>\n",
       "      <td>[BA18101C-D01-15]10kV电容器组平断面图.pdf__dpi300.0_0.png</td>\n",
       "      <td>[[298, 2690, 328, 2707], [352, 2506, 420, 2547...</td>\n",
       "      <td>['c7_bileiqi', 'c15_duojikaiguan', 'c16_dianka...</td>\n",
       "    </tr>\n",
       "    <tr>\n",
       "      <th>7</th>\n",
       "      <td>[BA18101C-D01-16]站用电系统接线图.pdf__dpi300.0_0.png</td>\n",
       "      <td>[[721, 1407, 749, 1423], [1240, 1047, 1290, 11...</td>\n",
       "      <td>['c7_bileiqi', 'c8_dianliuhgq', 'c8_dianliuhgq...</td>\n",
       "    </tr>\n",
       "    <tr>\n",
       "      <th>8</th>\n",
       "      <td>[BA18101C-D02-06]全站保护配置图.pdf__dpi300.0_0.png</td>\n",
       "      <td>[]</td>\n",
       "      <td>[]</td>\n",
       "    </tr>\n",
       "    <tr>\n",
       "      <th>9</th>\n",
       "      <td>[BA18101C-D02-07]变电站过程层设备配置图.pdf__dpi300.0_0.png</td>\n",
       "      <td>[[2087, 3750, 2232, 3845], [2088, 1573, 2235, ...</td>\n",
       "      <td>['c1_tiaoya', 'c1_tiaoya', 'c1_tiaoya', 'c2_di...</td>\n",
       "    </tr>\n",
       "    <tr>\n",
       "      <th>10</th>\n",
       "      <td>[BA18101C-D01-03]短路电流计算及校验表.pdf__dpi500.0_0.png</td>\n",
       "      <td>[[2015, 1460, 2168, 1551], [2015, 1875, 2165, ...</td>\n",
       "      <td>['c13_danxiangbyq', 'c13_danxiangbyq', 'c13_da...</td>\n",
       "    </tr>\n",
       "    <tr>\n",
       "      <th>11</th>\n",
       "      <td>[BA18101C-D01-04]电气主接线图.pdf__dpi500.0_0.png</td>\n",
       "      <td>[[3495, 2631, 3725, 2770], [3500, 6256, 3720, ...</td>\n",
       "      <td>['c1_tiaoya', 'c1_tiaoya', 'c1_tiaoya', 'c2_di...</td>\n",
       "    </tr>\n",
       "    <tr>\n",
       "      <th>12</th>\n",
       "      <td>[BA18101C-D01-08]110kV主变进线及母线设备间隔断面图.pdf__dpi5...</td>\n",
       "      <td>[[948, 3291, 1168, 3450], [1023, 3645, 1075, 3...</td>\n",
       "      <td>['c2_dianyahgq', 'c3_3gongweiglkg', 'c3_3gongw...</td>\n",
       "    </tr>\n",
       "    <tr>\n",
       "      <th>13</th>\n",
       "      <td>[BA18101C-D01-09]110kV出线间隔断面图.pdf__dpi500.0_0.png</td>\n",
       "      <td>[[948, 3576, 1006, 3640], [981, 2970, 1041, 30...</td>\n",
       "      <td>['c3_3gongweiglkg', 'c3_3gongweiglkg', 'c3_3go...</td>\n",
       "    </tr>\n",
       "    <tr>\n",
       "      <th>14</th>\n",
       "      <td>[BA18101C-D01-10]110kV内桥间隔断面图.pdf__dpi500.0_0.png</td>\n",
       "      <td>[[768, 4080, 813, 4136], [1056, 4080, 1105, 41...</td>\n",
       "      <td>['c3_3gongweiglkg', 'c3_3gongweiglkg', 'c8_dia...</td>\n",
       "    </tr>\n",
       "    <tr>\n",
       "      <th>15</th>\n",
       "      <td>[BA18101C-D01-11]10kV配电装置接线图.pdf__dpi500.0_0.png</td>\n",
       "      <td>[[4370, 4498, 4540, 4623], [4370, 7101, 4538, ...</td>\n",
       "      <td>['c2_dianyahgq', 'c2_dianyahgq', 'c5_daidianxi...</td>\n",
       "    </tr>\n",
       "    <tr>\n",
       "      <th>16</th>\n",
       "      <td>[BA18101C-D01-15]10kV电容器组平断面图.pdf__dpi500.0_0.png</td>\n",
       "      <td>[[496, 4483, 546, 4511], [586, 4176, 700, 4245...</td>\n",
       "      <td>['c7_bileiqi', 'c15_duojikaiguan', 'c16_dianka...</td>\n",
       "    </tr>\n",
       "    <tr>\n",
       "      <th>17</th>\n",
       "      <td>[BA18101C-D01-16]站用电系统接线图.pdf__dpi500.0_0.png</td>\n",
       "      <td>[[1201, 2345, 1248, 2371], [2066, 1745, 2150, ...</td>\n",
       "      <td>['c7_bileiqi', 'c8_dianliuhgq', 'c8_dianliuhgq...</td>\n",
       "    </tr>\n",
       "    <tr>\n",
       "      <th>18</th>\n",
       "      <td>[BA18101C-D02-07]变电站过程层设备配置图.pdf__dpi500.0_0.png</td>\n",
       "      <td>[[3478, 6250, 3720, 6408], [3480, 2621, 3725, ...</td>\n",
       "      <td>['c1_tiaoya', 'c1_tiaoya', 'c1_tiaoya', 'c2_di...</td>\n",
       "    </tr>\n",
       "  </tbody>\n",
       "</table>\n",
       "</div>"
      ],
      "text/plain": [
       "                                                image  \\\n",
       "0     [BA18101C-D01-03]短路电流计算及校验表.pdf__dpi300.0_0.png   \n",
       "1         [BA18101C-D01-04]电气主接线图.pdf__dpi300.0_0.png   \n",
       "2   [BA18101C-D01-08]110kV主变进线及母线设备间隔断面图.pdf__dpi3...   \n",
       "3   [BA18101C-D01-09]110kV出线间隔断面图.pdf__dpi300.0_0.png   \n",
       "4   [BA18101C-D01-10]110kV内桥间隔断面图.pdf__dpi300.0_0.png   \n",
       "5    [BA18101C-D01-11]10kV配电装置接线图.pdf__dpi300.0_0.png   \n",
       "6   [BA18101C-D01-15]10kV电容器组平断面图.pdf__dpi300.0_0.png   \n",
       "7       [BA18101C-D01-16]站用电系统接线图.pdf__dpi300.0_0.png   \n",
       "8        [BA18101C-D02-06]全站保护配置图.pdf__dpi300.0_0.png   \n",
       "9    [BA18101C-D02-07]变电站过程层设备配置图.pdf__dpi300.0_0.png   \n",
       "10    [BA18101C-D01-03]短路电流计算及校验表.pdf__dpi500.0_0.png   \n",
       "11        [BA18101C-D01-04]电气主接线图.pdf__dpi500.0_0.png   \n",
       "12  [BA18101C-D01-08]110kV主变进线及母线设备间隔断面图.pdf__dpi5...   \n",
       "13  [BA18101C-D01-09]110kV出线间隔断面图.pdf__dpi500.0_0.png   \n",
       "14  [BA18101C-D01-10]110kV内桥间隔断面图.pdf__dpi500.0_0.png   \n",
       "15   [BA18101C-D01-11]10kV配电装置接线图.pdf__dpi500.0_0.png   \n",
       "16  [BA18101C-D01-15]10kV电容器组平断面图.pdf__dpi500.0_0.png   \n",
       "17      [BA18101C-D01-16]站用电系统接线图.pdf__dpi500.0_0.png   \n",
       "18   [BA18101C-D02-07]变电站过程层设备配置图.pdf__dpi500.0_0.png   \n",
       "\n",
       "                                                  box  \\\n",
       "0   [[1209, 876, 1301, 931], [1209, 1125, 1299, 11...   \n",
       "1   [[2097, 1579, 2235, 1662], [2100, 3754, 2232, ...   \n",
       "2   [[569, 1975, 701, 2070], [614, 2187, 645, 2223...   \n",
       "3   [[569, 2146, 604, 2184], [589, 1782, 625, 1821...   \n",
       "4   [[461, 2448, 488, 2482], [634, 2448, 663, 2483...   \n",
       "5   [[2622, 2699, 2724, 2774], [2622, 4261, 2723, ...   \n",
       "6   [[298, 2690, 328, 2707], [352, 2506, 420, 2547...   \n",
       "7   [[721, 1407, 749, 1423], [1240, 1047, 1290, 11...   \n",
       "8                                                  []   \n",
       "9   [[2087, 3750, 2232, 3845], [2088, 1573, 2235, ...   \n",
       "10  [[2015, 1460, 2168, 1551], [2015, 1875, 2165, ...   \n",
       "11  [[3495, 2631, 3725, 2770], [3500, 6256, 3720, ...   \n",
       "12  [[948, 3291, 1168, 3450], [1023, 3645, 1075, 3...   \n",
       "13  [[948, 3576, 1006, 3640], [981, 2970, 1041, 30...   \n",
       "14  [[768, 4080, 813, 4136], [1056, 4080, 1105, 41...   \n",
       "15  [[4370, 4498, 4540, 4623], [4370, 7101, 4538, ...   \n",
       "16  [[496, 4483, 546, 4511], [586, 4176, 700, 4245...   \n",
       "17  [[1201, 2345, 1248, 2371], [2066, 1745, 2150, ...   \n",
       "18  [[3478, 6250, 3720, 6408], [3480, 2621, 3725, ...   \n",
       "\n",
       "                                                  cls  \n",
       "0   ['c13_danxiangbyq', 'c13_danxiangbyq', 'c13_da...  \n",
       "1   ['c1_tiaoya', 'c1_tiaoya', 'c1_tiaoya', 'c2_di...  \n",
       "2   ['c2_dianyahgq', 'c3_3gongweiglkg', 'c3_3gongw...  \n",
       "3   ['c3_3gongweiglkg', 'c3_3gongweiglkg', 'c3_3go...  \n",
       "4   ['c3_3gongweiglkg', 'c3_3gongweiglkg', 'c8_dia...  \n",
       "5   ['c2_dianyahgq', 'c2_dianyahgq', 'c5_daidianxi...  \n",
       "6   ['c7_bileiqi', 'c15_duojikaiguan', 'c16_dianka...  \n",
       "7   ['c7_bileiqi', 'c8_dianliuhgq', 'c8_dianliuhgq...  \n",
       "8                                                  []  \n",
       "9   ['c1_tiaoya', 'c1_tiaoya', 'c1_tiaoya', 'c2_di...  \n",
       "10  ['c13_danxiangbyq', 'c13_danxiangbyq', 'c13_da...  \n",
       "11  ['c1_tiaoya', 'c1_tiaoya', 'c1_tiaoya', 'c2_di...  \n",
       "12  ['c2_dianyahgq', 'c3_3gongweiglkg', 'c3_3gongw...  \n",
       "13  ['c3_3gongweiglkg', 'c3_3gongweiglkg', 'c3_3go...  \n",
       "14  ['c3_3gongweiglkg', 'c3_3gongweiglkg', 'c8_dia...  \n",
       "15  ['c2_dianyahgq', 'c2_dianyahgq', 'c5_daidianxi...  \n",
       "16  ['c7_bileiqi', 'c15_duojikaiguan', 'c16_dianka...  \n",
       "17  ['c7_bileiqi', 'c8_dianliuhgq', 'c8_dianliuhgq...  \n",
       "18  ['c1_tiaoya', 'c1_tiaoya', 'c1_tiaoya', 'c2_di...  "
      ]
     },
     "execution_count": 13,
     "metadata": {},
     "output_type": "execute_result"
    }
   ],
   "source": [
    "# 读入csv\n",
    "df = pd.read_csv(bbox_csv_fn,index_col=0)\n",
    "df"
   ]
  },
  {
   "cell_type": "code",
   "execution_count": 14,
   "metadata": {
    "hidden": true
   },
   "outputs": [],
   "source": [
    "# 获取所有bbox数据，来源图片相同的组织为一个array，所有array放在一个list里\n",
    "bboxss = []\n",
    "for box_str in df.box:\n",
    "    bboxs = str2bboxs(box_str)\n",
    "    bboxs = np.array(bboxs)\n",
    "    bboxss += [bboxs]"
   ]
  },
  {
   "cell_type": "code",
   "execution_count": 15,
   "metadata": {
    "hidden": true
   },
   "outputs": [],
   "source": [
    "# 剔除空bboxs\n",
    "bboxss = [bboxs for bboxs in bboxss if len(bboxs)!=0]"
   ]
  },
  {
   "cell_type": "markdown",
   "metadata": {
    "heading_collapsed": true
   },
   "source": [
    "### 得到 neighbor x,y delta"
   ]
  },
  {
   "cell_type": "code",
   "execution_count": 16,
   "metadata": {
    "hidden": true
   },
   "outputs": [],
   "source": [
    "# 提取bbox中心\n",
    "centerss = []\n",
    "for bboxs in bboxss:\n",
    "    centers = bboxs2centers(bboxs)\n",
    "    centerss += [centers]"
   ]
  },
  {
   "cell_type": "code",
   "execution_count": 17,
   "metadata": {
    "hidden": true
   },
   "outputs": [],
   "source": [
    "# 提取各点与最近邻点在x、y方向上的差\n",
    "xydss = [] # X and Y DifferenceSS\n",
    "for centers in centerss:\n",
    "    xyds = neighbor_xyDiff(centers)\n",
    "    xydss += [xyds]"
   ]
  },
  {
   "cell_type": "code",
   "execution_count": 18,
   "metadata": {
    "hidden": true
   },
   "outputs": [],
   "source": [
    "# 打破“来源图片相同的bboxs组织在一个array中”的边界，将所有xyDs组织在一起\n",
    "tds = xydss[0] # tds: Total xy DifferenceS\n",
    "for xyds in xydss[1:]:\n",
    "    tds = np.append(tds,xyds,axis=0)"
   ]
  },
  {
   "cell_type": "markdown",
   "metadata": {},
   "source": [
    "### 查看 neighbor x,y delta 的分布"
   ]
  },
  {
   "cell_type": "code",
   "execution_count": 19,
   "metadata": {
    "code_folding": [
     0
    ]
   },
   "outputs": [
    {
     "data": {
      "image/png": "[encoded data removed]",
      "text/plain": [
       "<Figure size 504x504 with 1 Axes>"
      ]
     },
     "metadata": {
      "needs_background": "light"
     },
     "output_type": "display_data"
    }
   ],
   "source": [
    "# 绘制所有neighbor x,y delta\n",
    "plt.figure(figsize=(7,7))\n",
    "plt.scatter(tds[:,0],tds[:,1],linewidths=1);"
   ]
  },
  {
   "cell_type": "code",
   "execution_count": 20,
   "metadata": {
    "code_folding": [
     0
    ]
   },
   "outputs": [
    {
     "data": {
      "text/plain": [
       "(0, 100)"
      ]
     },
     "execution_count": 20,
     "metadata": {},
     "output_type": "execute_result"
    },
    {
     "data": {
      "image/png": "[encoded data removed]",
      "text/plain": [
       "<Figure size 504x504 with 1 Axes>"
      ]
     },
     "metadata": {
      "needs_background": "light"
     },
     "output_type": "display_data"
    }
   ],
   "source": [
    "# 放大观察小距离的neighbor x,y delta\n",
    "plt.figure(figsize=(7,7))\n",
    "plt.scatter(tds[:,0],tds[:,1],linewidths=1)\n",
    "plt.xlim(0,100)\n",
    "plt.ylim(0,100)"
   ]
  },
  {
   "cell_type": "code",
   "execution_count": 21,
   "metadata": {
    "code_folding": [
     0
    ]
   },
   "outputs": [
    {
     "name": "stdout",
     "output_type": "stream",
     "text": [
      "x:52.5, y:22.0\n"
     ]
    }
   ],
   "source": [
    "# 我们更关心两相邻点之间相距更远的那个方向上的距离\n",
    "x_d = []\n",
    "y_d = []\n",
    "for d in tds:\n",
    "    x,y = d\n",
    "    if x>=y: \n",
    "        x_d += [x]\n",
    "    else:\n",
    "        y_d += [y]\n",
    "\n",
    "print(f'x:{min(x_d)}, y:{min(y_d)}')"
   ]
  },
  {
   "cell_type": "code",
   "execution_count": null,
   "metadata": {},
   "outputs": [],
   "source": []
  }
 ],
 "metadata": {
  "kernelspec": {
   "display_name": "Python 3.7.6 64-bit ('py3': conda)",
   "language": "python",
   "name": "python37664bitpy3conda48ad9acbe6d247e2931dbf703fd77010"
  },
  "language_info": {
   "codemirror_mode": {
    "name": "ipython",
    "version": 3
   },
   "file_extension": ".py",
   "mimetype": "text/x-python",
   "name": "python",
   "nbconvert_exporter": "python",
   "pygments_lexer": "ipython3",
   "version": "3.7.6"
  }
 },
 "nbformat": 4,
 "nbformat_minor": 2
}
