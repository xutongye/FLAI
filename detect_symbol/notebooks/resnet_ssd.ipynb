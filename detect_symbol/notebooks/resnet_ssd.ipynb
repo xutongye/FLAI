{
 "cells": [
  {
   "cell_type": "code",
   "execution_count": 2,
   "metadata": {},
   "outputs": [
    {
     "name": "stdout",
     "output_type": "stream",
     "text": [
      "The autoreload extension is already loaded. To reload it, use:\n",
      "  %reload_ext autoreload\n"
     ]
    }
   ],
   "source": [
    "%load_ext autoreload\n",
    "%autoreload 2\n",
    "\n",
    "%matplotlib inline"
   ]
  },
  {
   "cell_type": "markdown",
   "metadata": {},
   "source": [
    "# import"
   ]
  },
  {
   "cell_type": "code",
   "execution_count": 3,
   "metadata": {},
   "outputs": [],
   "source": [
    "# export\n",
    "import torchvision"
   ]
  },
  {
   "cell_type": "code",
   "execution_count": 4,
   "metadata": {},
   "outputs": [],
   "source": [
    "# export\n",
    "from torch import nn"
   ]
  },
  {
   "cell_type": "code",
   "execution_count": 5,
   "metadata": {},
   "outputs": [],
   "source": [
    "# export\n",
    "import torch"
   ]
  },
  {
   "cell_type": "code",
   "execution_count": 6,
   "metadata": {},
   "outputs": [],
   "source": [
    "import torchvision"
   ]
  },
  {
   "cell_type": "code",
   "execution_count": 7,
   "metadata": {},
   "outputs": [],
   "source": [
    "from IPython.core import debugger as idb"
   ]
  },
  {
   "cell_type": "markdown",
   "metadata": {
    "heading_collapsed": true
   },
   "source": [
    "# config"
   ]
  },
  {
   "cell_type": "markdown",
   "metadata": {},
   "source": [
    "# create model"
   ]
  },
  {
   "cell_type": "markdown",
   "metadata": {},
   "source": [
    "## functions"
   ]
  },
  {
   "cell_type": "markdown",
   "metadata": {
    "heading_collapsed": true
   },
   "source": [
    "### flatten_grid_anchor"
   ]
  },
  {
   "cell_type": "code",
   "execution_count": 8,
   "metadata": {
    "hidden": true
   },
   "outputs": [],
   "source": [
    "# export\n",
    "def flatten_grid_anchor(x,k):\n",
    "    '''\n",
    "    将grid和anchor平铺。\n",
    "    ssd头的卷积输出为 bs*nf*gx*gy，其中nf=num_anchor*num_pred，该函数将其整形为 bs*(gx*gy*num_anchor)*num_pred.\n",
    "    ------------------------------\n",
    "    参数：\n",
    "    -- x：待整形的tensor，其维度为 bs*nf*gx*gy\n",
    "    -- k：每个grid的anchor数\n",
    "    ------------------------------\n",
    "    返回值：\n",
    "    -- 整形后的tensor，其维度为 bs*(gx*gy*k)*num_pred\n",
    "    '''\n",
    "    bs,nf,gx,gy = x.size()\n",
    "#     x = x.permute(0,2,3,1).contiguous() # 横向（y）先变化\n",
    "    x = x.permute(0,3,2,1).contiguous() # 纵向（x）先变化\n",
    "    return x.view(bs,-1,nf//k)"
   ]
  },
  {
   "cell_type": "markdown",
   "metadata": {},
   "source": [
    "### ssd_block"
   ]
  },
  {
   "cell_type": "code",
   "execution_count": 9,
   "metadata": {
    "code_folding": []
   },
   "outputs": [],
   "source": [
    "# export\n",
    "class ssd_block(nn.Module):\n",
    "    def __init__(self, k, nin, n_clas):\n",
    "        '''\n",
    "        ssd头模块，它根据某层的特征图给出bbox预测信息，该模块的输出包含4个部分：\n",
    "        -- loc：bbox中心偏移，2个值\n",
    "        -- conf：目标信心，1个值\n",
    "        -- clas：目标类别，n_clas个值\n",
    "        -- hw：bbox的h和w的缩放信息，2个值\n",
    "        ----------------------------------------\n",
    "        参数：\n",
    "        -- k：每个grid的anchor数\n",
    "        -- nin：输入特征图通道数\n",
    "        -- n_clas：目标类别数\n",
    "        '''\n",
    "        super().__init__()\n",
    "        self.k = k\n",
    "        self.oconv_loc = nn.Conv2d(nin, 2*k, 3, padding=1) # bbox center\n",
    "        self.oconv_conf = nn.Conv2d(nin, 1*k, 3, padding=1) # confidence\n",
    "        self.oconv_clas = nn.Conv2d(nin, n_clas*k, 3, padding=1) # classification\n",
    "        self.oconv_hw = nn.Conv2d(nin, 2*k, 3, padding=1) # bbox height and width\n",
    "        \n",
    "    def forward(self, x):\n",
    "        return (flatten_grid_anchor(self.oconv_loc(x), self.k),\n",
    "                flatten_grid_anchor(self.oconv_conf(x), self.k),\n",
    "                flatten_grid_anchor(self.oconv_clas(x), self.k),\n",
    "                flatten_grid_anchor(self.oconv_hw(x), self.k))"
   ]
  },
  {
   "cell_type": "markdown",
   "metadata": {},
   "source": [
    "### ResNetIsh_SSD"
   ]
  },
  {
   "cell_type": "code",
   "execution_count": 10,
   "metadata": {
    "code_folding": [
     79,
     103,
     118
    ]
   },
   "outputs": [],
   "source": [
    "# export\n",
    "from torchvision.models.resnet import conv1x1\n",
    "class ResNetIsh_SSD(nn.Module):\n",
    "    def __init__(self, block, layers, chs, strides, pred_layerIds, num_anchors, pred_block, num_classes=1000, zero_init_residual=False,\n",
    "                 groups=1, width_per_group=64, replace_stride_with_dilation=None,\n",
    "                 norm_layer=None):\n",
    "        '''\n",
    "        类名称的含义: ResNetIsh_SSD，其中Ish表示某某风格的，ResNetIsh表示resnet风格的，ResNetIsh_SSD表示resnet风格的骨架+SSD风格的预测头部。\n",
    "        resnet风格指其使用的基本模块与构造逻辑与resnet一致。\n",
    "        ---------------------------------------------------------------------------------------\n",
    "        修改自torchvision.models.resent.ResNet源码\n",
    "        ---------------------------------------------------------------------------------------\n",
    "        新增参数：\n",
    "        --chs:\n",
    "            各layer的channel数，其元素个数应与layers一致。\n",
    "        --strides:\n",
    "            各layer的stride，其元素个数应与layers一致。\n",
    "        --pred_layerIds:\n",
    "            用于预测的特征图（下面称为“预测特征图”，不规范的称谓）的层序号，其与layers对应，例如layers=[2,2,2,2,2]，\n",
    "            则pred_layerIds=[2,3,4]表示layers=[2,2,*2,*2,*2]中以*号标出的层的特征图作为预测特征图。\n",
    "        --num_anchors:\n",
    "            各预测特征图的每个grid的anchor数。一个list，元素个数应与pred_layerIds一致。\n",
    "        --pred_block:\n",
    "            定义预测头的模块\n",
    "        ---------------------------------------------------------------------------------------\n",
    "        对原有参数含义的调整：\n",
    "        --replace_stride_with_dilation:\n",
    "            源代码中其长度必须为3，改为其长度应与layers列表的长度一样。\n",
    "        '''\n",
    "        super(ResNetIsh_SSD, self).__init__()\n",
    "        if norm_layer is None:\n",
    "            norm_layer = nn.BatchNorm2d\n",
    "        self._norm_layer = norm_layer\n",
    "\n",
    "        self.inplanes = 64\n",
    "        self.dilation = 1\n",
    "        if replace_stride_with_dilation is None:\n",
    "            # each element in the tuple indicates if we should replace\n",
    "            # the 2x2 stride with a dilated convolution instead\n",
    "            replace_stride_with_dilation = [False for _ in layers]\n",
    "        if len(replace_stride_with_dilation) != len(layers):\n",
    "            raise ValueError(\"replace_stride_with_dilation should be None \"\n",
    "                             \"or it's elements should be same as layers, got {}\".format(replace_stride_with_dilation))\n",
    "        self.groups = groups\n",
    "        self.base_width = width_per_group\n",
    "        self.conv1 = nn.Conv2d(3, self.inplanes, kernel_size=7, stride=2, padding=3,\n",
    "                               bias=False)\n",
    "        self.bn1 = norm_layer(self.inplanes)\n",
    "        self.relu = nn.ReLU(inplace=True)\n",
    "        self.maxpool = nn.MaxPool2d(kernel_size=3, stride=2, padding=1)\n",
    "        \n",
    "        self.res_blocks = nn.ModuleList()\n",
    "        for i,ch,layer,stride,dilate in zip(range(len(chs)),chs,layers,strides,replace_stride_with_dilation):\n",
    "            self.res_blocks.append(self._make_layer(block, ch, layer, stride=stride, dilate=dilate))\n",
    "        \n",
    "        self.pred_layerIds = pred_layerIds\n",
    "        self.pred_blocks = nn.ModuleList()\n",
    "        for i in range(len(pred_layerIds)):\n",
    "            k = num_anchors[i]\n",
    "            ch_in = chs[pred_layerIds[i]]\n",
    "            self.pred_blocks.append(pred_block(k, ch_in, num_classes))\n",
    "        \n",
    "\n",
    "        for m in self.modules():\n",
    "            if isinstance(m, nn.Conv2d):\n",
    "                nn.init.kaiming_normal_(m.weight, mode='fan_out', nonlinearity='relu')\n",
    "            elif isinstance(m, (nn.BatchNorm2d, nn.GroupNorm)):\n",
    "                nn.init.constant_(m.weight, 1)\n",
    "                nn.init.constant_(m.bias, 0)\n",
    "\n",
    "        # Zero-initialize the last BN in each residual branch,\n",
    "        # so that the residual branch starts with zeros, and each residual block behaves like an identity.\n",
    "        # This improves the model by 0.2~0.3% according to https://arxiv.org/abs/1706.02677\n",
    "        if zero_init_residual:\n",
    "            for m in self.modules():\n",
    "                if isinstance(m, Bottleneck):\n",
    "                    nn.init.constant_(m.bn3.weight, 0)\n",
    "                elif isinstance(m, BasicBlock):\n",
    "                    nn.init.constant_(m.bn2.weight, 0)\n",
    "\n",
    "    def _make_layer(self, block, planes, blocks, stride=1, dilate=False):\n",
    "        norm_layer = self._norm_layer\n",
    "        downsample = None\n",
    "        previous_dilation = self.dilation\n",
    "        if dilate:\n",
    "            self.dilation *= stride\n",
    "            stride = 1\n",
    "        if stride != 1 or self.inplanes != planes * block.expansion:\n",
    "            downsample = nn.Sequential(\n",
    "                conv1x1(self.inplanes, planes * block.expansion, stride),\n",
    "                norm_layer(planes * block.expansion),\n",
    "            )\n",
    "\n",
    "        layers = []\n",
    "        layers.append(block(self.inplanes, planes, stride, downsample, self.groups,\n",
    "                            self.base_width, previous_dilation, norm_layer))\n",
    "        self.inplanes = planes * block.expansion\n",
    "        for _ in range(1, blocks):\n",
    "            layers.append(block(self.inplanes, planes, groups=self.groups,\n",
    "                                base_width=self.base_width, dilation=self.dilation,\n",
    "                                norm_layer=norm_layer))\n",
    "\n",
    "        return nn.Sequential(*layers)\n",
    "\n",
    "    def _forward_impl(self, x):\n",
    "        # See note [TorchScript super()]\n",
    "        x = self.conv1(x)\n",
    "        x = self.bn1(x)\n",
    "        x = self.relu(x)\n",
    "        x = self.maxpool(x)\n",
    "        \n",
    "        outs = []\n",
    "        for i in range(len(self.res_blocks)):\n",
    "            x = self.res_blocks[i](x)\n",
    "            if i in self.pred_layerIds:\n",
    "                outs += [self.pred_blocks[i-self.pred_layerIds[0]](x)]\n",
    "\n",
    "        return outs\n",
    "\n",
    "    def forward(self, x):\n",
    "        outs = self._forward_impl(x)\n",
    "        \n",
    "        locs,confs,clss,hws = [],[],[],[]\n",
    "        for out in outs:\n",
    "            locs += [out[0]]\n",
    "            confs += [out[1]]\n",
    "            clss += [out[2]]\n",
    "            hws += [out[3]]\n",
    "        \n",
    "        return (torch.cat(locs,dim=1),\n",
    "                torch.cat(confs,dim=1),\n",
    "                torch.cat(clss,dim=1),\n",
    "                torch.cat(hws,dim=1))"
   ]
  },
  {
   "cell_type": "markdown",
   "metadata": {
    "heading_collapsed": true
   },
   "source": [
    "### ResNetIsh_1SSD"
   ]
  },
  {
   "cell_type": "code",
   "execution_count": 11,
   "metadata": {
    "code_folding": [
     2
    ],
    "hidden": true
   },
   "outputs": [],
   "source": [
    "# export\n",
    "class ResNetIsh_1SSD(nn.Module):\n",
    "    def __init__(self, block, layers, chs, strides, pred_layerIds, num_anchors, neck_block, head_block, head_chin=256, num_classes=1000, \n",
    "                 zero_init_residual=False, groups=1, width_per_group=64, replace_stride_with_dilation=None,\n",
    "                 norm_layer=None):\n",
    "        '''\n",
    "        类名称的含义: ResNetIsh_SSD，其中Ish表示某某风格的，ResNetIsh表示resnet风格的，ResNetIsh_SSD表示resnet风格的骨架+SSD风格的预测头部。\n",
    "        resnet风格指其使用的基本模块与构造逻辑与resnet一致。\n",
    "        ---------------------------------------------------------------------------------------\n",
    "        修改自torchvision.models.resent.ResNet源码\n",
    "        ---------------------------------------------------------------------------------------\n",
    "        新增参数：\n",
    "        --chs:\n",
    "            各layer的channel数，其元素个数应与layers一致。\n",
    "        --strides:\n",
    "            各layer的stride，其元素个数应与layers一致。\n",
    "        --pred_layerIds:\n",
    "            用于预测的特征图（下面称为“预测特征图”，不规范的称谓）的层序号，其与layers对应，例如layers=[2,2,2,2,2]，\n",
    "            则pred_layerIds=[2,3,4]表示layers=[2,2,*2,*2,*2]中以*号标出的层的特征图作为预测特征图。\n",
    "        --num_anchors:\n",
    "            不同于ResNetIsh_SSD，本类要求num_anchors是一个整数，因为本类共用一个head。\n",
    "        --neck_block:\n",
    "            连接resnet特征图与预测头的模块\n",
    "        --head_block:\n",
    "            定义预测头的模块\n",
    "        --head_chin:\n",
    "            预测头的输入通道数\n",
    "        ---------------------------------------------------------------------------------------\n",
    "        对原有参数含义的调整：\n",
    "        --replace_stride_with_dilation:\n",
    "            源代码中其长度必须为3，改为其长度应与layers列表的长度一样。\n",
    "        '''\n",
    "        super(ResNetIsh_1SSD, self).__init__()\n",
    "        if norm_layer is None:\n",
    "            norm_layer = nn.BatchNorm2d\n",
    "        self._norm_layer = norm_layer\n",
    "\n",
    "        self.inplanes = 64\n",
    "        self.dilation = 1\n",
    "        if replace_stride_with_dilation is None:\n",
    "            # each element in the tuple indicates if we should replace\n",
    "            # the 2x2 stride with a dilated convolution instead\n",
    "            replace_stride_with_dilation = [False for _ in layers]\n",
    "        if len(replace_stride_with_dilation) != len(layers):\n",
    "            raise ValueError(\"replace_stride_with_dilation should be None \"\n",
    "                             \"or it's elements should be same as layers, got {}\".format(replace_stride_with_dilation))\n",
    "        self.groups = groups\n",
    "        self.base_width = width_per_group\n",
    "        self.conv1 = nn.Conv2d(3, self.inplanes, kernel_size=7, stride=2, padding=3,\n",
    "                               bias=False)\n",
    "        self.bn1 = norm_layer(self.inplanes)\n",
    "        self.relu = nn.ReLU(inplace=True)\n",
    "        self.maxpool = nn.MaxPool2d(kernel_size=3, stride=2, padding=1)\n",
    "        \n",
    "        self.res_blocks = nn.ModuleList()\n",
    "        for i,ch,layer,stride,dilate in zip(range(len(chs)),chs,layers,strides,replace_stride_with_dilation):\n",
    "            self.res_blocks.append(self._make_layer(block, ch, layer, stride=stride, dilate=dilate))\n",
    "        \n",
    "        self.pred_layerIds = pred_layerIds\n",
    "        #>>>>>>>>>>>>>>>>>>>>>>>>>>>>>\n",
    "#         self.pred_blocks = nn.ModuleList()\n",
    "#         for i in range(len(pred_layerIds)):\n",
    "#             k = num_anchors[i]\n",
    "#             ch_in = chs[pred_layerIds[i]]\n",
    "#             self.pred_blocks.append(pred_block(k, ch_in, num_classes))\n",
    "        ##############################\n",
    "        self.neck_blocks = nn.ModuleList()\n",
    "        for i in range(len(pred_layerIds)):\n",
    "            ch_in = chs[pred_layerIds[i]]\n",
    "            self.neck_blocks.append(neck_block(ch_in,head_chin))\n",
    "            \n",
    "        self.head_block = head_block(num_anchors, head_chin, num_classes)\n",
    "        #<<<<<<<<<<<<<<<<<<<<<<<<<<<<<\n",
    "        \n",
    "\n",
    "        for m in self.modules():\n",
    "            if isinstance(m, nn.Conv2d):\n",
    "                nn.init.kaiming_normal_(m.weight, mode='fan_out', nonlinearity='relu')\n",
    "            elif isinstance(m, (nn.BatchNorm2d, nn.GroupNorm)):\n",
    "                nn.init.constant_(m.weight, 1)\n",
    "                nn.init.constant_(m.bias, 0)\n",
    "\n",
    "        # Zero-initialize the last BN in each residual branch,\n",
    "        # so that the residual branch starts with zeros, and each residual block behaves like an identity.\n",
    "        # This improves the model by 0.2~0.3% according to https://arxiv.org/abs/1706.02677\n",
    "        if zero_init_residual:\n",
    "            for m in self.modules():\n",
    "                if isinstance(m, Bottleneck):\n",
    "                    nn.init.constant_(m.bn3.weight, 0)\n",
    "                elif isinstance(m, BasicBlock):\n",
    "                    nn.init.constant_(m.bn2.weight, 0)\n",
    "\n",
    "    def _make_layer(self, block, planes, blocks, stride=1, dilate=False):\n",
    "        norm_layer = self._norm_layer\n",
    "        downsample = None\n",
    "        previous_dilation = self.dilation\n",
    "        if dilate:\n",
    "            self.dilation *= stride\n",
    "            stride = 1\n",
    "        if stride != 1 or self.inplanes != planes * block.expansion:\n",
    "            downsample = nn.Sequential(\n",
    "                conv1x1(self.inplanes, planes * block.expansion, stride),\n",
    "                norm_layer(planes * block.expansion),\n",
    "            )\n",
    "\n",
    "        layers = []\n",
    "        layers.append(block(self.inplanes, planes, stride, downsample, self.groups,\n",
    "                            self.base_width, previous_dilation, norm_layer))\n",
    "        self.inplanes = planes * block.expansion\n",
    "        for _ in range(1, blocks):\n",
    "            layers.append(block(self.inplanes, planes, groups=self.groups,\n",
    "                                base_width=self.base_width, dilation=self.dilation,\n",
    "                                norm_layer=norm_layer))\n",
    "\n",
    "        return nn.Sequential(*layers)\n",
    "\n",
    "    def _forward_impl(self, x):\n",
    "        # See note [TorchScript super()]\n",
    "        x = self.conv1(x)\n",
    "        x = self.bn1(x)\n",
    "        x = self.relu(x)\n",
    "        x = self.maxpool(x)\n",
    "        \n",
    "        outs = []\n",
    "        for i in range(len(self.res_blocks)):\n",
    "            x = self.res_blocks[i](x)\n",
    "            if i in self.pred_layerIds:\n",
    "                #>>>>>>>>>>>>>>>>>>>>>>>>>>>>>>>\n",
    "#                 outs += [self.neck_blocks[i-self.pred_layerIds[0]](x)]\n",
    "                ################################\n",
    "                neck_out = self.neck_blocks[i-self.pred_layerIds[0]](x)\n",
    "                outs += [self.head_block(neck_out)]\n",
    "                #<<<<<<<<<<<<<<<<<<<<<<<<<<<<<<<\n",
    "\n",
    "        return outs\n",
    "\n",
    "    def forward(self, x):\n",
    "        outs = self._forward_impl(x)\n",
    "        \n",
    "        locs,confs,clss,hws = [],[],[],[]\n",
    "        for out in outs:\n",
    "            locs += [out[0]]\n",
    "            confs += [out[1]]\n",
    "            clss += [out[2]]\n",
    "            hws += [out[3]]\n",
    "        \n",
    "        return (torch.cat(locs,dim=1),\n",
    "                torch.cat(confs,dim=1),\n",
    "                torch.cat(clss,dim=1),\n",
    "                torch.cat(hws,dim=1))"
   ]
  },
  {
   "cell_type": "markdown",
   "metadata": {},
   "source": [
    "### conv1x1_bn_relu"
   ]
  },
  {
   "cell_type": "code",
   "execution_count": 12,
   "metadata": {},
   "outputs": [],
   "source": [
    "# export\n",
    "class cnv1x1_bn_relu(nn.Module):\n",
    "    def __init__(self, chin, chout):\n",
    "        '''\n",
    "        point-wise-conv + batchnorm + relu\n",
    "        '''\n",
    "        super().__init__()\n",
    "        self.pwConv = nn.Conv2d(chin,chout,1,bias=False)\n",
    "        self.bn = nn.BatchNorm2d(chout)\n",
    "        self.relu = nn.ReLU(inplace=True)\n",
    "        \n",
    "    def forward(self, x):\n",
    "        out = self.pwConv(x)\n",
    "        out = self.bn(out)\n",
    "        out = self.relu(out)\n",
    "        return out"
   ]
  },
  {
   "cell_type": "markdown",
   "metadata": {
    "heading_collapsed": true
   },
   "source": [
    "## test"
   ]
  },
  {
   "cell_type": "code",
   "execution_count": 14,
   "metadata": {
    "code_folding": [],
    "hidden": true
   },
   "outputs": [],
   "source": [
    "# 构建数据\n",
    "from ..exp.nb_databunch import *\n",
    "\n",
    "data = get_databunch(data_root='./data/ds_20200428/')\n",
    "x,y = data.one_batch(denorm=False)\n",
    "\n",
    "num_classes = len(data.train_ds.y.classes)-1"
   ]
  },
  {
   "cell_type": "markdown",
   "metadata": {
    "heading_collapsed": true,
    "hidden": true
   },
   "source": [
    "### ResNetIsh_SSD"
   ]
  },
  {
   "cell_type": "code",
   "execution_count": null,
   "metadata": {
    "code_folding": [],
    "hidden": true
   },
   "outputs": [],
   "source": [
    "# 构建模型\n",
    "m = ResNetIsh_SSD(block=torchvision.models.resnet.BasicBlock,\n",
    "                  layers=[2,2,2,2,2],\n",
    "                  chs=[64,128,256,512,1024],\n",
    "                  strides=[1,2,2,2,2],\n",
    "                  pred_layerIds=[2,3,4],\n",
    "                  num_anchors=[4,3,3],\n",
    "                  pred_block=ssd_block,\n",
    "                  num_classes=16)"
   ]
  },
  {
   "cell_type": "code",
   "execution_count": null,
   "metadata": {
    "code_folding": [
     0
    ],
    "hidden": true
   },
   "outputs": [],
   "source": [
    "# 跑一个batch\n",
    "pred = m(x)"
   ]
  },
  {
   "cell_type": "code",
   "execution_count": null,
   "metadata": {
    "code_folding": [],
    "hidden": true
   },
   "outputs": [],
   "source": [
    "# 查看输出的形状\n",
    "print(f'type(pred)={type(pred)}')\n",
    "print(f'len(pred)={len(pred)}')\n",
    "\n",
    "print('-----------------------')\n",
    "for p in pred:\n",
    "    print(p.shape)\n",
    "    \n",
    "print('-----------------------')\n",
    "print(49*49*4+25*25*3+13*13*3)"
   ]
  },
  {
   "cell_type": "markdown",
   "metadata": {
    "heading_collapsed": true,
    "hidden": true
   },
   "source": [
    "### ResNetIsh_1SSD"
   ]
  },
  {
   "cell_type": "code",
   "execution_count": null,
   "metadata": {
    "hidden": true
   },
   "outputs": [],
   "source": [
    "# 构建模型\n",
    "m = ResNetIsh_1SSD(block=torchvision.models.resnet.BasicBlock,\n",
    "                   layers=[2,2,2,2,2],\n",
    "                   chs=[64,128,256,512,1024],\n",
    "                   strides=[1,2,2,2,2],\n",
    "                   pred_layerIds=[2,3,4],\n",
    "                   num_anchors=4,\n",
    "                   neck_block=cnv1x1_bn_relu,\n",
    "                   head_chin=256,\n",
    "                   head_block=ssd_block,\n",
    "                   num_classes=16)"
   ]
  },
  {
   "cell_type": "code",
   "execution_count": null,
   "metadata": {
    "code_folding": [],
    "hidden": true
   },
   "outputs": [],
   "source": [
    "# 跑一个batch\n",
    "pred = m(x)"
   ]
  },
  {
   "cell_type": "code",
   "execution_count": null,
   "metadata": {
    "code_folding": [],
    "hidden": true
   },
   "outputs": [],
   "source": [
    "# 查看输出的形状\n",
    "print(f'type(pred)={type(pred)}')\n",
    "print(f'len(pred)={len(pred)}')\n",
    "\n",
    "print('-----------------------')\n",
    "for p in pred:\n",
    "    print(p.shape)\n",
    "    \n",
    "print('-----------------------')\n",
    "print(49*49*4+25*25*4+13*13*4)"
   ]
  },
  {
   "cell_type": "markdown",
   "metadata": {
    "hidden": true
   },
   "source": [
    "### ResNetIsh_1SSD_2"
   ]
  },
  {
   "cell_type": "code",
   "execution_count": null,
   "metadata": {
    "hidden": true
   },
   "outputs": [],
   "source": [
    "# 构建模型\n",
    "m = ResNetIsh_1SSD(block=torchvision.models.resnet.BasicBlock,\n",
    "                   layers=[2,2,2,2],\n",
    "                   chs=[64,128,256,512],\n",
    "                   strides=[1,2,2,2],\n",
    "                   pred_layerIds=[1,2,3],\n",
    "                   num_anchors=6,\n",
    "                   neck_block=cnv1x1_bn_relu,\n",
    "                   head_chin=128,\n",
    "                   head_block=ssd_block,\n",
    "                   num_classes=16)"
   ]
  },
  {
   "cell_type": "code",
   "execution_count": null,
   "metadata": {
    "code_folding": [],
    "hidden": true
   },
   "outputs": [],
   "source": [
    "# 跑一个batch\n",
    "pred = m(x)"
   ]
  },
  {
   "cell_type": "code",
   "execution_count": null,
   "metadata": {
    "code_folding": [],
    "hidden": true
   },
   "outputs": [],
   "source": [
    "# 查看输出的形状\n",
    "print(f'type(pred)={type(pred)}')\n",
    "print(f'len(pred)={len(pred)}')\n",
    "\n",
    "print('-----------------------')\n",
    "for p in pred:\n",
    "    print(p.shape)\n",
    "    \n",
    "print('-----------------------')\n",
    "print(99*99*6+49*49*6+25*25*6)"
   ]
  },
  {
   "cell_type": "markdown",
   "metadata": {
    "hidden": true
   },
   "source": [
    "### resnet34_1ssd"
   ]
  },
  {
   "cell_type": "code",
   "execution_count": 15,
   "metadata": {
    "hidden": true
   },
   "outputs": [],
   "source": [
    "# 构建模型\n",
    "m = ResNetIsh_1SSD(block=torchvision.models.resnet.BasicBlock,\n",
    "                   layers=[3,4,6,3],\n",
    "                   chs=[64,128,256,512],\n",
    "                   strides=[1,2,2,2],\n",
    "                   pred_layerIds=[1,2,3],\n",
    "                   num_anchors=6,\n",
    "                   neck_block=cnv1x1_bn_relu,\n",
    "                   head_chin=256,\n",
    "                   head_block=ssd_block,\n",
    "                   num_classes=16)"
   ]
  },
  {
   "cell_type": "code",
   "execution_count": 16,
   "metadata": {
    "code_folding": [],
    "hidden": true
   },
   "outputs": [],
   "source": [
    "# 跑一个batch\n",
    "pred = m(x)"
   ]
  },
  {
   "cell_type": "code",
   "execution_count": 18,
   "metadata": {
    "code_folding": [],
    "hidden": true
   },
   "outputs": [
    {
     "name": "stdout",
     "output_type": "stream",
     "text": [
      "type(pred)=<class 'tuple'>\n",
      "len(pred)=4\n",
      "-----------------------\n",
      "torch.Size([64, 74610, 2])\n",
      "torch.Size([64, 74610, 1])\n",
      "torch.Size([64, 74610, 16])\n",
      "torch.Size([64, 74610, 2])\n",
      "-----------------------\n",
      "74610\n"
     ]
    }
   ],
   "source": [
    "# 查看输出的形状\n",
    "print(f'type(pred)={type(pred)}')\n",
    "print(f'len(pred)={len(pred)}')\n",
    "\n",
    "print('-----------------------')\n",
    "for p in pred:\n",
    "    print(p.shape)\n",
    "    \n",
    "print('-----------------------')\n",
    "print(97*97*6+49*49*6+25*25*6)"
   ]
  },
  {
   "cell_type": "markdown",
   "metadata": {},
   "source": [
    "## zip as function"
   ]
  },
  {
   "cell_type": "code",
   "execution_count": null,
   "metadata": {},
   "outputs": [],
   "source": [
    "# export\n",
    "# 仅为其它模块测试的调用方便\n",
    "def get_resnet18_ssd():\n",
    "    return ResNetIsh_SSD(block=torchvision.models.resnet.BasicBlock,\n",
    "                         layers       =[ 2,   2,   2,   2,    2],\n",
    "                         chs          =[64, 128, 256, 512, 1024],\n",
    "                         strides      =[ 1,   2,   2,   2,    2],\n",
    "                         pred_layerIds=[           2,   3,    4],\n",
    "                         num_anchors  =[           4,   3,    3],\n",
    "                         pred_block=ssd_block,\n",
    "                         num_classes=16)"
   ]
  },
  {
   "cell_type": "code",
   "execution_count": null,
   "metadata": {},
   "outputs": [],
   "source": [
    "# export\n",
    "# 仅为其它模块测试的调用方便\n",
    "def get_resnet18_1ssd():\n",
    "    return ResNetIsh_1SSD(block=torchvision.models.resnet.BasicBlock,\n",
    "                          layers       =[ 2,   2,   2,   2,    2],\n",
    "                          chs          =[64, 128, 256, 512, 1024],\n",
    "                          strides      =[ 1,   2,   2,   2,    2],\n",
    "                          pred_layerIds=[           2,   3,    4],\n",
    "                          num_anchors  =4,\n",
    "                          neck_block=cnv1x1_bn_relu,\n",
    "                          head_chin=256,\n",
    "                          head_block=ssd_block,\n",
    "                          num_classes=16)"
   ]
  },
  {
   "cell_type": "code",
   "execution_count": null,
   "metadata": {},
   "outputs": [],
   "source": [
    "# export\n",
    "def get_resnet18_1ssd_2():\n",
    "    return ResNetIsh_1SSD(block=torchvision.models.resnet.BasicBlock,\n",
    "                           layers=[2,2,2,2],\n",
    "                           chs=[64,128,256,512],\n",
    "                           strides=[1,2,2,2],\n",
    "                           pred_layerIds=[1,2,3],\n",
    "                           num_anchors=6,\n",
    "                           neck_block=cnv1x1_bn_relu,\n",
    "                           head_chin=128,\n",
    "                           head_block=ssd_block,\n",
    "                           num_classes=16)"
   ]
  },
  {
   "cell_type": "code",
   "execution_count": 19,
   "metadata": {},
   "outputs": [],
   "source": [
    "# export\n",
    "def get_resnet34_1ssd():\n",
    "    return ResNetIsh_1SSD(block=torchvision.models.resnet.BasicBlock,\n",
    "                           layers=[3,4,6,3],\n",
    "                           chs=[64,128,256,512],\n",
    "                           strides=[1,2,2,2],\n",
    "                           pred_layerIds=[1,2,3],\n",
    "                           num_anchors=6,\n",
    "                           neck_block=cnv1x1_bn_relu,\n",
    "                           head_chin=256,\n",
    "                           head_block=ssd_block,\n",
    "                           num_classes=16)"
   ]
  },
  {
   "cell_type": "markdown",
   "metadata": {},
   "source": [
    "# export"
   ]
  },
  {
   "cell_type": "code",
   "execution_count": 20,
   "metadata": {
    "scrolled": true
   },
   "outputs": [
    {
     "name": "stdout",
     "output_type": "stream",
     "text": [
      "Converted resnet_ssd.ipynb to exp/nb_resnet_ssd.py\r\n"
     ]
    }
   ],
   "source": [
    "!python notebook2script.py --fname 'resnet_ssd.ipynb' --outputDir './exp/'"
   ]
  }
 ],
 "metadata": {
  "kernelspec": {
   "display_name": "Python 3",
   "language": "python",
   "name": "python3"
  },
  "language_info": {
   "codemirror_mode": {
    "name": "ipython",
    "version": 3
   },
   "file_extension": ".py",
   "mimetype": "text/x-python",
   "name": "python",
   "nbconvert_exporter": "python",
   "pygments_lexer": "ipython3",
   "version": "3.7.4"
  },
  "toc": {
   "base_numbering": 1,
   "nav_menu": {},
   "number_sections": true,
   "sideBar": true,
   "skip_h1_title": false,
   "title_cell": "Table of Contents",
   "title_sidebar": "Contents",
   "toc_cell": false,
   "toc_position": {},
   "toc_section_display": true,
   "toc_window_display": false
  }
 },
 "nbformat": 4,
 "nbformat_minor": 2
}
