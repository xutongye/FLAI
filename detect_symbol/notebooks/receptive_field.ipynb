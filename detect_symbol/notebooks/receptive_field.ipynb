{
 "cells": [
  {
   "cell_type": "markdown",
   "metadata": {},
   "source": [
    "关于感受野（receptive field）的概念和计算，请参考[该博客](https://www.cnblogs.com/ziytong/p/10697129.html)，或自行搜索该关键字。"
   ]
  },
  {
   "cell_type": "markdown",
   "metadata": {},
   "source": [
    "# import"
   ]
  },
  {
   "cell_type": "code",
   "execution_count": 5,
   "metadata": {},
   "outputs": [],
   "source": [
    "import matplotlib.pyplot as plt"
   ]
  },
  {
   "cell_type": "code",
   "execution_count": 2,
   "metadata": {},
   "outputs": [],
   "source": [
    "from fastai.vision import models"
   ]
  },
  {
   "cell_type": "code",
   "execution_count": 3,
   "metadata": {},
   "outputs": [],
   "source": [
    "from torch import nn"
   ]
  },
  {
   "cell_type": "code",
   "execution_count": 7,
   "metadata": {},
   "outputs": [],
   "source": [
    "from ..exp import nb_anchors_loss_metrics\n",
    "from ..exp import nb_resnet_ssd"
   ]
  },
  {
   "cell_type": "markdown",
   "metadata": {},
   "source": [
    "# config"
   ]
  },
  {
   "cell_type": "markdown",
   "metadata": {},
   "source": [
    "# compute receptive field"
   ]
  },
  {
   "cell_type": "markdown",
   "metadata": {},
   "source": [
    "## functions"
   ]
  },
  {
   "cell_type": "markdown",
   "metadata": {},
   "source": [
    "### featureMap_geometry"
   ]
  },
  {
   "cell_type": "markdown",
   "metadata": {},
   "source": [
    "**函数名称 featureMap_geometry 的说明：**  \n",
    "该函数的作用是分析各层的特征图的尺寸、感受野（receptive field)、jump，以及特征点起始中心（start），我们认为这些信息都是与几何相关的，所以用该名称。"
   ]
  },
  {
   "cell_type": "code",
   "execution_count": 4,
   "metadata": {},
   "outputs": [],
   "source": [
    "def featureMap_geometry(m:nn.Module, size_in:int, subBranchs:list=[]):\n",
    "    '''\n",
    "    参考：https://www.cnblogs.com/ziytong/p/10697129.html\n",
    "    --------------------\n",
    "    参数：\n",
    "    --m：神经网络模型，一个nn.Module对象\n",
    "    --size_in：输入图片尺寸，假定输入图片是方形的，所以只需（只能）指定一个维度上的尺寸\n",
    "    --subBranchs：分支模块的名称关键字。该函数只分析主干模块，不分析分支模块（例如resnet的残差连接），通过subBranchs指出模型定义中分支模块名称\n",
    "    包含的关键字，函数内部通过这些关键字来判断一个模块是否分支模块。\n",
    "    --------------------\n",
    "    输出：\n",
    "    --无返回值\n",
    "    --打印各主干模块名称和对应特征图的尺寸(n)、感受野（receptive field）、jump、以及边缘特征像素的中心点（start)\n",
    "    '''\n",
    "    def _is_main(mn):\n",
    "        \"内部函数，通过检查模块名字是否包含subBranchs中的关键字来判断其是否分支模块\"\n",
    "        is_sub = False\n",
    "        for sub in subBranchs:\n",
    "            is_sub = is_sub or (sub in mn)\n",
    "        return not is_sub\n",
    "    \n",
    "    ns = [size_in] # feature size\n",
    "    rs = [1] # receptive field\n",
    "    js = [1] # jump\n",
    "    starts = [0.5] # start center\n",
    "    mns = ['input'] # module names\n",
    "    \n",
    "    for mn,mm in m.named_modules():\n",
    "        if _is_main(mn) and (isinstance(mm,nn.Conv2d) or isinstance(mm,nn.MaxPool2d)):\n",
    "            mns += [mn]\n",
    "            \n",
    "            k = mm.kernel_size; k = k if isinstance(k,int) else k[0]\n",
    "            p = mm.padding; p = p if isinstance(p,int) else p[0]\n",
    "            s = mm.stride; s = s if isinstance(s,int) else s[0]\n",
    "            \n",
    "            ns += [int((ns[-1]+2*p-k)/s) + 1]\n",
    "            rs += [rs[-1] + (k-1)*js[-1]]\n",
    "            js += [js[-1] * s]\n",
    "            starts += [starts[-1] + ((k-1)/2-p)*js[-1]]\n",
    "            \n",
    "    for mn,n,r,j,start in zip(mns,ns,rs,js,starts):\n",
    "        print(f'{mn}: size={n},receptive={r},jump={j},start={start}')\n",
    "            "
   ]
  },
  {
   "cell_type": "markdown",
   "metadata": {},
   "source": [
    "## process"
   ]
  },
  {
   "cell_type": "code",
   "execution_count": 14,
   "metadata": {
    "code_folding": []
   },
   "outputs": [],
   "source": [
    "# 实例化你的模型\n",
    "m = models.resnet34()"
   ]
  },
  {
   "cell_type": "code",
   "execution_count": 8,
   "metadata": {},
   "outputs": [],
   "source": [
    "# m = nb_resnet_ssd.get_resnet34_1ssd()"
   ]
  },
  {
   "cell_type": "code",
   "execution_count": 15,
   "metadata": {
    "code_folding": []
   },
   "outputs": [
    {
     "name": "stdout",
     "output_type": "stream",
     "text": [
      "conv1\n",
      "maxpool\n",
      "layer1.0.conv1\n",
      "layer1.0.conv2\n",
      "layer1.1.conv1\n",
      "layer1.1.conv2\n",
      "layer1.2.conv1\n",
      "layer1.2.conv2\n",
      "layer2.0.conv1\n",
      "layer2.0.conv2\n",
      "layer2.0.downsample.0\n",
      "layer2.1.conv1\n",
      "layer2.1.conv2\n",
      "layer2.2.conv1\n",
      "layer2.2.conv2\n",
      "layer2.3.conv1\n",
      "layer2.3.conv2\n",
      "layer3.0.conv1\n",
      "layer3.0.conv2\n",
      "layer3.0.downsample.0\n",
      "layer3.1.conv1\n",
      "layer3.1.conv2\n",
      "layer3.2.conv1\n",
      "layer3.2.conv2\n",
      "layer3.3.conv1\n",
      "layer3.3.conv2\n",
      "layer3.4.conv1\n",
      "layer3.4.conv2\n",
      "layer3.5.conv1\n",
      "layer3.5.conv2\n",
      "layer4.0.conv1\n",
      "layer4.0.conv2\n",
      "layer4.0.downsample.0\n",
      "layer4.1.conv1\n",
      "layer4.1.conv2\n",
      "layer4.2.conv1\n",
      "layer4.2.conv2\n"
     ]
    }
   ],
   "source": [
    "# 观察模型内模块名称，找出分支模块名称的关键字\n",
    "for mn,mm in m.named_modules():\n",
    "    # 因为对特征图感受野等几何特征产生影响的只有conv和pool，我们只关心这两类模块\n",
    "    if isinstance(mm,nn.Conv2d) or isinstance(mm,nn.MaxPool2d) or isinstance(mm,nn.AvgPool2d):\n",
    "        print(mn)"
   ]
  },
  {
   "cell_type": "code",
   "execution_count": 16,
   "metadata": {
    "code_folding": []
   },
   "outputs": [],
   "source": [
    "# 根据前一单元的输出来指定分支模块名称中的关键字\n",
    "subBranchs = ['downsample']"
   ]
  },
  {
   "cell_type": "code",
   "execution_count": 17,
   "metadata": {
    "code_folding": []
   },
   "outputs": [],
   "source": [
    "# 指定输入图片尺寸\n",
    "size_in = 776"
   ]
  },
  {
   "cell_type": "code",
   "execution_count": 18,
   "metadata": {},
   "outputs": [
    {
     "name": "stdout",
     "output_type": "stream",
     "text": [
      "input: size=776,receptive=1,jump=1,start=0.5\n",
      "conv1: size=388,receptive=7,jump=2,start=0.5\n",
      "maxpool: size=194,receptive=11,jump=4,start=0.5\n",
      "layer1.0.conv1: size=194,receptive=19,jump=4,start=0.5\n",
      "layer1.0.conv2: size=194,receptive=27,jump=4,start=0.5\n",
      "layer1.1.conv1: size=194,receptive=35,jump=4,start=0.5\n",
      "layer1.1.conv2: size=194,receptive=43,jump=4,start=0.5\n",
      "layer1.2.conv1: size=194,receptive=51,jump=4,start=0.5\n",
      "layer1.2.conv2: size=194,receptive=59,jump=4,start=0.5\n",
      "layer2.0.conv1: size=97,receptive=67,jump=8,start=0.5\n",
      "layer2.0.conv2: size=97,receptive=83,jump=8,start=0.5\n",
      "layer2.1.conv1: size=97,receptive=99,jump=8,start=0.5\n",
      "layer2.1.conv2: size=97,receptive=115,jump=8,start=0.5\n",
      "layer2.2.conv1: size=97,receptive=131,jump=8,start=0.5\n",
      "layer2.2.conv2: size=97,receptive=147,jump=8,start=0.5\n",
      "layer2.3.conv1: size=97,receptive=163,jump=8,start=0.5\n",
      "layer2.3.conv2: size=97,receptive=179,jump=8,start=0.5\n",
      "layer3.0.conv1: size=49,receptive=195,jump=16,start=0.5\n",
      "layer3.0.conv2: size=49,receptive=227,jump=16,start=0.5\n",
      "layer3.1.conv1: size=49,receptive=259,jump=16,start=0.5\n",
      "layer3.1.conv2: size=49,receptive=291,jump=16,start=0.5\n",
      "layer3.2.conv1: size=49,receptive=323,jump=16,start=0.5\n",
      "layer3.2.conv2: size=49,receptive=355,jump=16,start=0.5\n",
      "layer3.3.conv1: size=49,receptive=387,jump=16,start=0.5\n",
      "layer3.3.conv2: size=49,receptive=419,jump=16,start=0.5\n",
      "layer3.4.conv1: size=49,receptive=451,jump=16,start=0.5\n",
      "layer3.4.conv2: size=49,receptive=483,jump=16,start=0.5\n",
      "layer3.5.conv1: size=49,receptive=515,jump=16,start=0.5\n",
      "layer3.5.conv2: size=49,receptive=547,jump=16,start=0.5\n",
      "layer4.0.conv1: size=25,receptive=579,jump=32,start=0.5\n",
      "layer4.0.conv2: size=25,receptive=643,jump=32,start=0.5\n",
      "layer4.1.conv1: size=25,receptive=707,jump=32,start=0.5\n",
      "layer4.1.conv2: size=25,receptive=771,jump=32,start=0.5\n",
      "layer4.2.conv1: size=25,receptive=835,jump=32,start=0.5\n",
      "layer4.2.conv2: size=25,receptive=899,jump=32,start=0.5\n"
     ]
    }
   ],
   "source": [
    "# 打印各“主干模块”的特征图的几何信息\n",
    "featureMap_geometry(m,size_in=size_in,subBranchs=subBranchs)"
   ]
  }
 ],
 "metadata": {
  "kernelspec": {
   "display_name": "Python 3",
   "language": "python",
   "name": "python3"
  },
  "language_info": {
   "codemirror_mode": {
    "name": "ipython",
    "version": 3
   },
   "file_extension": ".py",
   "mimetype": "text/x-python",
   "name": "python",
   "nbconvert_exporter": "python",
   "pygments_lexer": "ipython3",
   "version": "3.7.4"
  }
 },
 "nbformat": 4,
 "nbformat_minor": 2
}
